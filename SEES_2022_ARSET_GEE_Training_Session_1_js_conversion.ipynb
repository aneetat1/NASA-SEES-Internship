{
  "nbformat": 4,
  "nbformat_minor": 0,
  "metadata": {
    "kernelspec": {
      "display_name": "Python 3",
      "language": "python",
      "name": "python3"
    },
    "language_info": {
      "codemirror_mode": {
        "name": "ipython",
        "version": 3
      },
      "file_extension": ".py",
      "mimetype": "text/x-python",
      "name": "python",
      "nbconvert_exporter": "python",
      "pygments_lexer": "ipython3",
      "version": "3.8.5"
    },
    "colab": {
      "name": "SEES 2022 ARSET GEE Training Session 1 js conversion.ipynb",
      "provenance": [],
      "collapsed_sections": [],
      "include_colab_link": true
    }
  },
  "cells": [
    {
      "cell_type": "markdown",
      "metadata": {
        "id": "view-in-github",
        "colab_type": "text"
      },
      "source": [
        "<a href=\"https://colab.research.google.com/github/aneetat1/NASA-SEES-Internship/blob/main/SEES_2022_ARSET_GEE_Training_Session_1_js_conversion.ipynb\" target=\"_parent\"><img src=\"https://colab.research.google.com/assets/colab-badge.svg\" alt=\"Open In Colab\"/></a>"
      ]
    },
    {
      "cell_type": "markdown",
      "source": [
        "#Part 1: Google Earth Engine Basics and General Applications"
      ],
      "metadata": {
        "id": "CVNJdLaFnDq-"
      }
    },
    {
      "cell_type": "markdown",
      "source": [
        "## Basics Functions in GEE JavaScript API Activity converted to Python\n",
        "This Colab Jupyter notebook is adapted from Part 1: Google Earth Engine Basics and General Applications JavaScript code featured in the [ARSET - Using Google Earth Engine for Land Monitoring Applications](https://appliedsciences.nasa.gov/join-mission/training/english/arset-using-google-earth-engine-land-monitoring-applications) training series.<br>\n",
        "Not all GEE JavaScript interface features convert neatly to a Colab notebook. We will note which ones don't."
      ],
      "metadata": {
        "id": "9p7DkTrWOzfk"
      }
    },
    {
      "cell_type": "markdown",
      "metadata": {
        "id": "_LlKEmFE5lH6"
      },
      "source": [
        "## Import Earth Engine API and authenticate<a class=\"anchor\" id=\"import-api\"></a>\n",
        "\n",
        "The Earth Engine API is installed by default in Google Colaboratory. The following steps must be completed\n",
        "\n",
        "*   for each new Colab session,\n",
        "*   if you restart your Colab kernel, or \n",
        "*   if your Colab virtual machine is recycled due to inactivity.\n",
        "\n",
        "### Import the API\n",
        "\n",
        "Run the following cell to import the Google Earth Engine API into your session."
      ]
    },
    {
      "cell_type": "code",
      "metadata": {
        "id": "9C3M95OWjNX3"
      },
      "source": [
        "import ee"
      ],
      "execution_count": 2,
      "outputs": []
    },
    {
      "cell_type": "markdown",
      "metadata": {
        "id": "YXeeIfHx5lH6"
      },
      "source": [
        "### Authenticate and initialize\n",
        "\n",
        "Run the `ee.Authenticate` function to authenticate your access to Earth Engine servers and `ee.Initialize` to initialize it. Upon running the following cell you'll be asked to grant Earth Engine access to your Google account. Follow the instructions printed to the cell."
      ]
    },
    {
      "cell_type": "code",
      "metadata": {
        "id": "wJXov3EFGt5S",
        "colab": {
          "base_uri": "https://localhost:8080/"
        },
        "outputId": "bc9f397a-21ce-4200-bc63-c9fc2778fcbe"
      },
      "source": [
        "## Trigger the authentication flow. You only need to do this once\n",
        "ee.Authenticate()\n",
        "\n",
        "# Initialize the library.\n",
        "ee.Initialize()"
      ],
      "execution_count": 4,
      "outputs": [
        {
          "output_type": "stream",
          "name": "stdout",
          "text": [
            "To authorize access needed by Earth Engine, open the following URL in a web browser and follow the instructions. If the web browser does not start automatically, please manually browse the URL below.\n",
            "\n",
            "    https://code.earthengine.google.com/client-auth?scopes=https%3A//www.googleapis.com/auth/earthengine%20https%3A//www.googleapis.com/auth/devstorage.full_control&request_id=PM3klg_cjPgH0eF2R5MslU48cOwON7Ttx7BvPPQTAwM&tc=_jsN-v1ysHuEPvY-pWKCycuhGHaSfkzgh_Lj2nlote4&cc=g57gYk5I419o_0D4W0_UcJHFtqHe1SEHiIWCnl6fphs\n",
            "\n",
            "The authorization workflow will generate a code, which you should paste in the box below. \n",
            "Enter verification code: 4/1AdQt8qg3wxdxBWQ_5O90DIP5IRnZ0IG5KUnnZ4UBpnEbqOzniWS4CjB53AE\n",
            "\n",
            "Successfully saved authorization token.\n"
          ]
        }
      ]
    },
    {
      "cell_type": "markdown",
      "metadata": {
        "id": "nCuan1UgjNX2"
      },
      "source": [
        "## Install the geemap Python package\n",
        "\n",
        "Install the [Earth Engine Python API](https://developers.google.com/earth-engine/python_install) and [geemap](https://github.com/giswqs/geemap). The **geemap** Python package is built upon the [ipyleaflet](https://github.com/jupyter-widgets/ipyleaflet) and [folium](https://github.com/python-visualization/folium) packages and implements several methods for interacting with Earth Engine data layers, such as `Map.addLayer()`, `Map.setCenter()`, and `Map.centerObject()`.\n",
        "The following script checks if the geemap package has been installed. If not, it will install geemap, which automatically installs its [dependencies](https://github.com/giswqs/geemap#dependencies), including earthengine-api and folium for map display. One dependency not installed here is ipyleaflet, since Colab sadly does not support it.\n",
        "\n",
        "With **geemap** installed, we do not have to write our own **folium** display function.<br>\n",
        "In July 2022, it became necessary to explicitly import the folium option, as demonstrated in the next code cell. Note the setup of the next code cell. It makes for a 'neater' import process."
      ]
    },
    {
      "cell_type": "code",
      "metadata": {
        "id": "r4Gxi5qjjNX2",
        "colab": {
          "base_uri": "https://localhost:8080/",
          "height": 52
        },
        "outputId": "2be02ecb-1c36-4854-d51f-006922646f88"
      },
      "source": [
        "# Installs geemap package with folium\n",
        "import subprocess\n",
        "\n",
        "try:\n",
        "    import geemap.eefolium as geemap\n",
        "    print(\"geemap is imported and ready to use in Colab\")\n",
        "except ImportError:\n",
        "    print('geemap package not installed. Installing ...')\n",
        "    subprocess.check_call([\"python\", '-m', 'pip', 'install', 'geemap'])\n",
        "    import geemap.eefolium as geemap\n",
        "    print(\"geemap is now installed, imported and ready to use in Colab\") \n"
      ],
      "execution_count": 5,
      "outputs": [
        {
          "output_type": "stream",
          "name": "stdout",
          "text": [
            "geemap package not installed. Installing ...\n",
            "geemap is now installed, imported and ready to use in Colab\n"
          ]
        }
      ]
    },
    {
      "cell_type": "markdown",
      "metadata": {
        "id": "B8ORhbcT4wRg"
      },
      "source": [
        "# Basics Functions in GEE Colab & geemap Activity\n",
        "\n",
        "Here the Javascript code (link on slide 23 of the ARSET Session 1) is converted into Python.\n",
        "\n",
        "[Link to Presentation Slides PDF](http://appliedsciences.nasa.gov/sites/default/files/2021-06/GEE_Land_Part1_0.pdf)\n",
        "\n",
        "From ARSET training **Part 1: Google Earth Engine Basics and General Applications**\n",
        "*Wednesday, June 16, 2021*\n",
        "\n",
        "\n"
      ]
    },
    {
      "cell_type": "markdown",
      "metadata": {
        "id": "6BWRkB_v5-18"
      },
      "source": [
        "## Create an map with multiple vegetation index layers"
      ]
    },
    {
      "cell_type": "markdown",
      "source": [
        "###Define point of interest to spatially filter data. "
      ],
      "metadata": {
        "id": "6E0zoX-MRdMK"
      }
    },
    {
      "cell_type": "code",
      "source": [
        "# ee.Geometry.Point() function is demonstrated here. \n",
        "# line 3 in js example\n",
        "point = ee.Geometry.Point([-122.292, 37.9018]) "
      ],
      "metadata": {
        "id": "NwpZPgkhRjXv"
      },
      "execution_count": 6,
      "outputs": []
    },
    {
      "cell_type": "markdown",
      "source": [
        "###Import the Landsat 8 Surface Reflectance image collection."
      ],
      "metadata": {
        "id": "EjXrOySyRXb8"
      }
    },
    {
      "cell_type": "code",
      "source": [
        "# line 6 in js example\n",
        "l8 = ee.ImageCollection('LANDSAT/LC08/C01/T1_SR')"
      ],
      "metadata": {
        "id": "k2NruBmDRvMu"
      },
      "execution_count": 7,
      "outputs": []
    },
    {
      "cell_type": "markdown",
      "source": [
        "### Get the least cloudy image in May 2021. \n",
        "Note use of back slashes for code legibility."
      ],
      "metadata": {
        "id": "YObmjejuRzil"
      }
    },
    {
      "cell_type": "code",
      "source": [
        "# lines 9-14 in js example\n",
        "# First step is to filter spatially\n",
        "image = ee.Image(l8.filterBounds(point) \\\n",
        "                 # next filter by date - month of May\n",
        "                 .filterDate('2021-05-01', '2021-05-31') \\\n",
        "                 # use CLOUD_COVER metadata to sort from clearest\n",
        "                 # to cloudiest pixels\n",
        "                 .sort('CLOUD_COVER') \\\n",
        "                 # get the first values in the sorted image\n",
        "                 .first())"
      ],
      "metadata": {
        "id": "OKeEfTaoR99A"
      },
      "execution_count": 8,
      "outputs": []
    },
    {
      "cell_type": "markdown",
      "source": [
        "### View selected image metadata \n",
        "Get information about the bands as a list."
      ],
      "metadata": {
        "id": "icZl1Ca3SEQG"
      }
    },
    {
      "cell_type": "code",
      "source": [
        "# variation on line 17 in js example\n",
        "# All metadata.\n",
        "print('All image metadata:')\n",
        "meta = image.getInfo()\n",
        "print(\"meta is data type\", type(meta))\n",
        "for k in meta.keys():\n",
        "  print(k, meta[k])\n",
        "print()\n",
        "print('Image band names:')\n",
        "band_names = image.bandNames()\n",
        "# Get a list of band names\n",
        "bn = band_names.getInfo()\n",
        "# Use a for loop to print each value in the list\n",
        "for b in bn:\n",
        "  print(b)  # ee.List of band names\n",
        "print()"
      ],
      "metadata": {
        "id": "jrzgyhKRSKpd",
        "colab": {
          "base_uri": "https://localhost:8080/"
        },
        "outputId": "b1c960e9-0035-42a2-9b55-9df71df21577"
      },
      "execution_count": 9,
      "outputs": [
        {
          "output_type": "stream",
          "name": "stdout",
          "text": [
            "All image metadata:\n",
            "meta is data type <class 'dict'>\n",
            "type Image\n",
            "bands [{'id': 'B1', 'data_type': {'type': 'PixelType', 'precision': 'int', 'min': -32768, 'max': 32767}, 'dimensions': [7681, 7801], 'crs': 'EPSG:32610', 'crs_transform': [30, 0, 463185, 0, -30, 4264515]}, {'id': 'B2', 'data_type': {'type': 'PixelType', 'precision': 'int', 'min': -32768, 'max': 32767}, 'dimensions': [7681, 7801], 'crs': 'EPSG:32610', 'crs_transform': [30, 0, 463185, 0, -30, 4264515]}, {'id': 'B3', 'data_type': {'type': 'PixelType', 'precision': 'int', 'min': -32768, 'max': 32767}, 'dimensions': [7681, 7801], 'crs': 'EPSG:32610', 'crs_transform': [30, 0, 463185, 0, -30, 4264515]}, {'id': 'B4', 'data_type': {'type': 'PixelType', 'precision': 'int', 'min': -32768, 'max': 32767}, 'dimensions': [7681, 7801], 'crs': 'EPSG:32610', 'crs_transform': [30, 0, 463185, 0, -30, 4264515]}, {'id': 'B5', 'data_type': {'type': 'PixelType', 'precision': 'int', 'min': -32768, 'max': 32767}, 'dimensions': [7681, 7801], 'crs': 'EPSG:32610', 'crs_transform': [30, 0, 463185, 0, -30, 4264515]}, {'id': 'B6', 'data_type': {'type': 'PixelType', 'precision': 'int', 'min': -32768, 'max': 32767}, 'dimensions': [7681, 7801], 'crs': 'EPSG:32610', 'crs_transform': [30, 0, 463185, 0, -30, 4264515]}, {'id': 'B7', 'data_type': {'type': 'PixelType', 'precision': 'int', 'min': -32768, 'max': 32767}, 'dimensions': [7681, 7801], 'crs': 'EPSG:32610', 'crs_transform': [30, 0, 463185, 0, -30, 4264515]}, {'id': 'B10', 'data_type': {'type': 'PixelType', 'precision': 'int', 'min': -32768, 'max': 32767}, 'dimensions': [7681, 7801], 'crs': 'EPSG:32610', 'crs_transform': [30, 0, 463185, 0, -30, 4264515]}, {'id': 'B11', 'data_type': {'type': 'PixelType', 'precision': 'int', 'min': -32768, 'max': 32767}, 'dimensions': [7681, 7801], 'crs': 'EPSG:32610', 'crs_transform': [30, 0, 463185, 0, -30, 4264515]}, {'id': 'sr_aerosol', 'data_type': {'type': 'PixelType', 'precision': 'int', 'min': 0, 'max': 255}, 'dimensions': [7681, 7801], 'crs': 'EPSG:32610', 'crs_transform': [30, 0, 463185, 0, -30, 4264515]}, {'id': 'pixel_qa', 'data_type': {'type': 'PixelType', 'precision': 'int', 'min': 0, 'max': 65535}, 'dimensions': [7681, 7801], 'crs': 'EPSG:32610', 'crs_transform': [30, 0, 463185, 0, -30, 4264515]}, {'id': 'radsat_qa', 'data_type': {'type': 'PixelType', 'precision': 'int', 'min': 0, 'max': 65535}, 'dimensions': [7681, 7801], 'crs': 'EPSG:32610', 'crs_transform': [30, 0, 463185, 0, -30, 4264515]}]\n",
            "id LANDSAT/LC08/C01/T1_SR/LC08_044034_20210508\n",
            "version 1621414443009982\n",
            "properties {'IMAGE_QUALITY_TIRS': 9, 'CLOUD_COVER': 0.07, 'EARTH_SUN_DISTANCE': 1.009459, 'LANDSAT_ID': 'LC08_L1TP_044034_20210508_20210518_01_T1', 'system:footprint': {'type': 'LinearRing', 'coordinates': [[-121.36331829891107, 36.414136168058924], [-121.36259005834108, 36.41580695510806], [-121.0869652065976, 37.30448083210336], [-121.05694215125779, 37.40008590906185], [-121.03994312483498, 37.45415007850891], [-120.98506345486018, 37.62842317347145], [-120.950431975161, 37.73813239195585], [-120.9014619032438, 37.89272172623737], [-120.88169213282735, 37.95501217111983], [-120.85105585980882, 38.051755443933374], [-120.82584473388012, 38.131324345899245], [-120.82579609497078, 38.132962350591924], [-121.4382289732089, 38.25258968387084], [-122.73783812442701, 38.49466686436965], [-122.89949895633599, 38.52366155253741], [-122.90577826441216, 38.50228936640796], [-123.39010375106095, 36.803585842952984], [-122.96116083422794, 36.7243572091439], [-121.36331829891107, 36.414136168058924]]}, 'CLOUD_COVER_LAND': 0.09, 'GEOMETRIC_RMSE_MODEL': 6.127, 'SR_APP_VERSION': 'LaSRC_1.3.0', 'SATELLITE': 'LANDSAT_8', 'SOLAR_AZIMUTH_ANGLE': 133.782669, 'IMAGE_QUALITY_OLI': 9, 'system:time_end': 1620499535196, 'WRS_PATH': 44, 'system:time_start': 1620499535196, 'SENSING_TIME': '2021-05-08T18:45:35.1969950Z', 'ESPA_VERSION': '2_23_0_1b', 'SOLAR_ZENITH_ANGLE': 26.658699, 'WRS_ROW': 34, 'GEOMETRIC_RMSE_MODEL_Y': 4.099, 'LEVEL1_PRODUCTION_DATE': 1621297453000, 'GEOMETRIC_RMSE_MODEL_X': 4.554, 'system:asset_size': 602138064, 'PIXEL_QA_VERSION': 'generate_pixel_qa_1.6.0', 'system:index': 'LC08_044034_20210508'}\n",
            "\n",
            "Image band names:\n",
            "B1\n",
            "B2\n",
            "B3\n",
            "B4\n",
            "B5\n",
            "B6\n",
            "B7\n",
            "B10\n",
            "B11\n",
            "sr_aerosol\n",
            "pixel_qa\n",
            "radsat_qa\n",
            "\n"
          ]
        }
      ]
    },
    {
      "cell_type": "markdown",
      "source": [
        "### Select and rename Landsat spectral bands"
      ],
      "metadata": {
        "id": "6VWB70xcSQ-Z"
      }
    },
    {
      "cell_type": "code",
      "source": [
        "# like line 20 in js example \n",
        "image = image.select(['B5','B4','B2'],['nir','red','blue']) "
      ],
      "metadata": {
        "id": "Mc5G0SKNSXPU"
      },
      "execution_count": 10,
      "outputs": []
    },
    {
      "cell_type": "markdown",
      "source": [
        "### Compute the Normalized Difference Vegetation Index (NDVI). \n",
        "## NDVI = (NIR - Red) / (NIR + Red)"
      ],
      "metadata": {
        "id": "NLfrlzq4Sdr6"
      }
    },
    {
      "cell_type": "code",
      "source": [
        "# ndvi = nir.subtract(red).divide(nir.add(red)).rename('NDVI') # doesn't work\n",
        "# like line 25 in js example\n",
        "ndvi = image.normalizedDifference(['nir','red'])"
      ],
      "metadata": {
        "id": "WZvTXfaoSsTj"
      },
      "execution_count": 11,
      "outputs": []
    },
    {
      "cell_type": "markdown",
      "source": [
        "### Create an empty map and display NDVI results\n",
        "Note that the display parameters used for the NDVI calculation are simplistic. Also note that we have not specified where to focus the map display. You will see a Google base map of the entire world and won't be able to discern the NDVI data.  Can't find the NDVI map? Zoom into the San Francisco Bay area. The NDVI map will become discernable.<br>\n",
        "You can clear the code output when you are done investigating."
      ],
      "metadata": {
        "id": "V3QUuqKQS5Xu"
      }
    },
    {
      "cell_type": "code",
      "source": [
        "# like lines 28-29 in js example \n",
        "ndviParams = {'min': -1, 'max': 1, 'palette': ['blue', 'white', 'green']}\n",
        "Map = geemap.Map()  # Create an empty map  \n",
        "Map.addLayer(ndvi, ndviParams, 'NDVI image')\n",
        "Map"
      ],
      "metadata": {
        "id": "zUaIuuTKTAqA",
        "colab": {
          "base_uri": "https://localhost:8080/",
          "height": 712
        },
        "outputId": "79961918-346b-486c-a013-4246bd4ebaf5"
      },
      "execution_count": 12,
      "outputs": [
        {
          "output_type": "execute_result",
          "data": {
            "text/plain": [
              "<geemap.eefolium.Map at 0x7f26e7d78e10>"
            ],
            "text/html": [
              "<div style=\"width:100%;\"><div style=\"position:relative;width:100%;height:0;padding-bottom:60%;\"><span style=\"color:#565656\">Make this Notebook Trusted to load map: File -> Trust Notebook</span><iframe srcdoc=\"&lt;!DOCTYPE html&gt;\n",
              "&lt;head&gt;    \n",
              "    &lt;meta http-equiv=&quot;content-type&quot; content=&quot;text/html; charset=UTF-8&quot; /&gt;\n",
              "    \n",
              "        &lt;script&gt;\n",
              "            L_NO_TOUCH = false;\n",
              "            L_DISABLE_3D = false;\n",
              "        &lt;/script&gt;\n",
              "    \n",
              "    &lt;style&gt;html, body {width: 100%;height: 100%;margin: 0;padding: 0;}&lt;/style&gt;\n",
              "    &lt;style&gt;#map {position:absolute;top:0;bottom:0;right:0;left:0;}&lt;/style&gt;\n",
              "    &lt;script src=&quot;https://cdn.jsdelivr.net/npm/leaflet@1.6.0/dist/leaflet.js&quot;&gt;&lt;/script&gt;\n",
              "    &lt;script src=&quot;https://code.jquery.com/jquery-1.12.4.min.js&quot;&gt;&lt;/script&gt;\n",
              "    &lt;script src=&quot;https://maxcdn.bootstrapcdn.com/bootstrap/3.2.0/js/bootstrap.min.js&quot;&gt;&lt;/script&gt;\n",
              "    &lt;script src=&quot;https://cdnjs.cloudflare.com/ajax/libs/Leaflet.awesome-markers/2.0.2/leaflet.awesome-markers.js&quot;&gt;&lt;/script&gt;\n",
              "    &lt;link rel=&quot;stylesheet&quot; href=&quot;https://cdn.jsdelivr.net/npm/leaflet@1.6.0/dist/leaflet.css&quot;/&gt;\n",
              "    &lt;link rel=&quot;stylesheet&quot; href=&quot;https://maxcdn.bootstrapcdn.com/bootstrap/3.2.0/css/bootstrap.min.css&quot;/&gt;\n",
              "    &lt;link rel=&quot;stylesheet&quot; href=&quot;https://maxcdn.bootstrapcdn.com/bootstrap/3.2.0/css/bootstrap-theme.min.css&quot;/&gt;\n",
              "    &lt;link rel=&quot;stylesheet&quot; href=&quot;https://maxcdn.bootstrapcdn.com/font-awesome/4.6.3/css/font-awesome.min.css&quot;/&gt;\n",
              "    &lt;link rel=&quot;stylesheet&quot; href=&quot;https://cdnjs.cloudflare.com/ajax/libs/Leaflet.awesome-markers/2.0.2/leaflet.awesome-markers.css&quot;/&gt;\n",
              "    &lt;link rel=&quot;stylesheet&quot; href=&quot;https://cdn.jsdelivr.net/gh/python-visualization/folium/folium/templates/leaflet.awesome.rotate.min.css&quot;/&gt;\n",
              "    \n",
              "            &lt;meta name=&quot;viewport&quot; content=&quot;width=device-width,\n",
              "                initial-scale=1.0, maximum-scale=1.0, user-scalable=no&quot; /&gt;\n",
              "            &lt;style&gt;\n",
              "                #map_e3745b5c4bd1fe155be036e3fd504204 {\n",
              "                    position: relative;\n",
              "                    width: 100.0%;\n",
              "                    height: 100.0%;\n",
              "                    left: 0.0%;\n",
              "                    top: 0.0%;\n",
              "                }\n",
              "            &lt;/style&gt;\n",
              "        \n",
              "    &lt;script src=&quot;https://cdnjs.cloudflare.com/ajax/libs/leaflet.fullscreen/1.4.2/Control.FullScreen.min.js&quot;&gt;&lt;/script&gt;\n",
              "    &lt;link rel=&quot;stylesheet&quot; href=&quot;https://cdnjs.cloudflare.com/ajax/libs/leaflet.fullscreen/1.4.2/Control.FullScreen.min.css&quot;/&gt;\n",
              "&lt;/head&gt;\n",
              "&lt;body&gt;    \n",
              "    \n",
              "            &lt;div class=&quot;folium-map&quot; id=&quot;map_e3745b5c4bd1fe155be036e3fd504204&quot; &gt;&lt;/div&gt;\n",
              "        \n",
              "&lt;/body&gt;\n",
              "&lt;script&gt;    \n",
              "    \n",
              "            var map_e3745b5c4bd1fe155be036e3fd504204 = L.map(\n",
              "                &quot;map_e3745b5c4bd1fe155be036e3fd504204&quot;,\n",
              "                {\n",
              "                    center: [20.0, 0.0],\n",
              "                    crs: L.CRS.EPSG3857,\n",
              "                    zoom: 2,\n",
              "                    zoomControl: true,\n",
              "                    preferCanvas: false,\n",
              "                    eeInitialize: true,\n",
              "                    addGoogleMap: true,\n",
              "                    pluginLatlngpopup: true,\n",
              "                    pluginFullscreen: true,\n",
              "                    pluginDraw: false,\n",
              "                    DrawExport: true,\n",
              "                    pluginMinimap: false,\n",
              "                    pluginLayercontrol: false,\n",
              "                }\n",
              "            );\n",
              "\n",
              "            \n",
              "\n",
              "        \n",
              "    \n",
              "            var tile_layer_ea1e27e393c42ebef0f00718bec3f3ef = L.tileLayer(\n",
              "                &quot;https://{s}.tile.openstreetmap.org/{z}/{x}/{y}.png&quot;,\n",
              "                {&quot;attribution&quot;: &quot;Data by \\u0026copy; \\u003ca href=\\&quot;http://openstreetmap.org\\&quot;\\u003eOpenStreetMap\\u003c/a\\u003e, under \\u003ca href=\\&quot;http://www.openstreetmap.org/copyright\\&quot;\\u003eODbL\\u003c/a\\u003e.&quot;, &quot;detectRetina&quot;: false, &quot;maxNativeZoom&quot;: 18, &quot;maxZoom&quot;: 18, &quot;minZoom&quot;: 0, &quot;noWrap&quot;: false, &quot;opacity&quot;: 1, &quot;subdomains&quot;: &quot;abc&quot;, &quot;tms&quot;: false}\n",
              "            ).addTo(map_e3745b5c4bd1fe155be036e3fd504204);\n",
              "        \n",
              "    \n",
              "            var tile_layer_27bbed89bed2d16c68c3c22e94c14875 = L.tileLayer(\n",
              "                &quot;https://mt1.google.com/vt/lyrs=m\\u0026x={x}\\u0026y={y}\\u0026z={z}&quot;,\n",
              "                {&quot;attribution&quot;: &quot;Google&quot;, &quot;detectRetina&quot;: false, &quot;maxNativeZoom&quot;: 18, &quot;maxZoom&quot;: 18, &quot;minZoom&quot;: 0, &quot;noWrap&quot;: false, &quot;opacity&quot;: 1, &quot;subdomains&quot;: &quot;abc&quot;, &quot;tms&quot;: false}\n",
              "            ).addTo(map_e3745b5c4bd1fe155be036e3fd504204);\n",
              "        \n",
              "    \n",
              "                var lat_lng_popup_7533f5fd7bc2b7b81dc94d2362c20dd5 = L.popup();\n",
              "                function latLngPop(e) {\n",
              "                    lat_lng_popup_7533f5fd7bc2b7b81dc94d2362c20dd5\n",
              "                        .setLatLng(e.latlng)\n",
              "                        .setContent(&quot;Latitude: &quot; + e.latlng.lat.toFixed(4) +\n",
              "                                    &quot;&lt;br&gt;Longitude: &quot; + e.latlng.lng.toFixed(4))\n",
              "                        .openOn(map_e3745b5c4bd1fe155be036e3fd504204);\n",
              "                    }\n",
              "                map_e3745b5c4bd1fe155be036e3fd504204.on(&#x27;click&#x27;, latLngPop);\n",
              "            \n",
              "    \n",
              "            L.control.fullscreen(\n",
              "                {&quot;forceSeparateButton&quot;: false, &quot;position&quot;: &quot;topleft&quot;, &quot;title&quot;: &quot;Full Screen&quot;, &quot;titleCancel&quot;: &quot;Exit Full Screen&quot;}\n",
              "            ).addTo(map_e3745b5c4bd1fe155be036e3fd504204);\n",
              "        \n",
              "    \n",
              "            map_e3745b5c4bd1fe155be036e3fd504204.fitBounds(\n",
              "                [[20, 0], [20, 0]],\n",
              "                {&quot;maxZoom&quot;: 2}\n",
              "            );\n",
              "        \n",
              "    \n",
              "            var tile_layer_174d2c693a81a15ab58737bfe2dfb03b = L.tileLayer(\n",
              "                &quot;https://earthengine.googleapis.com/v1alpha/projects/earthengine-legacy/maps/852da5f291efea64c1597c2425993832-95ac827c57caae7f40d459d8817d39f7/tiles/{z}/{x}/{y}&quot;,\n",
              "                {&quot;attribution&quot;: &quot;Google Earth Engine&quot;, &quot;detectRetina&quot;: false, &quot;maxNativeZoom&quot;: 18, &quot;maxZoom&quot;: 18, &quot;minZoom&quot;: 0, &quot;noWrap&quot;: false, &quot;opacity&quot;: 1.0, &quot;subdomains&quot;: &quot;abc&quot;, &quot;tms&quot;: false}\n",
              "            ).addTo(map_e3745b5c4bd1fe155be036e3fd504204);\n",
              "        \n",
              "    \n",
              "            var layer_control_1ecbb45208833b2196f6c6c683e67daa = {\n",
              "                base_layers : {\n",
              "                    &quot;openstreetmap&quot; : tile_layer_ea1e27e393c42ebef0f00718bec3f3ef,\n",
              "                },\n",
              "                overlays :  {\n",
              "                    &quot;Google Maps&quot; : tile_layer_27bbed89bed2d16c68c3c22e94c14875,\n",
              "                    &quot;NDVI image&quot; : tile_layer_174d2c693a81a15ab58737bfe2dfb03b,\n",
              "                },\n",
              "            };\n",
              "            L.control.layers(\n",
              "                layer_control_1ecbb45208833b2196f6c6c683e67daa.base_layers,\n",
              "                layer_control_1ecbb45208833b2196f6c6c683e67daa.overlays,\n",
              "                {&quot;autoZIndex&quot;: true, &quot;collapsed&quot;: true, &quot;position&quot;: &quot;topright&quot;}\n",
              "            ).addTo(map_e3745b5c4bd1fe155be036e3fd504204);\n",
              "        \n",
              "&lt;/script&gt;\" style=\"position:absolute;width:100%;height:100%;left:0;top:0;border:none !important;\" allowfullscreen webkitallowfullscreen mozallowfullscreen></iframe></div></div>"
            ]
          },
          "metadata": {},
          "execution_count": 12
        }
      ]
    },
    {
      "cell_type": "markdown",
      "source": [
        "###Display the NDVI results on a zoomed in map\n",
        "Remember that we used a geometric point to filter the Landsat image tiles. We can use the same point to zoom in to the NDVI map.<br>\n",
        "You can play around with the zoom factor (9 in the code sample) to see what changes. <br>\n",
        "If you want, clear the map output after you are done. One reason to do so is that it can be easy for your cursor to get lost in the map."
      ],
      "metadata": {
        "id": "F9QLzUY5bBF5"
      }
    },
    {
      "cell_type": "code",
      "source": [
        "Map.centerObject(point, 9)\n",
        "Map"
      ],
      "metadata": {
        "id": "GlTWHcAJbVaQ",
        "colab": {
          "base_uri": "https://localhost:8080/",
          "height": 712
        },
        "outputId": "6158fc72-7ef9-4969-993a-9d93dec16c15"
      },
      "execution_count": 13,
      "outputs": [
        {
          "output_type": "execute_result",
          "data": {
            "text/plain": [
              "<geemap.eefolium.Map at 0x7f26e7d78e10>"
            ],
            "text/html": [
              "<div style=\"width:100%;\"><div style=\"position:relative;width:100%;height:0;padding-bottom:60%;\"><span style=\"color:#565656\">Make this Notebook Trusted to load map: File -> Trust Notebook</span><iframe srcdoc=\"&lt;!DOCTYPE html&gt;\n",
              "&lt;head&gt;    \n",
              "    &lt;meta http-equiv=&quot;content-type&quot; content=&quot;text/html; charset=UTF-8&quot; /&gt;\n",
              "    \n",
              "        &lt;script&gt;\n",
              "            L_NO_TOUCH = false;\n",
              "            L_DISABLE_3D = false;\n",
              "        &lt;/script&gt;\n",
              "    \n",
              "    &lt;style&gt;html, body {width: 100%;height: 100%;margin: 0;padding: 0;}&lt;/style&gt;\n",
              "    &lt;style&gt;#map {position:absolute;top:0;bottom:0;right:0;left:0;}&lt;/style&gt;\n",
              "    &lt;script src=&quot;https://cdn.jsdelivr.net/npm/leaflet@1.6.0/dist/leaflet.js&quot;&gt;&lt;/script&gt;\n",
              "    &lt;script src=&quot;https://code.jquery.com/jquery-1.12.4.min.js&quot;&gt;&lt;/script&gt;\n",
              "    &lt;script src=&quot;https://maxcdn.bootstrapcdn.com/bootstrap/3.2.0/js/bootstrap.min.js&quot;&gt;&lt;/script&gt;\n",
              "    &lt;script src=&quot;https://cdnjs.cloudflare.com/ajax/libs/Leaflet.awesome-markers/2.0.2/leaflet.awesome-markers.js&quot;&gt;&lt;/script&gt;\n",
              "    &lt;link rel=&quot;stylesheet&quot; href=&quot;https://cdn.jsdelivr.net/npm/leaflet@1.6.0/dist/leaflet.css&quot;/&gt;\n",
              "    &lt;link rel=&quot;stylesheet&quot; href=&quot;https://maxcdn.bootstrapcdn.com/bootstrap/3.2.0/css/bootstrap.min.css&quot;/&gt;\n",
              "    &lt;link rel=&quot;stylesheet&quot; href=&quot;https://maxcdn.bootstrapcdn.com/bootstrap/3.2.0/css/bootstrap-theme.min.css&quot;/&gt;\n",
              "    &lt;link rel=&quot;stylesheet&quot; href=&quot;https://maxcdn.bootstrapcdn.com/font-awesome/4.6.3/css/font-awesome.min.css&quot;/&gt;\n",
              "    &lt;link rel=&quot;stylesheet&quot; href=&quot;https://cdnjs.cloudflare.com/ajax/libs/Leaflet.awesome-markers/2.0.2/leaflet.awesome-markers.css&quot;/&gt;\n",
              "    &lt;link rel=&quot;stylesheet&quot; href=&quot;https://cdn.jsdelivr.net/gh/python-visualization/folium/folium/templates/leaflet.awesome.rotate.min.css&quot;/&gt;\n",
              "    \n",
              "            &lt;meta name=&quot;viewport&quot; content=&quot;width=device-width,\n",
              "                initial-scale=1.0, maximum-scale=1.0, user-scalable=no&quot; /&gt;\n",
              "            &lt;style&gt;\n",
              "                #map_e3745b5c4bd1fe155be036e3fd504204 {\n",
              "                    position: relative;\n",
              "                    width: 100.0%;\n",
              "                    height: 100.0%;\n",
              "                    left: 0.0%;\n",
              "                    top: 0.0%;\n",
              "                }\n",
              "            &lt;/style&gt;\n",
              "        \n",
              "    &lt;script src=&quot;https://cdnjs.cloudflare.com/ajax/libs/leaflet.fullscreen/1.4.2/Control.FullScreen.min.js&quot;&gt;&lt;/script&gt;\n",
              "    &lt;link rel=&quot;stylesheet&quot; href=&quot;https://cdnjs.cloudflare.com/ajax/libs/leaflet.fullscreen/1.4.2/Control.FullScreen.min.css&quot;/&gt;\n",
              "&lt;/head&gt;\n",
              "&lt;body&gt;    \n",
              "    \n",
              "            &lt;div class=&quot;folium-map&quot; id=&quot;map_e3745b5c4bd1fe155be036e3fd504204&quot; &gt;&lt;/div&gt;\n",
              "        \n",
              "&lt;/body&gt;\n",
              "&lt;script&gt;    \n",
              "    \n",
              "            var map_e3745b5c4bd1fe155be036e3fd504204 = L.map(\n",
              "                &quot;map_e3745b5c4bd1fe155be036e3fd504204&quot;,\n",
              "                {\n",
              "                    center: [20.0, 0.0],\n",
              "                    crs: L.CRS.EPSG3857,\n",
              "                    zoom: 2,\n",
              "                    zoomControl: true,\n",
              "                    preferCanvas: false,\n",
              "                    eeInitialize: true,\n",
              "                    addGoogleMap: true,\n",
              "                    pluginLatlngpopup: true,\n",
              "                    pluginFullscreen: true,\n",
              "                    pluginDraw: false,\n",
              "                    DrawExport: true,\n",
              "                    pluginMinimap: false,\n",
              "                    pluginLayercontrol: false,\n",
              "                }\n",
              "            );\n",
              "\n",
              "            \n",
              "\n",
              "        \n",
              "    \n",
              "            var tile_layer_ea1e27e393c42ebef0f00718bec3f3ef = L.tileLayer(\n",
              "                &quot;https://{s}.tile.openstreetmap.org/{z}/{x}/{y}.png&quot;,\n",
              "                {&quot;attribution&quot;: &quot;Data by \\u0026copy; \\u003ca href=\\&quot;http://openstreetmap.org\\&quot;\\u003eOpenStreetMap\\u003c/a\\u003e, under \\u003ca href=\\&quot;http://www.openstreetmap.org/copyright\\&quot;\\u003eODbL\\u003c/a\\u003e.&quot;, &quot;detectRetina&quot;: false, &quot;maxNativeZoom&quot;: 18, &quot;maxZoom&quot;: 18, &quot;minZoom&quot;: 0, &quot;noWrap&quot;: false, &quot;opacity&quot;: 1, &quot;subdomains&quot;: &quot;abc&quot;, &quot;tms&quot;: false}\n",
              "            ).addTo(map_e3745b5c4bd1fe155be036e3fd504204);\n",
              "        \n",
              "    \n",
              "            var tile_layer_27bbed89bed2d16c68c3c22e94c14875 = L.tileLayer(\n",
              "                &quot;https://mt1.google.com/vt/lyrs=m\\u0026x={x}\\u0026y={y}\\u0026z={z}&quot;,\n",
              "                {&quot;attribution&quot;: &quot;Google&quot;, &quot;detectRetina&quot;: false, &quot;maxNativeZoom&quot;: 18, &quot;maxZoom&quot;: 18, &quot;minZoom&quot;: 0, &quot;noWrap&quot;: false, &quot;opacity&quot;: 1, &quot;subdomains&quot;: &quot;abc&quot;, &quot;tms&quot;: false}\n",
              "            ).addTo(map_e3745b5c4bd1fe155be036e3fd504204);\n",
              "        \n",
              "    \n",
              "                var lat_lng_popup_7533f5fd7bc2b7b81dc94d2362c20dd5 = L.popup();\n",
              "                function latLngPop(e) {\n",
              "                    lat_lng_popup_7533f5fd7bc2b7b81dc94d2362c20dd5\n",
              "                        .setLatLng(e.latlng)\n",
              "                        .setContent(&quot;Latitude: &quot; + e.latlng.lat.toFixed(4) +\n",
              "                                    &quot;&lt;br&gt;Longitude: &quot; + e.latlng.lng.toFixed(4))\n",
              "                        .openOn(map_e3745b5c4bd1fe155be036e3fd504204);\n",
              "                    }\n",
              "                map_e3745b5c4bd1fe155be036e3fd504204.on(&#x27;click&#x27;, latLngPop);\n",
              "            \n",
              "    \n",
              "            L.control.fullscreen(\n",
              "                {&quot;forceSeparateButton&quot;: false, &quot;position&quot;: &quot;topleft&quot;, &quot;title&quot;: &quot;Full Screen&quot;, &quot;titleCancel&quot;: &quot;Exit Full Screen&quot;}\n",
              "            ).addTo(map_e3745b5c4bd1fe155be036e3fd504204);\n",
              "        \n",
              "    \n",
              "            map_e3745b5c4bd1fe155be036e3fd504204.fitBounds(\n",
              "                [[20, 0], [20, 0]],\n",
              "                {&quot;maxZoom&quot;: 2}\n",
              "            );\n",
              "        \n",
              "    \n",
              "            var tile_layer_174d2c693a81a15ab58737bfe2dfb03b = L.tileLayer(\n",
              "                &quot;https://earthengine.googleapis.com/v1alpha/projects/earthengine-legacy/maps/852da5f291efea64c1597c2425993832-95ac827c57caae7f40d459d8817d39f7/tiles/{z}/{x}/{y}&quot;,\n",
              "                {&quot;attribution&quot;: &quot;Google Earth Engine&quot;, &quot;detectRetina&quot;: false, &quot;maxNativeZoom&quot;: 18, &quot;maxZoom&quot;: 18, &quot;minZoom&quot;: 0, &quot;noWrap&quot;: false, &quot;opacity&quot;: 1.0, &quot;subdomains&quot;: &quot;abc&quot;, &quot;tms&quot;: false}\n",
              "            ).addTo(map_e3745b5c4bd1fe155be036e3fd504204);\n",
              "        \n",
              "    \n",
              "            var layer_control_1ecbb45208833b2196f6c6c683e67daa = {\n",
              "                base_layers : {\n",
              "                    &quot;openstreetmap&quot; : tile_layer_ea1e27e393c42ebef0f00718bec3f3ef,\n",
              "                },\n",
              "                overlays :  {\n",
              "                    &quot;Google Maps&quot; : tile_layer_27bbed89bed2d16c68c3c22e94c14875,\n",
              "                    &quot;NDVI image&quot; : tile_layer_174d2c693a81a15ab58737bfe2dfb03b,\n",
              "                },\n",
              "            };\n",
              "            L.control.layers(\n",
              "                layer_control_1ecbb45208833b2196f6c6c683e67daa.base_layers,\n",
              "                layer_control_1ecbb45208833b2196f6c6c683e67daa.overlays,\n",
              "                {&quot;autoZIndex&quot;: true, &quot;collapsed&quot;: true, &quot;position&quot;: &quot;topright&quot;}\n",
              "            ).addTo(map_e3745b5c4bd1fe155be036e3fd504204);\n",
              "        \n",
              "    \n",
              "            map_e3745b5c4bd1fe155be036e3fd504204.fitBounds(\n",
              "                [[37.9018, -122.292], [37.9018, -122.292]],\n",
              "                {&quot;maxZoom&quot;: 9}\n",
              "            );\n",
              "        \n",
              "&lt;/script&gt;\" style=\"position:absolute;width:100%;height:100%;left:0;top:0;border:none !important;\" allowfullscreen webkitallowfullscreen mozallowfullscreen></iframe></div></div>"
            ]
          },
          "metadata": {},
          "execution_count": 13
        }
      ]
    },
    {
      "cell_type": "markdown",
      "source": [
        "### Compute and display Enhanced Vegetation Index (EVI) \n",
        "## EVI = 2.5 * ((NIR - Red) / (NIR + 6 * Red – 7.5 * Blue + 1))"
      ],
      "metadata": {
        "id": "4-62SsCnYFwx"
      }
    },
    {
      "cell_type": "code",
      "source": [
        "# like lines 33-42 in js example\n",
        "# Compute the EVI using an expression.\n",
        "evi = image.expression(\n",
        "    '2.5 * ((NIR - RED) / (NIR + 6 * RED - 7.5 * BLUE + 1))', {\n",
        "        'NIR': image.select('nir'),\n",
        "        'RED': image.select('red'),\n",
        "        'BLUE': image.select('blue')\n",
        "    })\n",
        "\n",
        "eviParams = {'min': -1, 'max': 1, 'palette': ['blue', 'white', 'green']}\n",
        "Map = geemap.Map()  # Create an empty map\n",
        "Map.addLayer(evi, eviParams, 'EVI image')\n",
        "Map.centerObject(point, 10)\n",
        "Map"
      ],
      "metadata": {
        "id": "1LG2ulbaYQh_",
        "colab": {
          "base_uri": "https://localhost:8080/",
          "height": 712
        },
        "outputId": "e46c783a-2897-490f-d49a-82ac80b57d4b"
      },
      "execution_count": 14,
      "outputs": [
        {
          "output_type": "execute_result",
          "data": {
            "text/plain": [
              "<geemap.eefolium.Map at 0x7f26e7d36690>"
            ],
            "text/html": [
              "<div style=\"width:100%;\"><div style=\"position:relative;width:100%;height:0;padding-bottom:60%;\"><span style=\"color:#565656\">Make this Notebook Trusted to load map: File -> Trust Notebook</span><iframe srcdoc=\"&lt;!DOCTYPE html&gt;\n",
              "&lt;head&gt;    \n",
              "    &lt;meta http-equiv=&quot;content-type&quot; content=&quot;text/html; charset=UTF-8&quot; /&gt;\n",
              "    \n",
              "        &lt;script&gt;\n",
              "            L_NO_TOUCH = false;\n",
              "            L_DISABLE_3D = false;\n",
              "        &lt;/script&gt;\n",
              "    \n",
              "    &lt;style&gt;html, body {width: 100%;height: 100%;margin: 0;padding: 0;}&lt;/style&gt;\n",
              "    &lt;style&gt;#map {position:absolute;top:0;bottom:0;right:0;left:0;}&lt;/style&gt;\n",
              "    &lt;script src=&quot;https://cdn.jsdelivr.net/npm/leaflet@1.6.0/dist/leaflet.js&quot;&gt;&lt;/script&gt;\n",
              "    &lt;script src=&quot;https://code.jquery.com/jquery-1.12.4.min.js&quot;&gt;&lt;/script&gt;\n",
              "    &lt;script src=&quot;https://maxcdn.bootstrapcdn.com/bootstrap/3.2.0/js/bootstrap.min.js&quot;&gt;&lt;/script&gt;\n",
              "    &lt;script src=&quot;https://cdnjs.cloudflare.com/ajax/libs/Leaflet.awesome-markers/2.0.2/leaflet.awesome-markers.js&quot;&gt;&lt;/script&gt;\n",
              "    &lt;link rel=&quot;stylesheet&quot; href=&quot;https://cdn.jsdelivr.net/npm/leaflet@1.6.0/dist/leaflet.css&quot;/&gt;\n",
              "    &lt;link rel=&quot;stylesheet&quot; href=&quot;https://maxcdn.bootstrapcdn.com/bootstrap/3.2.0/css/bootstrap.min.css&quot;/&gt;\n",
              "    &lt;link rel=&quot;stylesheet&quot; href=&quot;https://maxcdn.bootstrapcdn.com/bootstrap/3.2.0/css/bootstrap-theme.min.css&quot;/&gt;\n",
              "    &lt;link rel=&quot;stylesheet&quot; href=&quot;https://maxcdn.bootstrapcdn.com/font-awesome/4.6.3/css/font-awesome.min.css&quot;/&gt;\n",
              "    &lt;link rel=&quot;stylesheet&quot; href=&quot;https://cdnjs.cloudflare.com/ajax/libs/Leaflet.awesome-markers/2.0.2/leaflet.awesome-markers.css&quot;/&gt;\n",
              "    &lt;link rel=&quot;stylesheet&quot; href=&quot;https://cdn.jsdelivr.net/gh/python-visualization/folium/folium/templates/leaflet.awesome.rotate.min.css&quot;/&gt;\n",
              "    \n",
              "            &lt;meta name=&quot;viewport&quot; content=&quot;width=device-width,\n",
              "                initial-scale=1.0, maximum-scale=1.0, user-scalable=no&quot; /&gt;\n",
              "            &lt;style&gt;\n",
              "                #map_5353de42e42928482706171cf4557e47 {\n",
              "                    position: relative;\n",
              "                    width: 100.0%;\n",
              "                    height: 100.0%;\n",
              "                    left: 0.0%;\n",
              "                    top: 0.0%;\n",
              "                }\n",
              "            &lt;/style&gt;\n",
              "        \n",
              "    &lt;script src=&quot;https://cdnjs.cloudflare.com/ajax/libs/leaflet.fullscreen/1.4.2/Control.FullScreen.min.js&quot;&gt;&lt;/script&gt;\n",
              "    &lt;link rel=&quot;stylesheet&quot; href=&quot;https://cdnjs.cloudflare.com/ajax/libs/leaflet.fullscreen/1.4.2/Control.FullScreen.min.css&quot;/&gt;\n",
              "&lt;/head&gt;\n",
              "&lt;body&gt;    \n",
              "    \n",
              "            &lt;div class=&quot;folium-map&quot; id=&quot;map_5353de42e42928482706171cf4557e47&quot; &gt;&lt;/div&gt;\n",
              "        \n",
              "&lt;/body&gt;\n",
              "&lt;script&gt;    \n",
              "    \n",
              "            var map_5353de42e42928482706171cf4557e47 = L.map(\n",
              "                &quot;map_5353de42e42928482706171cf4557e47&quot;,\n",
              "                {\n",
              "                    center: [20.0, 0.0],\n",
              "                    crs: L.CRS.EPSG3857,\n",
              "                    zoom: 2,\n",
              "                    zoomControl: true,\n",
              "                    preferCanvas: false,\n",
              "                    eeInitialize: true,\n",
              "                    addGoogleMap: true,\n",
              "                    pluginLatlngpopup: true,\n",
              "                    pluginFullscreen: true,\n",
              "                    pluginDraw: false,\n",
              "                    DrawExport: true,\n",
              "                    pluginMinimap: false,\n",
              "                    pluginLayercontrol: false,\n",
              "                }\n",
              "            );\n",
              "\n",
              "            \n",
              "\n",
              "        \n",
              "    \n",
              "            var tile_layer_57acbe7a8e5cf35578228ce6a8ba4e5d = L.tileLayer(\n",
              "                &quot;https://{s}.tile.openstreetmap.org/{z}/{x}/{y}.png&quot;,\n",
              "                {&quot;attribution&quot;: &quot;Data by \\u0026copy; \\u003ca href=\\&quot;http://openstreetmap.org\\&quot;\\u003eOpenStreetMap\\u003c/a\\u003e, under \\u003ca href=\\&quot;http://www.openstreetmap.org/copyright\\&quot;\\u003eODbL\\u003c/a\\u003e.&quot;, &quot;detectRetina&quot;: false, &quot;maxNativeZoom&quot;: 18, &quot;maxZoom&quot;: 18, &quot;minZoom&quot;: 0, &quot;noWrap&quot;: false, &quot;opacity&quot;: 1, &quot;subdomains&quot;: &quot;abc&quot;, &quot;tms&quot;: false}\n",
              "            ).addTo(map_5353de42e42928482706171cf4557e47);\n",
              "        \n",
              "    \n",
              "            var tile_layer_27bbed89bed2d16c68c3c22e94c14875 = L.tileLayer(\n",
              "                &quot;https://mt1.google.com/vt/lyrs=m\\u0026x={x}\\u0026y={y}\\u0026z={z}&quot;,\n",
              "                {&quot;attribution&quot;: &quot;Google&quot;, &quot;detectRetina&quot;: false, &quot;maxNativeZoom&quot;: 18, &quot;maxZoom&quot;: 18, &quot;minZoom&quot;: 0, &quot;noWrap&quot;: false, &quot;opacity&quot;: 1, &quot;subdomains&quot;: &quot;abc&quot;, &quot;tms&quot;: false}\n",
              "            ).addTo(map_5353de42e42928482706171cf4557e47);\n",
              "        \n",
              "    \n",
              "                var lat_lng_popup_8fca18f3674ada7fa9ce4c0f863e775c = L.popup();\n",
              "                function latLngPop(e) {\n",
              "                    lat_lng_popup_8fca18f3674ada7fa9ce4c0f863e775c\n",
              "                        .setLatLng(e.latlng)\n",
              "                        .setContent(&quot;Latitude: &quot; + e.latlng.lat.toFixed(4) +\n",
              "                                    &quot;&lt;br&gt;Longitude: &quot; + e.latlng.lng.toFixed(4))\n",
              "                        .openOn(map_5353de42e42928482706171cf4557e47);\n",
              "                    }\n",
              "                map_5353de42e42928482706171cf4557e47.on(&#x27;click&#x27;, latLngPop);\n",
              "            \n",
              "    \n",
              "            L.control.fullscreen(\n",
              "                {&quot;forceSeparateButton&quot;: false, &quot;position&quot;: &quot;topleft&quot;, &quot;title&quot;: &quot;Full Screen&quot;, &quot;titleCancel&quot;: &quot;Exit Full Screen&quot;}\n",
              "            ).addTo(map_5353de42e42928482706171cf4557e47);\n",
              "        \n",
              "    \n",
              "            map_5353de42e42928482706171cf4557e47.fitBounds(\n",
              "                [[20, 0], [20, 0]],\n",
              "                {&quot;maxZoom&quot;: 2}\n",
              "            );\n",
              "        \n",
              "    \n",
              "            var tile_layer_fc07a49026e79cb1753bc2cc57709e2e = L.tileLayer(\n",
              "                &quot;https://earthengine.googleapis.com/v1alpha/projects/earthengine-legacy/maps/45b1ffcbc876abb89d324ce3c5f351bf-704ce4525480dc1fee5bd66dcd6063e5/tiles/{z}/{x}/{y}&quot;,\n",
              "                {&quot;attribution&quot;: &quot;Google Earth Engine&quot;, &quot;detectRetina&quot;: false, &quot;maxNativeZoom&quot;: 18, &quot;maxZoom&quot;: 18, &quot;minZoom&quot;: 0, &quot;noWrap&quot;: false, &quot;opacity&quot;: 1.0, &quot;subdomains&quot;: &quot;abc&quot;, &quot;tms&quot;: false}\n",
              "            ).addTo(map_5353de42e42928482706171cf4557e47);\n",
              "        \n",
              "    \n",
              "            map_5353de42e42928482706171cf4557e47.fitBounds(\n",
              "                [[37.9018, -122.292], [37.9018, -122.292]],\n",
              "                {&quot;maxZoom&quot;: 10}\n",
              "            );\n",
              "        \n",
              "    \n",
              "            var layer_control_6018967fac673147fa8373ce3216144a = {\n",
              "                base_layers : {\n",
              "                    &quot;openstreetmap&quot; : tile_layer_57acbe7a8e5cf35578228ce6a8ba4e5d,\n",
              "                },\n",
              "                overlays :  {\n",
              "                    &quot;Google Maps&quot; : tile_layer_27bbed89bed2d16c68c3c22e94c14875,\n",
              "                    &quot;EVI image&quot; : tile_layer_fc07a49026e79cb1753bc2cc57709e2e,\n",
              "                },\n",
              "            };\n",
              "            L.control.layers(\n",
              "                layer_control_6018967fac673147fa8373ce3216144a.base_layers,\n",
              "                layer_control_6018967fac673147fa8373ce3216144a.overlays,\n",
              "                {&quot;autoZIndex&quot;: true, &quot;collapsed&quot;: true, &quot;position&quot;: &quot;topright&quot;}\n",
              "            ).addTo(map_5353de42e42928482706171cf4557e47);\n",
              "        \n",
              "&lt;/script&gt;\" style=\"position:absolute;width:100%;height:100%;left:0;top:0;border:none !important;\" allowfullscreen webkitallowfullscreen mozallowfullscreen></iframe></div></div>"
            ]
          },
          "metadata": {},
          "execution_count": 14
        }
      ]
    },
    {
      "cell_type": "markdown",
      "source": [
        "###Compute and display Soil-Adjusted Vegetation Index (SAVI)\n",
        "## SAVI = ((NIR - Red) / (NIR + Red + 0.5)) * 1.5\n"
      ],
      "metadata": {
        "id": "6JbibEVNdVoD"
      }
    },
    {
      "cell_type": "code",
      "source": [
        "# like lines 46-55 in js example\n",
        "savi = image.expression(\n",
        "    '((NIR - RED) / (NIR + RED + 0.5)) * 1.5', {\n",
        "        'NIR':image.select('nir'),\n",
        "        'RED':image.select('red')\n",
        "    }) \n",
        "saviParams = {'min': -1, 'max': 1, 'palette': ['blue', 'white', 'green']}\n",
        "Map = geemap.Map()  # Create an empty map\n",
        "Map.addLayer(savi, saviParams, 'SAVI image')\n",
        "Map.centerObject(point, 11)\n",
        "Map "
      ],
      "metadata": {
        "id": "PatQx-zbdjlR",
        "colab": {
          "base_uri": "https://localhost:8080/",
          "height": 712
        },
        "outputId": "15b8755d-a86d-4e0a-f8ba-59de2543a09f"
      },
      "execution_count": 15,
      "outputs": [
        {
          "output_type": "execute_result",
          "data": {
            "text/plain": [
              "<geemap.eefolium.Map at 0x7f26e7d2fc90>"
            ],
            "text/html": [
              "<div style=\"width:100%;\"><div style=\"position:relative;width:100%;height:0;padding-bottom:60%;\"><span style=\"color:#565656\">Make this Notebook Trusted to load map: File -> Trust Notebook</span><iframe srcdoc=\"&lt;!DOCTYPE html&gt;\n",
              "&lt;head&gt;    \n",
              "    &lt;meta http-equiv=&quot;content-type&quot; content=&quot;text/html; charset=UTF-8&quot; /&gt;\n",
              "    \n",
              "        &lt;script&gt;\n",
              "            L_NO_TOUCH = false;\n",
              "            L_DISABLE_3D = false;\n",
              "        &lt;/script&gt;\n",
              "    \n",
              "    &lt;style&gt;html, body {width: 100%;height: 100%;margin: 0;padding: 0;}&lt;/style&gt;\n",
              "    &lt;style&gt;#map {position:absolute;top:0;bottom:0;right:0;left:0;}&lt;/style&gt;\n",
              "    &lt;script src=&quot;https://cdn.jsdelivr.net/npm/leaflet@1.6.0/dist/leaflet.js&quot;&gt;&lt;/script&gt;\n",
              "    &lt;script src=&quot;https://code.jquery.com/jquery-1.12.4.min.js&quot;&gt;&lt;/script&gt;\n",
              "    &lt;script src=&quot;https://maxcdn.bootstrapcdn.com/bootstrap/3.2.0/js/bootstrap.min.js&quot;&gt;&lt;/script&gt;\n",
              "    &lt;script src=&quot;https://cdnjs.cloudflare.com/ajax/libs/Leaflet.awesome-markers/2.0.2/leaflet.awesome-markers.js&quot;&gt;&lt;/script&gt;\n",
              "    &lt;link rel=&quot;stylesheet&quot; href=&quot;https://cdn.jsdelivr.net/npm/leaflet@1.6.0/dist/leaflet.css&quot;/&gt;\n",
              "    &lt;link rel=&quot;stylesheet&quot; href=&quot;https://maxcdn.bootstrapcdn.com/bootstrap/3.2.0/css/bootstrap.min.css&quot;/&gt;\n",
              "    &lt;link rel=&quot;stylesheet&quot; href=&quot;https://maxcdn.bootstrapcdn.com/bootstrap/3.2.0/css/bootstrap-theme.min.css&quot;/&gt;\n",
              "    &lt;link rel=&quot;stylesheet&quot; href=&quot;https://maxcdn.bootstrapcdn.com/font-awesome/4.6.3/css/font-awesome.min.css&quot;/&gt;\n",
              "    &lt;link rel=&quot;stylesheet&quot; href=&quot;https://cdnjs.cloudflare.com/ajax/libs/Leaflet.awesome-markers/2.0.2/leaflet.awesome-markers.css&quot;/&gt;\n",
              "    &lt;link rel=&quot;stylesheet&quot; href=&quot;https://cdn.jsdelivr.net/gh/python-visualization/folium/folium/templates/leaflet.awesome.rotate.min.css&quot;/&gt;\n",
              "    \n",
              "            &lt;meta name=&quot;viewport&quot; content=&quot;width=device-width,\n",
              "                initial-scale=1.0, maximum-scale=1.0, user-scalable=no&quot; /&gt;\n",
              "            &lt;style&gt;\n",
              "                #map_d7bf238ee01ced1fd641bce71470475b {\n",
              "                    position: relative;\n",
              "                    width: 100.0%;\n",
              "                    height: 100.0%;\n",
              "                    left: 0.0%;\n",
              "                    top: 0.0%;\n",
              "                }\n",
              "            &lt;/style&gt;\n",
              "        \n",
              "    &lt;script src=&quot;https://cdnjs.cloudflare.com/ajax/libs/leaflet.fullscreen/1.4.2/Control.FullScreen.min.js&quot;&gt;&lt;/script&gt;\n",
              "    &lt;link rel=&quot;stylesheet&quot; href=&quot;https://cdnjs.cloudflare.com/ajax/libs/leaflet.fullscreen/1.4.2/Control.FullScreen.min.css&quot;/&gt;\n",
              "&lt;/head&gt;\n",
              "&lt;body&gt;    \n",
              "    \n",
              "            &lt;div class=&quot;folium-map&quot; id=&quot;map_d7bf238ee01ced1fd641bce71470475b&quot; &gt;&lt;/div&gt;\n",
              "        \n",
              "&lt;/body&gt;\n",
              "&lt;script&gt;    \n",
              "    \n",
              "            var map_d7bf238ee01ced1fd641bce71470475b = L.map(\n",
              "                &quot;map_d7bf238ee01ced1fd641bce71470475b&quot;,\n",
              "                {\n",
              "                    center: [20.0, 0.0],\n",
              "                    crs: L.CRS.EPSG3857,\n",
              "                    zoom: 2,\n",
              "                    zoomControl: true,\n",
              "                    preferCanvas: false,\n",
              "                    eeInitialize: true,\n",
              "                    addGoogleMap: true,\n",
              "                    pluginLatlngpopup: true,\n",
              "                    pluginFullscreen: true,\n",
              "                    pluginDraw: false,\n",
              "                    DrawExport: true,\n",
              "                    pluginMinimap: false,\n",
              "                    pluginLayercontrol: false,\n",
              "                }\n",
              "            );\n",
              "\n",
              "            \n",
              "\n",
              "        \n",
              "    \n",
              "            var tile_layer_b4a504733c5bf64a631904e9153d756d = L.tileLayer(\n",
              "                &quot;https://{s}.tile.openstreetmap.org/{z}/{x}/{y}.png&quot;,\n",
              "                {&quot;attribution&quot;: &quot;Data by \\u0026copy; \\u003ca href=\\&quot;http://openstreetmap.org\\&quot;\\u003eOpenStreetMap\\u003c/a\\u003e, under \\u003ca href=\\&quot;http://www.openstreetmap.org/copyright\\&quot;\\u003eODbL\\u003c/a\\u003e.&quot;, &quot;detectRetina&quot;: false, &quot;maxNativeZoom&quot;: 18, &quot;maxZoom&quot;: 18, &quot;minZoom&quot;: 0, &quot;noWrap&quot;: false, &quot;opacity&quot;: 1, &quot;subdomains&quot;: &quot;abc&quot;, &quot;tms&quot;: false}\n",
              "            ).addTo(map_d7bf238ee01ced1fd641bce71470475b);\n",
              "        \n",
              "    \n",
              "            var tile_layer_27bbed89bed2d16c68c3c22e94c14875 = L.tileLayer(\n",
              "                &quot;https://mt1.google.com/vt/lyrs=m\\u0026x={x}\\u0026y={y}\\u0026z={z}&quot;,\n",
              "                {&quot;attribution&quot;: &quot;Google&quot;, &quot;detectRetina&quot;: false, &quot;maxNativeZoom&quot;: 18, &quot;maxZoom&quot;: 18, &quot;minZoom&quot;: 0, &quot;noWrap&quot;: false, &quot;opacity&quot;: 1, &quot;subdomains&quot;: &quot;abc&quot;, &quot;tms&quot;: false}\n",
              "            ).addTo(map_d7bf238ee01ced1fd641bce71470475b);\n",
              "        \n",
              "    \n",
              "                var lat_lng_popup_4ef66d8254c1094b1397d390edec8d94 = L.popup();\n",
              "                function latLngPop(e) {\n",
              "                    lat_lng_popup_4ef66d8254c1094b1397d390edec8d94\n",
              "                        .setLatLng(e.latlng)\n",
              "                        .setContent(&quot;Latitude: &quot; + e.latlng.lat.toFixed(4) +\n",
              "                                    &quot;&lt;br&gt;Longitude: &quot; + e.latlng.lng.toFixed(4))\n",
              "                        .openOn(map_d7bf238ee01ced1fd641bce71470475b);\n",
              "                    }\n",
              "                map_d7bf238ee01ced1fd641bce71470475b.on(&#x27;click&#x27;, latLngPop);\n",
              "            \n",
              "    \n",
              "            L.control.fullscreen(\n",
              "                {&quot;forceSeparateButton&quot;: false, &quot;position&quot;: &quot;topleft&quot;, &quot;title&quot;: &quot;Full Screen&quot;, &quot;titleCancel&quot;: &quot;Exit Full Screen&quot;}\n",
              "            ).addTo(map_d7bf238ee01ced1fd641bce71470475b);\n",
              "        \n",
              "    \n",
              "            map_d7bf238ee01ced1fd641bce71470475b.fitBounds(\n",
              "                [[20, 0], [20, 0]],\n",
              "                {&quot;maxZoom&quot;: 2}\n",
              "            );\n",
              "        \n",
              "    \n",
              "            var tile_layer_6231adaa6bf9bb52bfbf7f651a487dc2 = L.tileLayer(\n",
              "                &quot;https://earthengine.googleapis.com/v1alpha/projects/earthengine-legacy/maps/24a9ae703b44e314d20644f14de7adc0-4867dba809cc90c515b6be0b3213d27f/tiles/{z}/{x}/{y}&quot;,\n",
              "                {&quot;attribution&quot;: &quot;Google Earth Engine&quot;, &quot;detectRetina&quot;: false, &quot;maxNativeZoom&quot;: 18, &quot;maxZoom&quot;: 18, &quot;minZoom&quot;: 0, &quot;noWrap&quot;: false, &quot;opacity&quot;: 1.0, &quot;subdomains&quot;: &quot;abc&quot;, &quot;tms&quot;: false}\n",
              "            ).addTo(map_d7bf238ee01ced1fd641bce71470475b);\n",
              "        \n",
              "    \n",
              "            map_d7bf238ee01ced1fd641bce71470475b.fitBounds(\n",
              "                [[37.9018, -122.292], [37.9018, -122.292]],\n",
              "                {&quot;maxZoom&quot;: 11}\n",
              "            );\n",
              "        \n",
              "    \n",
              "            var layer_control_c50ada117a13c816b23f873e972dd5e2 = {\n",
              "                base_layers : {\n",
              "                    &quot;openstreetmap&quot; : tile_layer_b4a504733c5bf64a631904e9153d756d,\n",
              "                },\n",
              "                overlays :  {\n",
              "                    &quot;Google Maps&quot; : tile_layer_27bbed89bed2d16c68c3c22e94c14875,\n",
              "                    &quot;SAVI image&quot; : tile_layer_6231adaa6bf9bb52bfbf7f651a487dc2,\n",
              "                },\n",
              "            };\n",
              "            L.control.layers(\n",
              "                layer_control_c50ada117a13c816b23f873e972dd5e2.base_layers,\n",
              "                layer_control_c50ada117a13c816b23f873e972dd5e2.overlays,\n",
              "                {&quot;autoZIndex&quot;: true, &quot;collapsed&quot;: true, &quot;position&quot;: &quot;topright&quot;}\n",
              "            ).addTo(map_d7bf238ee01ced1fd641bce71470475b);\n",
              "        \n",
              "&lt;/script&gt;\" style=\"position:absolute;width:100%;height:100%;left:0;top:0;border:none !important;\" allowfullscreen webkitallowfullscreen mozallowfullscreen></iframe></div></div>"
            ]
          },
          "metadata": {},
          "execution_count": 15
        }
      ]
    },
    {
      "cell_type": "markdown",
      "source": [
        "###Display all three vegetation indices (VIs) on one map\n",
        "OK, let's repeat the process with a few minor changes not shown in the ARSET GEE demo. <br>\n",
        "First - we'll define VI parameters that you can play with. <br>\n",
        "Second - we will create a new map and add all three layers. <br>\n",
        "Finally - we will center the map, zoom in and display. Note that you can tap or click on the Map Layer icon located in the upper right of the map to turn layers on and off. Notice the layer order.<br>\n",
        "You can also copy the viParams line of code and play around with it. We will investigate more sophisticated ways to color maps later on."
      ],
      "metadata": {
        "id": "TCyVmDDoeIKZ"
      }
    },
    {
      "cell_type": "code",
      "source": [
        "viParams = {'min': -1, 'max': 1, 'palette': ['purple','blue', 'aqua', 'white', 'tan', 'yellow', 'green']}\n",
        "Map = geemap.Map()  # Create an empty map\n",
        "Map.addLayer(ndvi, viParams, 'NDVI image')\n",
        "Map.addLayer(evi, viParams, 'EVI image')\n",
        "Map.addLayer(savi, viParams, 'SAVI image')\n",
        "Map.centerObject(point, 9)\n",
        "Map "
      ],
      "metadata": {
        "id": "2BtdwhqQfOui",
        "colab": {
          "base_uri": "https://localhost:8080/",
          "height": 712
        },
        "outputId": "8eba8ad0-00cf-4879-ec52-bf9600da8e9d"
      },
      "execution_count": 16,
      "outputs": [
        {
          "output_type": "execute_result",
          "data": {
            "text/plain": [
              "<geemap.eefolium.Map at 0x7f26e7d86390>"
            ],
            "text/html": [
              "<div style=\"width:100%;\"><div style=\"position:relative;width:100%;height:0;padding-bottom:60%;\"><span style=\"color:#565656\">Make this Notebook Trusted to load map: File -> Trust Notebook</span><iframe srcdoc=\"&lt;!DOCTYPE html&gt;\n",
              "&lt;head&gt;    \n",
              "    &lt;meta http-equiv=&quot;content-type&quot; content=&quot;text/html; charset=UTF-8&quot; /&gt;\n",
              "    \n",
              "        &lt;script&gt;\n",
              "            L_NO_TOUCH = false;\n",
              "            L_DISABLE_3D = false;\n",
              "        &lt;/script&gt;\n",
              "    \n",
              "    &lt;style&gt;html, body {width: 100%;height: 100%;margin: 0;padding: 0;}&lt;/style&gt;\n",
              "    &lt;style&gt;#map {position:absolute;top:0;bottom:0;right:0;left:0;}&lt;/style&gt;\n",
              "    &lt;script src=&quot;https://cdn.jsdelivr.net/npm/leaflet@1.6.0/dist/leaflet.js&quot;&gt;&lt;/script&gt;\n",
              "    &lt;script src=&quot;https://code.jquery.com/jquery-1.12.4.min.js&quot;&gt;&lt;/script&gt;\n",
              "    &lt;script src=&quot;https://maxcdn.bootstrapcdn.com/bootstrap/3.2.0/js/bootstrap.min.js&quot;&gt;&lt;/script&gt;\n",
              "    &lt;script src=&quot;https://cdnjs.cloudflare.com/ajax/libs/Leaflet.awesome-markers/2.0.2/leaflet.awesome-markers.js&quot;&gt;&lt;/script&gt;\n",
              "    &lt;link rel=&quot;stylesheet&quot; href=&quot;https://cdn.jsdelivr.net/npm/leaflet@1.6.0/dist/leaflet.css&quot;/&gt;\n",
              "    &lt;link rel=&quot;stylesheet&quot; href=&quot;https://maxcdn.bootstrapcdn.com/bootstrap/3.2.0/css/bootstrap.min.css&quot;/&gt;\n",
              "    &lt;link rel=&quot;stylesheet&quot; href=&quot;https://maxcdn.bootstrapcdn.com/bootstrap/3.2.0/css/bootstrap-theme.min.css&quot;/&gt;\n",
              "    &lt;link rel=&quot;stylesheet&quot; href=&quot;https://maxcdn.bootstrapcdn.com/font-awesome/4.6.3/css/font-awesome.min.css&quot;/&gt;\n",
              "    &lt;link rel=&quot;stylesheet&quot; href=&quot;https://cdnjs.cloudflare.com/ajax/libs/Leaflet.awesome-markers/2.0.2/leaflet.awesome-markers.css&quot;/&gt;\n",
              "    &lt;link rel=&quot;stylesheet&quot; href=&quot;https://cdn.jsdelivr.net/gh/python-visualization/folium/folium/templates/leaflet.awesome.rotate.min.css&quot;/&gt;\n",
              "    \n",
              "            &lt;meta name=&quot;viewport&quot; content=&quot;width=device-width,\n",
              "                initial-scale=1.0, maximum-scale=1.0, user-scalable=no&quot; /&gt;\n",
              "            &lt;style&gt;\n",
              "                #map_4bf87e33a8402c9eaa7baab049a0984a {\n",
              "                    position: relative;\n",
              "                    width: 100.0%;\n",
              "                    height: 100.0%;\n",
              "                    left: 0.0%;\n",
              "                    top: 0.0%;\n",
              "                }\n",
              "            &lt;/style&gt;\n",
              "        \n",
              "    &lt;script src=&quot;https://cdnjs.cloudflare.com/ajax/libs/leaflet.fullscreen/1.4.2/Control.FullScreen.min.js&quot;&gt;&lt;/script&gt;\n",
              "    &lt;link rel=&quot;stylesheet&quot; href=&quot;https://cdnjs.cloudflare.com/ajax/libs/leaflet.fullscreen/1.4.2/Control.FullScreen.min.css&quot;/&gt;\n",
              "&lt;/head&gt;\n",
              "&lt;body&gt;    \n",
              "    \n",
              "            &lt;div class=&quot;folium-map&quot; id=&quot;map_4bf87e33a8402c9eaa7baab049a0984a&quot; &gt;&lt;/div&gt;\n",
              "        \n",
              "&lt;/body&gt;\n",
              "&lt;script&gt;    \n",
              "    \n",
              "            var map_4bf87e33a8402c9eaa7baab049a0984a = L.map(\n",
              "                &quot;map_4bf87e33a8402c9eaa7baab049a0984a&quot;,\n",
              "                {\n",
              "                    center: [20.0, 0.0],\n",
              "                    crs: L.CRS.EPSG3857,\n",
              "                    zoom: 2,\n",
              "                    zoomControl: true,\n",
              "                    preferCanvas: false,\n",
              "                    eeInitialize: true,\n",
              "                    addGoogleMap: true,\n",
              "                    pluginLatlngpopup: true,\n",
              "                    pluginFullscreen: true,\n",
              "                    pluginDraw: false,\n",
              "                    DrawExport: true,\n",
              "                    pluginMinimap: false,\n",
              "                    pluginLayercontrol: false,\n",
              "                }\n",
              "            );\n",
              "\n",
              "            \n",
              "\n",
              "        \n",
              "    \n",
              "            var tile_layer_18316dc93a0de08d1b4c6d1e4c1f842f = L.tileLayer(\n",
              "                &quot;https://{s}.tile.openstreetmap.org/{z}/{x}/{y}.png&quot;,\n",
              "                {&quot;attribution&quot;: &quot;Data by \\u0026copy; \\u003ca href=\\&quot;http://openstreetmap.org\\&quot;\\u003eOpenStreetMap\\u003c/a\\u003e, under \\u003ca href=\\&quot;http://www.openstreetmap.org/copyright\\&quot;\\u003eODbL\\u003c/a\\u003e.&quot;, &quot;detectRetina&quot;: false, &quot;maxNativeZoom&quot;: 18, &quot;maxZoom&quot;: 18, &quot;minZoom&quot;: 0, &quot;noWrap&quot;: false, &quot;opacity&quot;: 1, &quot;subdomains&quot;: &quot;abc&quot;, &quot;tms&quot;: false}\n",
              "            ).addTo(map_4bf87e33a8402c9eaa7baab049a0984a);\n",
              "        \n",
              "    \n",
              "            var tile_layer_27bbed89bed2d16c68c3c22e94c14875 = L.tileLayer(\n",
              "                &quot;https://mt1.google.com/vt/lyrs=m\\u0026x={x}\\u0026y={y}\\u0026z={z}&quot;,\n",
              "                {&quot;attribution&quot;: &quot;Google&quot;, &quot;detectRetina&quot;: false, &quot;maxNativeZoom&quot;: 18, &quot;maxZoom&quot;: 18, &quot;minZoom&quot;: 0, &quot;noWrap&quot;: false, &quot;opacity&quot;: 1, &quot;subdomains&quot;: &quot;abc&quot;, &quot;tms&quot;: false}\n",
              "            ).addTo(map_4bf87e33a8402c9eaa7baab049a0984a);\n",
              "        \n",
              "    \n",
              "                var lat_lng_popup_644188c5493b869713701c8726cfb0ae = L.popup();\n",
              "                function latLngPop(e) {\n",
              "                    lat_lng_popup_644188c5493b869713701c8726cfb0ae\n",
              "                        .setLatLng(e.latlng)\n",
              "                        .setContent(&quot;Latitude: &quot; + e.latlng.lat.toFixed(4) +\n",
              "                                    &quot;&lt;br&gt;Longitude: &quot; + e.latlng.lng.toFixed(4))\n",
              "                        .openOn(map_4bf87e33a8402c9eaa7baab049a0984a);\n",
              "                    }\n",
              "                map_4bf87e33a8402c9eaa7baab049a0984a.on(&#x27;click&#x27;, latLngPop);\n",
              "            \n",
              "    \n",
              "            L.control.fullscreen(\n",
              "                {&quot;forceSeparateButton&quot;: false, &quot;position&quot;: &quot;topleft&quot;, &quot;title&quot;: &quot;Full Screen&quot;, &quot;titleCancel&quot;: &quot;Exit Full Screen&quot;}\n",
              "            ).addTo(map_4bf87e33a8402c9eaa7baab049a0984a);\n",
              "        \n",
              "    \n",
              "            map_4bf87e33a8402c9eaa7baab049a0984a.fitBounds(\n",
              "                [[20, 0], [20, 0]],\n",
              "                {&quot;maxZoom&quot;: 2}\n",
              "            );\n",
              "        \n",
              "    \n",
              "            var tile_layer_883872259826bc62bb58948b0c373c9c = L.tileLayer(\n",
              "                &quot;https://earthengine.googleapis.com/v1alpha/projects/earthengine-legacy/maps/38e896998a9a638fd09cf056c5900209-c5f12abc603936d00d8ff4649151abe7/tiles/{z}/{x}/{y}&quot;,\n",
              "                {&quot;attribution&quot;: &quot;Google Earth Engine&quot;, &quot;detectRetina&quot;: false, &quot;maxNativeZoom&quot;: 18, &quot;maxZoom&quot;: 18, &quot;minZoom&quot;: 0, &quot;noWrap&quot;: false, &quot;opacity&quot;: 1.0, &quot;subdomains&quot;: &quot;abc&quot;, &quot;tms&quot;: false}\n",
              "            ).addTo(map_4bf87e33a8402c9eaa7baab049a0984a);\n",
              "        \n",
              "    \n",
              "            var tile_layer_12479b416ab8d946ce2b21763b836dc0 = L.tileLayer(\n",
              "                &quot;https://earthengine.googleapis.com/v1alpha/projects/earthengine-legacy/maps/6aa693744ab074f083b5bc0fa4e08992-8e361d44a39da281426206e38ab3070a/tiles/{z}/{x}/{y}&quot;,\n",
              "                {&quot;attribution&quot;: &quot;Google Earth Engine&quot;, &quot;detectRetina&quot;: false, &quot;maxNativeZoom&quot;: 18, &quot;maxZoom&quot;: 18, &quot;minZoom&quot;: 0, &quot;noWrap&quot;: false, &quot;opacity&quot;: 1.0, &quot;subdomains&quot;: &quot;abc&quot;, &quot;tms&quot;: false}\n",
              "            ).addTo(map_4bf87e33a8402c9eaa7baab049a0984a);\n",
              "        \n",
              "    \n",
              "            var tile_layer_ff5bf97b46ca291c0540f555f0522609 = L.tileLayer(\n",
              "                &quot;https://earthengine.googleapis.com/v1alpha/projects/earthengine-legacy/maps/eece5b0de6eaf1a11150029abb4b5fc7-39366e55d3d67a452860e92cb11c2219/tiles/{z}/{x}/{y}&quot;,\n",
              "                {&quot;attribution&quot;: &quot;Google Earth Engine&quot;, &quot;detectRetina&quot;: false, &quot;maxNativeZoom&quot;: 18, &quot;maxZoom&quot;: 18, &quot;minZoom&quot;: 0, &quot;noWrap&quot;: false, &quot;opacity&quot;: 1.0, &quot;subdomains&quot;: &quot;abc&quot;, &quot;tms&quot;: false}\n",
              "            ).addTo(map_4bf87e33a8402c9eaa7baab049a0984a);\n",
              "        \n",
              "    \n",
              "            map_4bf87e33a8402c9eaa7baab049a0984a.fitBounds(\n",
              "                [[37.9018, -122.292], [37.9018, -122.292]],\n",
              "                {&quot;maxZoom&quot;: 9}\n",
              "            );\n",
              "        \n",
              "    \n",
              "            var layer_control_0cac21099ed9b193de3c38edd5a10a61 = {\n",
              "                base_layers : {\n",
              "                    &quot;openstreetmap&quot; : tile_layer_18316dc93a0de08d1b4c6d1e4c1f842f,\n",
              "                },\n",
              "                overlays :  {\n",
              "                    &quot;Google Maps&quot; : tile_layer_27bbed89bed2d16c68c3c22e94c14875,\n",
              "                    &quot;NDVI image&quot; : tile_layer_883872259826bc62bb58948b0c373c9c,\n",
              "                    &quot;EVI image&quot; : tile_layer_12479b416ab8d946ce2b21763b836dc0,\n",
              "                    &quot;SAVI image&quot; : tile_layer_ff5bf97b46ca291c0540f555f0522609,\n",
              "                },\n",
              "            };\n",
              "            L.control.layers(\n",
              "                layer_control_0cac21099ed9b193de3c38edd5a10a61.base_layers,\n",
              "                layer_control_0cac21099ed9b193de3c38edd5a10a61.overlays,\n",
              "                {&quot;autoZIndex&quot;: true, &quot;collapsed&quot;: true, &quot;position&quot;: &quot;topright&quot;}\n",
              "            ).addTo(map_4bf87e33a8402c9eaa7baab049a0984a);\n",
              "        \n",
              "&lt;/script&gt;\" style=\"position:absolute;width:100%;height:100%;left:0;top:0;border:none !important;\" allowfullscreen webkitallowfullscreen mozallowfullscreen></iframe></div></div>"
            ]
          },
          "metadata": {},
          "execution_count": 16
        }
      ]
    },
    {
      "cell_type": "markdown",
      "source": [
        "###Next, we will map an index over an image collection.\n",
        "What happens here? The near infrared (NIR), red and blue spectral bands are selected from an imput image. The EVI is calculated, renamed and added as a new band to the existing three bands."
      ],
      "metadata": {
        "id": "BSF5GwJ_iFoe"
      }
    },
    {
      "cell_type": "code",
      "source": [
        "# Define a function that produces a vegetation index\n",
        "# The resulting image band is named EVI\n",
        "def indices(img):\n",
        "  img = img.select(['B5','B4','B2'],['nir','red','blue'])\n",
        "  evi = img.expression(\n",
        "    '2.5 * ((NIR - RED) / (NIR + 6 * RED - 7.5 * BLUE + 1))', {\n",
        "        'NIR': img.select('nir'),\n",
        "        'RED': img.select('red'),\n",
        "        'BLUE': img.select('blue')\n",
        "    }).rename('EVI')\n",
        "  return img.addBands(evi)"
      ],
      "metadata": {
        "id": "CwshG5h2iQpa"
      },
      "execution_count": 17,
      "outputs": []
    },
    {
      "cell_type": "markdown",
      "source": [
        "### Create a new collection by applying the EVI indices function to a filtered image collection.\n",
        "Note that we are starting all over with our original Landsat 8 image collection variable, l8, created at the beginning of this notebook. \n",
        "\n",
        "```\n",
        "l8 = ee.ImageCollection('LANDSAT/LC08/C01/T1_SR')\n",
        "```\n",
        "\n"
      ],
      "metadata": {
        "id": "6kOeL7HeiZwh"
      }
    },
    {
      "cell_type": "code",
      "source": [
        "# filter the collection and apply (map) the indices algorithm\n",
        "collection = l8.filterBounds(point) \\\n",
        "   .filterDate('2021-01-01', '2021-05-31') \\\n",
        "   .filterMetadata('CLOUD_COVER_LAND','less_than',20) \\\n",
        "   .sort('CLOUD_COVER') \\\n",
        "   .map(algorithm=indices)\n",
        "\n",
        "# Assign the first image in the new collection to an image variable, new_evi.\n",
        "new_evi = collection.first()\n",
        "print('evi Image band names:')\n",
        "band_names = new_evi.bandNames()\n",
        "# Get a list of band names\n",
        "bn = band_names.getInfo()\n",
        "# Use a for loop to print each value in the list\n",
        "for b in bn:\n",
        "  print(b)  # ee.List of band names\n"
      ],
      "metadata": {
        "id": "8YPRIWGrjK-n",
        "colab": {
          "base_uri": "https://localhost:8080/"
        },
        "outputId": "cbb72b4b-c103-42ca-f841-887ea4740fa6"
      },
      "execution_count": 18,
      "outputs": [
        {
          "output_type": "stream",
          "name": "stdout",
          "text": [
            "evi Image band names:\n",
            "nir\n",
            "red\n",
            "blue\n",
            "EVI\n"
          ]
        }
      ]
    },
    {
      "cell_type": "markdown",
      "source": [
        "### Let's take a look at the new data created by the two previous code blocks\n",
        "Note that the map center point is adjusted. The old eviParams are applied. You can change this if you like."
      ],
      "metadata": {
        "id": "zwhSqrOzkw5E"
      }
    },
    {
      "cell_type": "code",
      "metadata": {
        "id": "A4QHVe3ceE4N",
        "colab": {
          "base_uri": "https://localhost:8080/",
          "height": 712
        },
        "outputId": "80778b59-54c7-4e47-bc0d-b413dac74f78"
      },
      "source": [
        "evi2 = new_evi.select(['EVI'])\n",
        "point2 = ee.Geometry.Point([-122.1432, 37.4661])\n",
        "Map = geemap.Map()  # Create an empty map\n",
        "Map.addLayer(evi2, eviParams, 'EVI Collection image')\n",
        "Map.centerObject(point2, 9)\n",
        "Map \n",
        "\n",
        "\n"
      ],
      "execution_count": 19,
      "outputs": [
        {
          "output_type": "execute_result",
          "data": {
            "text/plain": [
              "<geemap.eefolium.Map at 0x7f26e7ce6410>"
            ],
            "text/html": [
              "<div style=\"width:100%;\"><div style=\"position:relative;width:100%;height:0;padding-bottom:60%;\"><span style=\"color:#565656\">Make this Notebook Trusted to load map: File -> Trust Notebook</span><iframe srcdoc=\"&lt;!DOCTYPE html&gt;\n",
              "&lt;head&gt;    \n",
              "    &lt;meta http-equiv=&quot;content-type&quot; content=&quot;text/html; charset=UTF-8&quot; /&gt;\n",
              "    \n",
              "        &lt;script&gt;\n",
              "            L_NO_TOUCH = false;\n",
              "            L_DISABLE_3D = false;\n",
              "        &lt;/script&gt;\n",
              "    \n",
              "    &lt;style&gt;html, body {width: 100%;height: 100%;margin: 0;padding: 0;}&lt;/style&gt;\n",
              "    &lt;style&gt;#map {position:absolute;top:0;bottom:0;right:0;left:0;}&lt;/style&gt;\n",
              "    &lt;script src=&quot;https://cdn.jsdelivr.net/npm/leaflet@1.6.0/dist/leaflet.js&quot;&gt;&lt;/script&gt;\n",
              "    &lt;script src=&quot;https://code.jquery.com/jquery-1.12.4.min.js&quot;&gt;&lt;/script&gt;\n",
              "    &lt;script src=&quot;https://maxcdn.bootstrapcdn.com/bootstrap/3.2.0/js/bootstrap.min.js&quot;&gt;&lt;/script&gt;\n",
              "    &lt;script src=&quot;https://cdnjs.cloudflare.com/ajax/libs/Leaflet.awesome-markers/2.0.2/leaflet.awesome-markers.js&quot;&gt;&lt;/script&gt;\n",
              "    &lt;link rel=&quot;stylesheet&quot; href=&quot;https://cdn.jsdelivr.net/npm/leaflet@1.6.0/dist/leaflet.css&quot;/&gt;\n",
              "    &lt;link rel=&quot;stylesheet&quot; href=&quot;https://maxcdn.bootstrapcdn.com/bootstrap/3.2.0/css/bootstrap.min.css&quot;/&gt;\n",
              "    &lt;link rel=&quot;stylesheet&quot; href=&quot;https://maxcdn.bootstrapcdn.com/bootstrap/3.2.0/css/bootstrap-theme.min.css&quot;/&gt;\n",
              "    &lt;link rel=&quot;stylesheet&quot; href=&quot;https://maxcdn.bootstrapcdn.com/font-awesome/4.6.3/css/font-awesome.min.css&quot;/&gt;\n",
              "    &lt;link rel=&quot;stylesheet&quot; href=&quot;https://cdnjs.cloudflare.com/ajax/libs/Leaflet.awesome-markers/2.0.2/leaflet.awesome-markers.css&quot;/&gt;\n",
              "    &lt;link rel=&quot;stylesheet&quot; href=&quot;https://cdn.jsdelivr.net/gh/python-visualization/folium/folium/templates/leaflet.awesome.rotate.min.css&quot;/&gt;\n",
              "    \n",
              "            &lt;meta name=&quot;viewport&quot; content=&quot;width=device-width,\n",
              "                initial-scale=1.0, maximum-scale=1.0, user-scalable=no&quot; /&gt;\n",
              "            &lt;style&gt;\n",
              "                #map_4ff9a5556c722be15c124fa397a3f11a {\n",
              "                    position: relative;\n",
              "                    width: 100.0%;\n",
              "                    height: 100.0%;\n",
              "                    left: 0.0%;\n",
              "                    top: 0.0%;\n",
              "                }\n",
              "            &lt;/style&gt;\n",
              "        \n",
              "    &lt;script src=&quot;https://cdnjs.cloudflare.com/ajax/libs/leaflet.fullscreen/1.4.2/Control.FullScreen.min.js&quot;&gt;&lt;/script&gt;\n",
              "    &lt;link rel=&quot;stylesheet&quot; href=&quot;https://cdnjs.cloudflare.com/ajax/libs/leaflet.fullscreen/1.4.2/Control.FullScreen.min.css&quot;/&gt;\n",
              "&lt;/head&gt;\n",
              "&lt;body&gt;    \n",
              "    \n",
              "            &lt;div class=&quot;folium-map&quot; id=&quot;map_4ff9a5556c722be15c124fa397a3f11a&quot; &gt;&lt;/div&gt;\n",
              "        \n",
              "&lt;/body&gt;\n",
              "&lt;script&gt;    \n",
              "    \n",
              "            var map_4ff9a5556c722be15c124fa397a3f11a = L.map(\n",
              "                &quot;map_4ff9a5556c722be15c124fa397a3f11a&quot;,\n",
              "                {\n",
              "                    center: [20.0, 0.0],\n",
              "                    crs: L.CRS.EPSG3857,\n",
              "                    zoom: 2,\n",
              "                    zoomControl: true,\n",
              "                    preferCanvas: false,\n",
              "                    eeInitialize: true,\n",
              "                    addGoogleMap: true,\n",
              "                    pluginLatlngpopup: true,\n",
              "                    pluginFullscreen: true,\n",
              "                    pluginDraw: false,\n",
              "                    DrawExport: true,\n",
              "                    pluginMinimap: false,\n",
              "                    pluginLayercontrol: false,\n",
              "                }\n",
              "            );\n",
              "\n",
              "            \n",
              "\n",
              "        \n",
              "    \n",
              "            var tile_layer_64798e9e0dc25ae6c11a665bbb0ed023 = L.tileLayer(\n",
              "                &quot;https://{s}.tile.openstreetmap.org/{z}/{x}/{y}.png&quot;,\n",
              "                {&quot;attribution&quot;: &quot;Data by \\u0026copy; \\u003ca href=\\&quot;http://openstreetmap.org\\&quot;\\u003eOpenStreetMap\\u003c/a\\u003e, under \\u003ca href=\\&quot;http://www.openstreetmap.org/copyright\\&quot;\\u003eODbL\\u003c/a\\u003e.&quot;, &quot;detectRetina&quot;: false, &quot;maxNativeZoom&quot;: 18, &quot;maxZoom&quot;: 18, &quot;minZoom&quot;: 0, &quot;noWrap&quot;: false, &quot;opacity&quot;: 1, &quot;subdomains&quot;: &quot;abc&quot;, &quot;tms&quot;: false}\n",
              "            ).addTo(map_4ff9a5556c722be15c124fa397a3f11a);\n",
              "        \n",
              "    \n",
              "            var tile_layer_27bbed89bed2d16c68c3c22e94c14875 = L.tileLayer(\n",
              "                &quot;https://mt1.google.com/vt/lyrs=m\\u0026x={x}\\u0026y={y}\\u0026z={z}&quot;,\n",
              "                {&quot;attribution&quot;: &quot;Google&quot;, &quot;detectRetina&quot;: false, &quot;maxNativeZoom&quot;: 18, &quot;maxZoom&quot;: 18, &quot;minZoom&quot;: 0, &quot;noWrap&quot;: false, &quot;opacity&quot;: 1, &quot;subdomains&quot;: &quot;abc&quot;, &quot;tms&quot;: false}\n",
              "            ).addTo(map_4ff9a5556c722be15c124fa397a3f11a);\n",
              "        \n",
              "    \n",
              "                var lat_lng_popup_4994ee6102ee7b939533b6ffc7655947 = L.popup();\n",
              "                function latLngPop(e) {\n",
              "                    lat_lng_popup_4994ee6102ee7b939533b6ffc7655947\n",
              "                        .setLatLng(e.latlng)\n",
              "                        .setContent(&quot;Latitude: &quot; + e.latlng.lat.toFixed(4) +\n",
              "                                    &quot;&lt;br&gt;Longitude: &quot; + e.latlng.lng.toFixed(4))\n",
              "                        .openOn(map_4ff9a5556c722be15c124fa397a3f11a);\n",
              "                    }\n",
              "                map_4ff9a5556c722be15c124fa397a3f11a.on(&#x27;click&#x27;, latLngPop);\n",
              "            \n",
              "    \n",
              "            L.control.fullscreen(\n",
              "                {&quot;forceSeparateButton&quot;: false, &quot;position&quot;: &quot;topleft&quot;, &quot;title&quot;: &quot;Full Screen&quot;, &quot;titleCancel&quot;: &quot;Exit Full Screen&quot;}\n",
              "            ).addTo(map_4ff9a5556c722be15c124fa397a3f11a);\n",
              "        \n",
              "    \n",
              "            map_4ff9a5556c722be15c124fa397a3f11a.fitBounds(\n",
              "                [[20, 0], [20, 0]],\n",
              "                {&quot;maxZoom&quot;: 2}\n",
              "            );\n",
              "        \n",
              "    \n",
              "            var tile_layer_22a874bd763f305da449fc9ab6431ec7 = L.tileLayer(\n",
              "                &quot;https://earthengine.googleapis.com/v1alpha/projects/earthengine-legacy/maps/381fbd8c77705770f7580e90c6bbe527-ba5d69ed3f3174204fceae6cef9603cc/tiles/{z}/{x}/{y}&quot;,\n",
              "                {&quot;attribution&quot;: &quot;Google Earth Engine&quot;, &quot;detectRetina&quot;: false, &quot;maxNativeZoom&quot;: 18, &quot;maxZoom&quot;: 18, &quot;minZoom&quot;: 0, &quot;noWrap&quot;: false, &quot;opacity&quot;: 1.0, &quot;subdomains&quot;: &quot;abc&quot;, &quot;tms&quot;: false}\n",
              "            ).addTo(map_4ff9a5556c722be15c124fa397a3f11a);\n",
              "        \n",
              "    \n",
              "            map_4ff9a5556c722be15c124fa397a3f11a.fitBounds(\n",
              "                [[37.46609999999999, -122.1432], [37.46609999999999, -122.1432]],\n",
              "                {&quot;maxZoom&quot;: 9}\n",
              "            );\n",
              "        \n",
              "    \n",
              "            var layer_control_5d81d31ce9e393365fe7ede6cad0048e = {\n",
              "                base_layers : {\n",
              "                    &quot;openstreetmap&quot; : tile_layer_64798e9e0dc25ae6c11a665bbb0ed023,\n",
              "                },\n",
              "                overlays :  {\n",
              "                    &quot;Google Maps&quot; : tile_layer_27bbed89bed2d16c68c3c22e94c14875,\n",
              "                    &quot;EVI Collection image&quot; : tile_layer_22a874bd763f305da449fc9ab6431ec7,\n",
              "                },\n",
              "            };\n",
              "            L.control.layers(\n",
              "                layer_control_5d81d31ce9e393365fe7ede6cad0048e.base_layers,\n",
              "                layer_control_5d81d31ce9e393365fe7ede6cad0048e.overlays,\n",
              "                {&quot;autoZIndex&quot;: true, &quot;collapsed&quot;: true, &quot;position&quot;: &quot;topright&quot;}\n",
              "            ).addTo(map_4ff9a5556c722be15c124fa397a3f11a);\n",
              "        \n",
              "&lt;/script&gt;\" style=\"position:absolute;width:100%;height:100%;left:0;top:0;border:none !important;\" allowfullscreen webkitallowfullscreen mozallowfullscreen></iframe></div></div>"
            ]
          },
          "metadata": {},
          "execution_count": 19
        }
      ]
    }
  ]
}