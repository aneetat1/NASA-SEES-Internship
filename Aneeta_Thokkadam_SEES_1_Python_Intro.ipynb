{
  "nbformat": 4,
  "nbformat_minor": 0,
  "metadata": {
    "kernelspec": {
      "display_name": "Python 3",
      "language": "python",
      "name": "python3"
    },
    "language_info": {
      "codemirror_mode": {
        "name": "ipython",
        "version": 3
      },
      "file_extension": ".py",
      "mimetype": "text/x-python",
      "name": "python",
      "nbconvert_exporter": "python",
      "pygments_lexer": "ipython3",
      "version": "3.5.2"
    },
    "colab": {
      "name": "Aneeta Thokkadam - SEES 1-Python Intro.ipynb",
      "provenance": [],
      "collapsed_sections": [],
      "include_colab_link": true
    }
  },
  "cells": [
    {
      "cell_type": "markdown",
      "metadata": {
        "id": "view-in-github",
        "colab_type": "text"
      },
      "source": [
        "<a href=\"https://colab.research.google.com/github/aneetat1/NASA-SEES-Internship/blob/main/Aneeta_Thokkadam_SEES_1_Python_Intro.ipynb\" target=\"_parent\"><img src=\"https://colab.research.google.com/assets/colab-badge.svg\" alt=\"Open In Colab\"/></a>"
      ]
    },
    {
      "cell_type": "markdown",
      "metadata": {
        "id": "4SpDk7v9Y8Kx"
      },
      "source": [
        "# CREDIT: Prof. Raja GuhaThakurta of UCSC and the Science Internship Program || Aneeta Thokkadam, Climate Disaster Preparedness (O-CD), 07/01/2022\n",
        "This Python tutorial was originally developed by Dr. Raja GuhaThakurta and his astronomy graduate students as part of the [Science Internship Program (SIP)](https://sip.ucsc.edu/about/) for Bay Area high school students at the University of California Santa Cruz (UCSC). Dr. GuhaThakurta's tutorial is called Python and Research (PyaR).\n",
        "\n",
        "SEES thanks Dr. GuhaThakurta for his generosity in sharing Jupyter notebooks, video tutorials, data, and related resources.\n",
        "\n",
        "In 2020, a SEES mentor adapted Dr. GuhaThakurta's tutorials to run in the Google Colaboratory. The notebook has been updated for SEES 2022."
      ]
    },
    {
      "cell_type": "markdown",
      "metadata": {
        "id": "Yp3soO2KKUur"
      },
      "source": [
        "# An Introduction to Programming with Python\n",
        "![python](https://www.python.org/static/opengraph-icon-200x200.png)\n",
        "\n",
        "The goal of this notebook is to give a brief introduction to how to begin programming with Python.  Some additional resources are listed below for self-directed learning.  \n",
        "\n",
        "* Read the docs: [python.org](https://python.org)\n",
        "* The official Python [tutorial](https://docs.python.org/3/tutorial/index.html) is fantastic!\n",
        "  * chapters 3 through 5 cover a lot of good material for starting out\n",
        "* [Object-Oriented Programming in Python](http://python-textbok.readthedocs.io/en/1.0/index.html).  Despite the name, this free online textbook comprehensively covers much of the language beyond just object-oriented programming\n",
        "* [Stack Overflow](http://stackoverflow.com/): you may end up here anyway when googling your problems, this can be a good source of programming questions and answers.\n",
        "\n",
        "While there aren't too many major differences between the different versions of Python 3, there are some notable differences between Python 2 and Python 3 that may come up from time to time. Be careful to check the Python version when seeking advise online.\n",
        "\n",
        "## Jupyter notebook\n",
        "![jupyter](https://avatars3.githubusercontent.com/u/7388996?v=3&s=200)\n",
        "\n",
        "A Jupyter notebook is a browser-based environment for running computations. Google's Colaboratory was developed in conjunction with the developers of Jupyter notebooks.\n",
        "You can read the official Jupyter documentation [here](http://jupyter-notebook.readthedocs.io/en/latest/notebook.html#notebook-user-interface).\n",
        "\n",
        "## Anaconda\n",
        "When you watch the PyaR videos and read some of the accompanying documentation, you will hear about Anaconda. Anaconda is a flexible and powerful Python installation. An [open source individual installation](https://www.anaconda.com/products/individual) is available for Windows, Mac, and Linux computers. \n",
        "\n",
        "You do not need to install Anaconda for the SEES Python lesson. But if you enjoy what you learn, you may want to try it.\n",
        "\n",
        "Some of the directions that you will see in the video tutorials only work in Anaconda. Our revised notebooks will guide you through any different steps that you need to take.\n",
        "\n",
        "## Google Colaboratory\n",
        "\n",
        "For SEES 2022 we are taking advantage of Google's [Colaboratory](https://colab.research.google.com/notebooks/intro.ipynb) notebooks. The Colaboratory, Colab for sort, provides cloud-based notebooks for anyone to use. These notebooks are based on Jupyter notebooks. \n",
        "In summer 2022 Colab's Jupyter notebooks employ Python 3.7. \n",
        "We'll be using the Colab environment to run Python code in the cloud without having to install Python software on your computer.\n",
        "\n",
        "The main thing you need to know for now is:\n",
        "* how to run code in a Colab notebook\n",
        "* how to edit code in a Colab notebook\n",
        "* how to save your own version of a Colab notebook"
      ]
    },
    {
      "cell_type": "markdown",
      "metadata": {
        "id": "9b2koAshNKzk"
      },
      "source": [
        "## How to run code in a Colab notebook \n",
        "To execute the code in the cell below, select it with a click and then either **press the Play icon to the left of the code**, or use the appropriate keyboard shortcut:\n",
        "* \"***Command+Return***\" (Mac)\n",
        "* \"***Ctrl+Enter***\" (Windows)\n",
        "\n",
        "**Important note:** In Anaconda and in the PyaR video tutorials, you are directed to use ***Shift+Enter/Return***. This works as well, with the difference that you will automatically move to the next cell. It's an easy way to navigate any Jupyter notebook.\n",
        "\n",
        "Text highlighted in gray in a text cell that does not display the Play icon or square brackets at left is example only text. \n",
        "\n",
        "Numbers will appear in the square brackets to left of code after you run code, keeping track of the order that you run code and how many times it is run."
      ]
    },
    {
      "cell_type": "code",
      "metadata": {
        "id": "9hG0Cl0qe30O",
        "colab": {
          "base_uri": "https://localhost:8080/"
        },
        "outputId": "a97ce083-2179-4696-9eb2-2ffee77ab45f"
      },
      "source": [
        "print(\"Welcome to the first SEES 2022 Python notebook.\")\n",
        "print(\"Thank you to all the PyaR Team!!!\")"
      ],
      "execution_count": null,
      "outputs": [
        {
          "output_type": "stream",
          "name": "stdout",
          "text": [
            "Welcome to the first SEES 2022 Python notebook.\n",
            "Thank you to all the PyaR Team!!!\n"
          ]
        }
      ]
    },
    {
      "cell_type": "markdown",
      "metadata": {
        "id": "v0yQNsmOOY0v"
      },
      "source": [
        "## How to edit code in a Colab notebook\n",
        "To edit the code, just click the cell and start editing. You will do this later in the notebook."
      ]
    },
    {
      "cell_type": "markdown",
      "metadata": {
        "id": "zaZonYEGRMot"
      },
      "source": [
        "## How to save a copy of the notebook, if you need to\n",
        "Look at the top of your notebook, under the ipynb file name.\n",
        "1.   Choose **File** from the menu.\n",
        "2.   Choose **Save a copy in Drive**.\n",
        "\n",
        "But where is my file saved???? Look in your main Google Drive folder. You will see a folder named *Colab Notebooks*. That's where the Colaboratory saves your Jupyter notebook (filename ending .ipynb), after adding \"*Copy of*\" to the front of the file name. You can rename the file in Drive.\n",
        "\n",
        "You can also choose to download the .ipynb to your local computer. \n"
      ]
    },
    {
      "cell_type": "markdown",
      "source": [
        "## Basic and Intermediate Level details\n",
        "\n",
        "Just so you know, both of these levels use the same source Jupyter notebooks. But the Google Classroom handles them differently.\n",
        "\n",
        "Notebooks linked in the Basic Level assigments are viewable but not saveable, unless you make a copy. You don't need to save a copy of any notebook for the Basic Level Certificate, although you can. You should run and edit code, and take the quiz for each of the 6 notebooks to meet the certificate requirements. \n",
        "\n",
        "Those of you attempting to earn the Intermediate Level Certificate (and we hope that everyone does since everyone takes the time to work through each notebook), the Google Classroom will make you a uniquely named copy of the notebook when you begin the Intermediate assignments. That's what you will submit, plus any noted output where applicable. This current notebook does not generate any external files. \n",
        "\n",
        "\n"
      ],
      "metadata": {
        "id": "KTiwwlLT7_jA"
      }
    },
    {
      "cell_type": "markdown",
      "metadata": {
        "id": "5e3W9St-KUus"
      },
      "source": [
        "# Let's get started with \"Hello, World\""
      ]
    },
    {
      "cell_type": "markdown",
      "metadata": {
        "id": "4CAsDlxlexGH"
      },
      "source": [
        "Run the next code cell."
      ]
    },
    {
      "cell_type": "code",
      "metadata": {
        "id": "qWHrPacTKUuu",
        "colab": {
          "base_uri": "https://localhost:8080/"
        },
        "outputId": "8c4af617-97dc-4b2d-ad04-0273d17efb3e"
      },
      "source": [
        "print(\"Hello, World!\")"
      ],
      "execution_count": null,
      "outputs": [
        {
          "output_type": "stream",
          "name": "stdout",
          "text": [
            "Hello, World!\n"
          ]
        }
      ]
    },
    {
      "cell_type": "markdown",
      "metadata": {
        "id": "RFd3kfCgKUvN"
      },
      "source": [
        "So what's the big deal?  That it *isn't* a big deal to do something as \"simple\" as outputting text!  Compare this with the equivalent program in Java:\n",
        "\n",
        "```java\n",
        "public class Hello {\n",
        "    public static void main(String[] args) {\n",
        "        System.out.println(\"Hello, World!\");\n",
        "    }\n",
        "}\n",
        "```\n",
        "\n",
        "That's not to say that programming languages like Java or C++ don't have their proper purpose or place.  But the biggest benefit of Python is that it decreases the barrier between thinking something and doing something.  In this tutorial, we'll get a taste of just what we can do.\n",
        "\n",
        "A meta-comment: lines that start with the hash symbol, `#`, are comments; they do nothing, but are a great way of making notes for both yourself and others who will be looking at your code."
      ]
    },
    {
      "cell_type": "markdown",
      "metadata": {
        "id": "zS3R1KEJKUvN"
      },
      "source": [
        "<img style=\"float: left;\" src=\"https://d30y9cdsu7xlg0.cloudfront.net/png/11431-200.png\">\n",
        "\n",
        "Peppered throughout this notebook are some caution signs, denoting some common pitfalls.  Here's our first one!  Evaluating a code cell in a Jupyter notebook will print out the output from the last line.  So\n",
        "```python\n",
        "\"hello\"\n",
        "\"world\"\n",
        "```\n",
        "will print out \"world\", while\n",
        "```python\n",
        "print(\"hello\")\n",
        "print(\"world\")\n",
        "```\n",
        "will explicitly print out both \"hello\" and \"world\". Try this out in the next two code cells."
      ]
    },
    {
      "cell_type": "code",
      "source": [
        "\"hello\"\n",
        "\"world\""
      ],
      "metadata": {
        "id": "XQ94jKBxVupq",
        "colab": {
          "base_uri": "https://localhost:8080/",
          "height": 35
        },
        "outputId": "a46bd73d-c886-4752-b4be-c1fbb365b6d3"
      },
      "execution_count": null,
      "outputs": [
        {
          "output_type": "execute_result",
          "data": {
            "text/plain": [
              "'world'"
            ],
            "application/vnd.google.colaboratory.intrinsic+json": {
              "type": "string"
            }
          },
          "metadata": {},
          "execution_count": 3
        }
      ]
    },
    {
      "cell_type": "code",
      "source": [
        "print(\"hello\")\n",
        "print(\"world\")"
      ],
      "metadata": {
        "id": "CNpkd42wV0kS",
        "colab": {
          "base_uri": "https://localhost:8080/"
        },
        "outputId": "e3d1feba-5729-4ed4-deeb-cdc5569dddb5"
      },
      "execution_count": null,
      "outputs": [
        {
          "output_type": "stream",
          "name": "stdout",
          "text": [
            "hello\n",
            "world\n"
          ]
        }
      ]
    },
    {
      "cell_type": "markdown",
      "metadata": {
        "id": "79JqAu70KUvO"
      },
      "source": [
        "## Using Python as a scientific calculator\n",
        "\n",
        "Run the next cells one by one and inspect the output."
      ]
    },
    {
      "cell_type": "code",
      "metadata": {
        "id": "-bccm1O8KUvP",
        "colab": {
          "base_uri": "https://localhost:8080/"
        },
        "outputId": "91d1fca5-9795-4033-d661-ab31a0007842"
      },
      "source": [
        "2 + 2"
      ],
      "execution_count": null,
      "outputs": [
        {
          "output_type": "execute_result",
          "data": {
            "text/plain": [
              "4"
            ]
          },
          "metadata": {},
          "execution_count": 5
        }
      ]
    },
    {
      "cell_type": "code",
      "metadata": {
        "id": "hutn_CWsKUvU",
        "colab": {
          "base_uri": "https://localhost:8080/"
        },
        "outputId": "a02aa420-df32-424c-d758-50f345b88477"
      },
      "source": [
        "4 - 2"
      ],
      "execution_count": null,
      "outputs": [
        {
          "output_type": "execute_result",
          "data": {
            "text/plain": [
              "2"
            ]
          },
          "metadata": {},
          "execution_count": 8
        }
      ]
    },
    {
      "cell_type": "code",
      "metadata": {
        "id": "IZcbBDOEKUvY",
        "colab": {
          "base_uri": "https://localhost:8080/"
        },
        "outputId": "63b2303f-cc79-4c57-af63-2bd916b1e879"
      },
      "source": [
        "4 * 2"
      ],
      "execution_count": null,
      "outputs": [
        {
          "output_type": "execute_result",
          "data": {
            "text/plain": [
              "8"
            ]
          },
          "metadata": {},
          "execution_count": 9
        }
      ]
    },
    {
      "cell_type": "code",
      "metadata": {
        "id": "Gvqu9iHCKUvb",
        "colab": {
          "base_uri": "https://localhost:8080/"
        },
        "outputId": "dcd6e028-bb4f-42a0-f180-2bf9c88d6a29"
      },
      "source": [
        "4 / 2"
      ],
      "execution_count": null,
      "outputs": [
        {
          "output_type": "execute_result",
          "data": {
            "text/plain": [
              "2.0"
            ]
          },
          "metadata": {},
          "execution_count": 10
        }
      ]
    },
    {
      "cell_type": "code",
      "metadata": {
        "id": "XuGJV8kbKUvf",
        "colab": {
          "base_uri": "https://localhost:8080/"
        },
        "outputId": "4ee0d931-10b4-4d21-96ff-81ae1c936fea"
      },
      "source": [
        "# Note that the power operation is \"**\", not \"^\"!\n",
        "4 ** 2"
      ],
      "execution_count": null,
      "outputs": [
        {
          "output_type": "execute_result",
          "data": {
            "text/plain": [
              "16"
            ]
          },
          "metadata": {},
          "execution_count": 11
        }
      ]
    },
    {
      "cell_type": "markdown",
      "metadata": {
        "id": "H3QxaCVeKUvi"
      },
      "source": [
        "<img style=\"float: left;\" src=\"https://d30y9cdsu7xlg0.cloudfront.net/png/11431-200.png\">\n",
        "\n",
        "In fact, the caret operator, `^`, is used in a completely different context in Python, and so\n",
        "```\n",
        "1 ^ 2\n",
        "```\n",
        "is a legal operation which happens to return `3`.  See [bitwise XOR](https://en.wikipedia.org/wiki/Exclusive_or#Bitwise_operation) if you're interested, and ignore it otherwise. You can test the operation yourself in the next code cell.\n"
      ]
    },
    {
      "cell_type": "code",
      "source": [
        "1 ^ 2"
      ],
      "metadata": {
        "id": "tR5SnkkLZWyq",
        "colab": {
          "base_uri": "https://localhost:8080/"
        },
        "outputId": "dd7ac323-2da0-4594-a699-f3fd2e6cbfd4"
      },
      "execution_count": null,
      "outputs": [
        {
          "output_type": "execute_result",
          "data": {
            "text/plain": [
              "3"
            ]
          },
          "metadata": {},
          "execution_count": 12
        }
      ]
    },
    {
      "cell_type": "markdown",
      "source": [
        "Python honors PEDMAS, a standard oder of mathematical operations: \n",
        "*   **P**  -> Parentheses first\n",
        "*   **E**  -> Exponents (ie Powers and Square Roots, etc.)\n",
        "*   **MD** -> Multiplication and Division (left-to-right)\n",
        "*   **AS** -> Addition and Subtraction (left-to-right)\n",
        "\n",
        "Run the next code cell and verify the math by solving the problem on paper. Then, in the **second** code cell, remove the parentheses and run the altered code. Did you get the same answer? Verify the answer again. Repeat at least once more in the third cell. Place the parentheses around different parts of the equation or change the operations until you understand how Python works with PEDMAS. You can copy and paste the code cell additonal times to help in the process."
      ],
      "metadata": {
        "id": "HUqHGKgdZKTL"
      }
    },
    {
      "cell_type": "code",
      "metadata": {
        "id": "xXMONEDjKUvj",
        "colab": {
          "base_uri": "https://localhost:8080/"
        },
        "outputId": "ae827f39-2278-415a-99b6-a0f2994ff17a"
      },
      "source": [
        "(1 + 2) * 3 ** 4 / 5 - 6"
      ],
      "execution_count": null,
      "outputs": [
        {
          "output_type": "execute_result",
          "data": {
            "text/plain": [
              "42.6"
            ]
          },
          "metadata": {},
          "execution_count": 13
        }
      ]
    },
    {
      "cell_type": "code",
      "metadata": {
        "id": "3gy2mBMXW0d3",
        "colab": {
          "base_uri": "https://localhost:8080/"
        },
        "outputId": "96f70430-5424-4167-feb6-1eaa8e3e7eeb"
      },
      "source": [
        "(1 + 2) * 3 ** 4 / 5 - 6"
      ],
      "execution_count": null,
      "outputs": [
        {
          "output_type": "execute_result",
          "data": {
            "text/plain": [
              "42.6"
            ]
          },
          "metadata": {},
          "execution_count": 14
        }
      ]
    },
    {
      "cell_type": "code",
      "metadata": {
        "id": "xOvNDH0bW1eV",
        "colab": {
          "base_uri": "https://localhost:8080/"
        },
        "outputId": "3c481a0b-4368-4629-be82-21b7daa5ffa5"
      },
      "source": [
        "(1 + 2) * 3 ** 4 / 5 - 6"
      ],
      "execution_count": null,
      "outputs": [
        {
          "output_type": "execute_result",
          "data": {
            "text/plain": [
              "42.6"
            ]
          },
          "metadata": {},
          "execution_count": 15
        }
      ]
    },
    {
      "cell_type": "markdown",
      "source": [
        "# Another potential pitfall!\n",
        "\n",
        "<img style=\"float: left;\" src=\"https://d30y9cdsu7xlg0.cloudfront.net/png/11431-200.png\">\n",
        "\n",
        "You might get errors when you run a code cell if you don’t run the code cells in order. This can happen because the variables in the cell might not have been initialized. This really starts to matter in the next sections of the notebook."
      ],
      "metadata": {
        "id": "dYAB5akkZuci"
      }
    },
    {
      "cell_type": "markdown",
      "metadata": {
        "id": "jN5P0Mt_KUvm"
      },
      "source": [
        "## Assigning values to variables\n",
        "Variables, like in algebra, are a container to hold an arbitrary value.  We can store a value in a variable through the process of assignment, using the assignment operator, `=`, a single equals sign."
      ]
    },
    {
      "cell_type": "code",
      "metadata": {
        "id": "XrZ-kNR4KUvn",
        "colab": {
          "base_uri": "https://localhost:8080/"
        },
        "outputId": "29c7341d-b8d6-47b6-dd2c-fde4d18eed81"
      },
      "source": [
        "a = 1\n",
        "b = 2\n",
        "print(a)\n",
        "print(b)"
      ],
      "execution_count": null,
      "outputs": [
        {
          "output_type": "stream",
          "name": "stdout",
          "text": [
            "1\n",
            "2\n"
          ]
        }
      ]
    },
    {
      "cell_type": "code",
      "metadata": {
        "id": "j9ucq-vPKUvq",
        "colab": {
          "base_uri": "https://localhost:8080/"
        },
        "outputId": "391b0227-1e52-420a-d5cc-17af2f806a01"
      },
      "source": [
        "# we can reassign the variable to have a new value\n",
        "a = 1 + 2\n",
        "print(a)\n",
        "a = 27\n",
        "print(a)"
      ],
      "execution_count": null,
      "outputs": [
        {
          "output_type": "stream",
          "name": "stdout",
          "text": [
            "3\n",
            "27\n"
          ]
        }
      ]
    },
    {
      "cell_type": "code",
      "metadata": {
        "id": "1S-CcUJYKUvt",
        "colab": {
          "base_uri": "https://localhost:8080/"
        },
        "outputId": "390a1d16-e690-40ae-b989-0a43f9386646"
      },
      "source": [
        "# we can perform operations on variables as we did for normal numbers\n",
        "a = 1\n",
        "b = 2\n",
        "print(a + b)"
      ],
      "execution_count": null,
      "outputs": [
        {
          "output_type": "stream",
          "name": "stdout",
          "text": [
            "3\n"
          ]
        }
      ]
    },
    {
      "cell_type": "code",
      "metadata": {
        "id": "ggfISZn7KUvw",
        "colab": {
          "base_uri": "https://localhost:8080/"
        },
        "outputId": "09fa3194-1d0b-42f1-d6ae-78761b9ac0f3"
      },
      "source": [
        "# note that in this notebook environment, variables will retain (keep) their assigned values from cell to cell.\n",
        "print(a, b)"
      ],
      "execution_count": null,
      "outputs": [
        {
          "output_type": "stream",
          "name": "stdout",
          "text": [
            "1 2\n"
          ]
        }
      ]
    },
    {
      "cell_type": "markdown",
      "metadata": {
        "id": "xVuGUVCoKUvz"
      },
      "source": [
        "This is useful in that you don't need to write all of your code to be evaluated in one cell.  But it can lead to unexpected behavior if you are constantly assigning to the same variable names.\n",
        "\n"
      ]
    },
    {
      "cell_type": "markdown",
      "metadata": {
        "id": "bV-sOlcRacCq"
      },
      "source": [
        "<img style=\"float: left;\" src=\"https://d30y9cdsu7xlg0.cloudfront.net/png/11431-200.png\">\n",
        "\n",
        "Danger! Danger! It's nice to use short variable names, but it is even nicer to use variable names that have meaning. You will thank yourself later when you read your code again or reuse a variable in a later code cell, and can't remember what variable *a* means.\n",
        "\n",
        "```python\n",
        "galaxy_name = 'Andromeda\"\n",
        "```\n",
        "might take longer to type than\n",
        "\n",
        "```python\n",
        "a = 'Andromeda\"\n",
        "```\n",
        "but it's a lot easier to remember what kind of value the variable holds.\n"
      ]
    },
    {
      "cell_type": "markdown",
      "metadata": {
        "id": "TkyZa_k6KUvz"
      },
      "source": [
        "<img style=\"float: left;\" src=\"https://d30y9cdsu7xlg0.cloudfront.net/png/11431-200.png\">\n",
        "\n",
        "Beware!  While the expression \"3 + 1 = 4\" makes sense mathematically, it is nonsense in Python.  The assignment operator, \"=\", goes to the right of the variable to be assigned, and is followed by the value with which the variable is assigned.\n",
        "```python\n",
        "3 + 1 = 4\n",
        "```\n",
        "will raise a syntax error."
      ]
    },
    {
      "cell_type": "markdown",
      "metadata": {
        "id": "UDbmTmlDKUv0"
      },
      "source": [
        "Since updating a variable based on its previous value is a common operation, there's a shortcut for doing this assignment."
      ]
    },
    {
      "cell_type": "code",
      "metadata": {
        "id": "9D3ibK0XKUv1",
        "colab": {
          "base_uri": "https://localhost:8080/"
        },
        "outputId": "54dcbd3e-7d49-4acb-c70f-023f43c0793c"
      },
      "source": [
        "a = 1\n",
        "print(a)\n",
        "a += 1  # is the same thing as writing a = a + 1\n",
        "print(a)\n",
        "a *= 3  # is the same thing as writing a = a * 3\n",
        "print(a)"
      ],
      "execution_count": null,
      "outputs": [
        {
          "output_type": "stream",
          "name": "stdout",
          "text": [
            "1\n",
            "2\n",
            "6\n"
          ]
        }
      ]
    },
    {
      "cell_type": "markdown",
      "metadata": {
        "id": "TwCRcTdcKUv3"
      },
      "source": [
        "## Strings\n",
        "Aside from just doing number crunching, sometimes we'll need to manipulate strings of characters.  Python provides a lot of built-in [tools](https://docs.python.org/3.7/library/stdtypes.html#string-methods) for doing so."
      ]
    },
    {
      "cell_type": "code",
      "metadata": {
        "id": "S421gEDkKUv4",
        "colab": {
          "base_uri": "https://localhost:8080/"
        },
        "outputId": "0817d627-06de-4b32-8334-33cc945d47e2"
      },
      "source": [
        "s = \"Hello, World!\"\n",
        "print(s)\n",
        "print(s.lower())\n",
        "print(s.upper())\n",
        "print(s.replace('World', 'SEES'))"
      ],
      "execution_count": null,
      "outputs": [
        {
          "output_type": "stream",
          "name": "stdout",
          "text": [
            "Hello, World!\n",
            "hello, world!\n",
            "HELLO, WORLD!\n",
            "Hello, SEES!\n"
          ]
        }
      ]
    },
    {
      "cell_type": "markdown",
      "metadata": {
        "id": "FkgbtUFdKUv7"
      },
      "source": [
        "Strings can even be \"added\" together and \"multiplied\" by integers"
      ]
    },
    {
      "cell_type": "code",
      "metadata": {
        "id": "dk8O-u0dKUv7",
        "colab": {
          "base_uri": "https://localhost:8080/"
        },
        "outputId": "13d4a1d3-1c61-44e2-d217-35e6f2ac2a6e"
      },
      "source": [
        "new_string = s + \" It's a beautiful day!\"\n",
        "print(new_string)\n",
        "print(s * 2)\n",
        "another_new_string = \"=(*)\"\n",
        "print(another_new_string * 20)"
      ],
      "execution_count": null,
      "outputs": [
        {
          "output_type": "stream",
          "name": "stdout",
          "text": [
            "Hello, World! It's a beautiful day!\n",
            "Hello, World!Hello, World!\n",
            "=(*)=(*)=(*)=(*)=(*)=(*)=(*)=(*)=(*)=(*)=(*)=(*)=(*)=(*)=(*)=(*)=(*)=(*)=(*)=(*)\n"
          ]
        }
      ]
    },
    {
      "cell_type": "markdown",
      "metadata": {
        "id": "3xwl6S0dKUv_"
      },
      "source": [
        "## Lists\n",
        "A list is a sequence of objects, indexed by the natural numbers (0, 1, 2,...).  \n",
        "Lists are denoted with square brackets, e.g., [1, 2, 3] is the list containing 1, 2, and 3 in that order."
      ]
    },
    {
      "cell_type": "markdown",
      "metadata": {
        "id": "jYRe2n08KUv_"
      },
      "source": [
        "<img style=\"float: left;\" src=\"https://d30y9cdsu7xlg0.cloudfront.net/png/11431-200.png\">\n",
        "We start counting indices at 0, not 1!  Some languages (e.g., FORTRAN, Matlab, and Julia) start counting at 1."
      ]
    },
    {
      "cell_type": "code",
      "metadata": {
        "id": "dBDPkskkKUwA",
        "colab": {
          "base_uri": "https://localhost:8080/"
        },
        "outputId": "de2c4289-d9d4-49f5-fae5-9f9cd0119f3d"
      },
      "source": [
        "# note the two uses of square brackets; we use them to create a list,\n",
        "# but also to indicate that we are indexing into a list variable\n",
        "x = [0, 1, 2, 3]\n",
        "print(x)\n",
        "print(x[0])\n",
        "print(x[1])\n",
        "print(x[2])\n",
        "print(x[3])\n",
        "print()\n",
        "y = [5, 6, 7, 8]\n",
        "print(y)\n",
        "print(\"{} has index 0\".format(y[0]))\n",
        "print(\"{} has index 1\".format(y[1]))\n",
        "print(\"{} has index 2\".format(y[2]))\n",
        "print(\"{} has index 3\".format(y[3]))"
      ],
      "execution_count": null,
      "outputs": [
        {
          "output_type": "stream",
          "name": "stdout",
          "text": [
            "[0, 1, 2, 3]\n",
            "0\n",
            "1\n",
            "2\n",
            "3\n",
            "\n",
            "[5, 6, 7, 8]\n",
            "5 has index 0\n",
            "6 has index 1\n",
            "7 has index 2\n",
            "8 has index 3\n"
          ]
        }
      ]
    },
    {
      "cell_type": "markdown",
      "metadata": {
        "id": "cJH2wOvEKUwD"
      },
      "source": [
        "If you try to get an index outside of the size of the list, you'll get an error.  So if you need to know how long a list is, use the `len` function."
      ]
    },
    {
      "cell_type": "code",
      "metadata": {
        "id": "A3bnwiYqKUwE",
        "colab": {
          "base_uri": "https://localhost:8080/"
        },
        "outputId": "9df85526-3730-4f87-cda2-a821f3f6e880"
      },
      "source": [
        "print('length of x:', len(x))"
      ],
      "execution_count": null,
      "outputs": [
        {
          "output_type": "stream",
          "name": "stdout",
          "text": [
            "length of x: 4\n"
          ]
        }
      ]
    },
    {
      "cell_type": "markdown",
      "metadata": {
        "id": "BgqSWVNHKUwH"
      },
      "source": [
        "You can count entries from the end of the list by indexing with negative integers."
      ]
    },
    {
      "cell_type": "code",
      "metadata": {
        "id": "J5jyNaOwKUwH",
        "colab": {
          "base_uri": "https://localhost:8080/"
        },
        "outputId": "fbf2e478-f0d3-49fa-fe73-b58d41dbddba"
      },
      "source": [
        "print(x[-1])\n",
        "print(x[-2])\n",
        "print(x[-3])\n",
        "print(x[-4])"
      ],
      "execution_count": null,
      "outputs": [
        {
          "output_type": "stream",
          "name": "stdout",
          "text": [
            "3\n",
            "2\n",
            "1\n",
            "0\n"
          ]
        }
      ]
    },
    {
      "cell_type": "markdown",
      "metadata": {
        "id": "v8fy8rTlKUwK"
      },
      "source": [
        "You can \"slice\" through a list to get a copy of a subsequence of the list.  The notation is `x[a:b]`, where x is the list, a is the lower index (inclusive) and b is the upper index (exclusive)."
      ]
    },
    {
      "cell_type": "code",
      "metadata": {
        "id": "PMB14wCFKUwK",
        "colab": {
          "base_uri": "https://localhost:8080/"
        },
        "outputId": "4c0f7d04-74d6-46dd-b6c5-a18d62a65e51"
      },
      "source": [
        "print(x[0:2])\n",
        "print(x[0:3])\n",
        "print(x[:3]) # note that if there is nothing to the left of the colon, the 0 is implicit\n",
        "print(x[1:]) # if there is nothing to the right of the colon, it will slice through the end\n",
        "# you can get fancy and slice with negative integers!  see if you can make sense of this one\n",
        "print(x[:-2]) "
      ],
      "execution_count": null,
      "outputs": [
        {
          "output_type": "stream",
          "name": "stdout",
          "text": [
            "[0, 1]\n",
            "[0, 1, 2]\n",
            "[0, 1, 2]\n",
            "[1, 2, 3]\n",
            "[0, 1]\n"
          ]
        }
      ]
    },
    {
      "cell_type": "code",
      "metadata": {
        "id": "1hyShZNDKUwN",
        "colab": {
          "base_uri": "https://localhost:8080/"
        },
        "outputId": "8191432c-7091-48f7-a339-c115cb23b1ea"
      },
      "source": [
        "# You can reassign individual entries in a list.\n",
        "x = [1, 2, 3, 4]\n",
        "print(x)\n",
        "x[1] = 486.1\n",
        "print(x)"
      ],
      "execution_count": null,
      "outputs": [
        {
          "output_type": "stream",
          "name": "stdout",
          "text": [
            "[1, 2, 3, 4]\n",
            "[1, 486.1, 3, 4]\n"
          ]
        }
      ]
    },
    {
      "cell_type": "code",
      "metadata": {
        "id": "LBis-zHmKUwP",
        "colab": {
          "base_uri": "https://localhost:8080/"
        },
        "outputId": "1a33a0a8-95e4-41f6-e301-bfd280a20b24"
      },
      "source": [
        "# Lists can hold anything!  Even other lists.\n",
        "a = [1, \"a string\", [1, 2, 3]]\n",
        "print(a)\n",
        "print(a[0])\n",
        "print(a[1])\n",
        "print(a[2])\n",
        "# note that the second set of square brackets refers \n",
        "# to the inner list at index 2 in the outer list\n",
        "print(a[2][0])"
      ],
      "execution_count": null,
      "outputs": [
        {
          "output_type": "stream",
          "name": "stdout",
          "text": [
            "[1, 'a string', [1, 2, 3]]\n",
            "1\n",
            "a string\n",
            "[1, 2, 3]\n",
            "1\n"
          ]
        }
      ]
    },
    {
      "cell_type": "markdown",
      "metadata": {
        "id": "uhIaOozfKUwU"
      },
      "source": [
        "There are lots of built-in [tools](https://docs.python.org/3.7/tutorial/datastructures.html) for manipulating lists in Python.  While slicing makes a copy of the list, some list operations will change the list."
      ]
    },
    {
      "cell_type": "code",
      "metadata": {
        "id": "23xf0jNWKUwU",
        "colab": {
          "base_uri": "https://localhost:8080/"
        },
        "outputId": "70587c59-842d-4912-80c9-b152b856188e"
      },
      "source": [
        "# construct a list, starting at 1, ending at 10 (exclusive) and stepping by 2's\n",
        "# in python3, the builtin range function needs to be collected into a list as shown below\n",
        "x = list(range(1, 10, 2))\n",
        "print(x)"
      ],
      "execution_count": null,
      "outputs": [
        {
          "output_type": "stream",
          "name": "stdout",
          "text": [
            "[1, 3, 5, 7, 9]\n"
          ]
        }
      ]
    },
    {
      "cell_type": "code",
      "metadata": {
        "id": "4tP0o19QKUwW",
        "colab": {
          "base_uri": "https://localhost:8080/"
        },
        "outputId": "c52d33fe-2706-444d-e7b2-ab5f9221302b"
      },
      "source": [
        "# construct a list, implicitly starting at 0, and ending at 5 (exclusive), \n",
        "# stepping implicitly by 1\n",
        "y = list(range(5))\n",
        "print(y)"
      ],
      "execution_count": null,
      "outputs": [
        {
          "output_type": "stream",
          "name": "stdout",
          "text": [
            "[0, 1, 2, 3, 4]\n"
          ]
        }
      ]
    },
    {
      "cell_type": "code",
      "metadata": {
        "id": "cfSL9_JJKUwZ",
        "colab": {
          "base_uri": "https://localhost:8080/"
        },
        "outputId": "c9979bfc-6b35-4b56-de92-1449a8ed3482"
      },
      "source": [
        "# adding lists will make a new list by combining the two\n",
        "print(x + y)"
      ],
      "execution_count": null,
      "outputs": [
        {
          "output_type": "stream",
          "name": "stdout",
          "text": [
            "[1, 3, 5, 7, 9, 0, 1, 2, 3, 4]\n"
          ]
        }
      ]
    },
    {
      "cell_type": "code",
      "metadata": {
        "id": "ETnK5OKwKUwc",
        "colab": {
          "base_uri": "https://localhost:8080/"
        },
        "outputId": "8616d1d3-7628-404d-8832-b2a6188c48a1"
      },
      "source": [
        "# multiplying lists by integers\n",
        "print(2 * y)"
      ],
      "execution_count": null,
      "outputs": [
        {
          "output_type": "stream",
          "name": "stdout",
          "text": [
            "[0, 1, 2, 3, 4, 0, 1, 2, 3, 4]\n"
          ]
        }
      ]
    },
    {
      "cell_type": "code",
      "metadata": {
        "id": "bb1dq_ShKUwe",
        "colab": {
          "base_uri": "https://localhost:8080/"
        },
        "outputId": "a9b12b19-ef22-4987-a410-2f4caccef1e8"
      },
      "source": [
        "# make a new list and sort it\n",
        "z = x + y\n",
        "print(z)\n",
        "z.sort()\n",
        "print(z)"
      ],
      "execution_count": null,
      "outputs": [
        {
          "output_type": "stream",
          "name": "stdout",
          "text": [
            "[1, 3, 5, 7, 9, 0, 1, 2, 3, 4]\n",
            "[0, 1, 1, 2, 3, 3, 4, 5, 7, 9]\n"
          ]
        }
      ]
    },
    {
      "cell_type": "code",
      "metadata": {
        "id": "83xy0mXQKUwg",
        "colab": {
          "base_uri": "https://localhost:8080/"
        },
        "outputId": "dc866491-9420-49c6-d93b-a17e6def58e1"
      },
      "source": [
        "# appending to lists\n",
        "x = [3, 2]\n",
        "x.append(1)\n",
        "print(x)\n",
        "x.append(0)\n",
        "print(x)"
      ],
      "execution_count": null,
      "outputs": [
        {
          "output_type": "stream",
          "name": "stdout",
          "text": [
            "[3, 2, 1]\n",
            "[3, 2, 1, 0]\n"
          ]
        }
      ]
    },
    {
      "cell_type": "markdown",
      "metadata": {
        "id": "3apc1VhkKUwj"
      },
      "source": [
        "## Tuples\n",
        "A tuple is like a list, but is immutable, meaning you can't change the value of an entry after it's created.  Tuples are specified with parentheses instead of square brackets."
      ]
    },
    {
      "cell_type": "code",
      "metadata": {
        "id": "EOZfUeohKUwj",
        "colab": {
          "base_uri": "https://localhost:8080/"
        },
        "outputId": "52d961bd-3674-4eef-c524-cf131529f562"
      },
      "source": [
        "letters = ('a', 'b', 'c')\n",
        "print(letters)\n",
        "print(letters[1]) # will print 'b', recall we index starting at 0\n",
        "# letters[0] = 'A' # would get a TypeError since tuples cannot be changed after creation"
      ],
      "execution_count": null,
      "outputs": [
        {
          "output_type": "stream",
          "name": "stdout",
          "text": [
            "('a', 'b', 'c')\n",
            "b\n"
          ]
        }
      ]
    },
    {
      "cell_type": "markdown",
      "metadata": {
        "id": "RCurnhBZKUwm"
      },
      "source": [
        "## Conditionals and booleans\n",
        "A boolean variable has one of two states, either `True` or `False`.  Boolean variables can be combined with the binary operators `and` and `or`, and inverted with the unary operator `not`."
      ]
    },
    {
      "cell_type": "code",
      "metadata": {
        "id": "BdASy4RnKUwm",
        "colab": {
          "base_uri": "https://localhost:8080/"
        },
        "outputId": "4974387c-47f3-404f-ccc0-644bd00be18c"
      },
      "source": [
        "a = True\n",
        "b = False\n",
        "print(a and b)\n",
        "print(a or b)\n",
        "print(not a, not b)"
      ],
      "execution_count": null,
      "outputs": [
        {
          "output_type": "stream",
          "name": "stdout",
          "text": [
            "False\n",
            "True\n",
            "False True\n"
          ]
        }
      ]
    },
    {
      "cell_type": "code",
      "metadata": {
        "id": "U_MVr4D_KUwp",
        "colab": {
          "base_uri": "https://localhost:8080/"
        },
        "outputId": "204a21b4-a697-4de1-cf78-f0943c89b55a"
      },
      "source": [
        "# Numerical comparison operators (e.g., \"equal to\" or \"less than\") will return booleans.\n",
        "print(1 == 2)  # equal to\n",
        "print(1 != 2)  # not equal to"
      ],
      "execution_count": null,
      "outputs": [
        {
          "output_type": "stream",
          "name": "stdout",
          "text": [
            "False\n",
            "True\n"
          ]
        }
      ]
    },
    {
      "cell_type": "code",
      "metadata": {
        "id": "b8OkPKuQKUwr",
        "colab": {
          "base_uri": "https://localhost:8080/"
        },
        "outputId": "75438524-758f-46e2-e2be-f642650c6029"
      },
      "source": [
        "print(1 < 2)   # less than\n",
        "print(1 <= 2)  # less than or equal to"
      ],
      "execution_count": null,
      "outputs": [
        {
          "output_type": "stream",
          "name": "stdout",
          "text": [
            "True\n",
            "True\n"
          ]
        }
      ]
    },
    {
      "cell_type": "code",
      "metadata": {
        "id": "9j6fG16mKUwu",
        "colab": {
          "base_uri": "https://localhost:8080/"
        },
        "outputId": "32458cf6-08d0-4eb6-d83c-5c1dec021da1"
      },
      "source": [
        "print(1 > 2)   # greater than\n",
        "print(1 >= 2)  # greater than or equal to"
      ],
      "execution_count": null,
      "outputs": [
        {
          "output_type": "stream",
          "name": "stdout",
          "text": [
            "False\n",
            "False\n"
          ]
        }
      ]
    },
    {
      "cell_type": "markdown",
      "metadata": {
        "id": "iNP73ZKuKUwx"
      },
      "source": [
        "A conditional is a statement that lets us choose different code evaluations depending on the state of a boolean value.  They follow a simple form:\n",
        "```\n",
        "if condition evaluates to True:\n",
        "    do something\n",
        "```\n",
        "Note the colon after the condition, and also the indentation of the cell inside of the conditional statement.\n",
        "\n",
        "<img style=\"float: left;\" src=\"https://d30y9cdsu7xlg0.cloudfront.net/png/11431-200.png\">\n",
        "\n",
        "Indentation matters in Python!  While some programming languages use braces to separate between different blocks of code, Python uses the indentation as a way of distinguishing whether code is inside or outside of a block.  For example, here\n",
        "```python\n",
        "if condition:\n",
        "    print('condition is True')\n",
        "print('condition may be True or False')\n",
        "```\n",
        "the first line will only print if the condition is `True` while the second line will always print out."
      ]
    },
    {
      "cell_type": "markdown",
      "metadata": {
        "id": "wB78R_JAKUwy"
      },
      "source": [
        "To do some action given that the condition is false, use the `else` keyword. Run the next bit of code, then edit the variable in the second code cell to trigger the opposite condition."
      ]
    },
    {
      "cell_type": "code",
      "metadata": {
        "id": "QsdTu-wnKUwz",
        "colab": {
          "base_uri": "https://localhost:8080/"
        },
        "outputId": "3df46399-8a26-4969-c7af-20ae431a430d"
      },
      "source": [
        "x = 5\n",
        "if x > 10:\n",
        "    print(x, 'is greater than 10')\n",
        "else:\n",
        "    print(x, 'is less than or equal to 10')"
      ],
      "execution_count": null,
      "outputs": [
        {
          "output_type": "stream",
          "name": "stdout",
          "text": [
            "5 is less than or equal to 10\n"
          ]
        }
      ]
    },
    {
      "cell_type": "code",
      "metadata": {
        "id": "0x07TFKFYm4K",
        "colab": {
          "base_uri": "https://localhost:8080/"
        },
        "outputId": "0215a4c6-4880-470e-a7cc-2186706a021f"
      },
      "source": [
        "x = 12\n",
        "if x > 10:\n",
        "    print(x, 'is greater than 10')\n",
        "else:\n",
        "    print(x, 'is less than or equal to 10')"
      ],
      "execution_count": null,
      "outputs": [
        {
          "output_type": "stream",
          "name": "stdout",
          "text": [
            "12 is greater than 10\n"
          ]
        }
      ]
    },
    {
      "cell_type": "markdown",
      "metadata": {
        "id": "8vkpZZ_RKUw2"
      },
      "source": [
        "Conditionals can be chained together with the `elif` (short for else if) keyword. Play around with the value of x in the next code cell to trigger each condition."
      ]
    },
    {
      "cell_type": "code",
      "metadata": {
        "id": "qTiJdhDMKUw2",
        "colab": {
          "base_uri": "https://localhost:8080/"
        },
        "outputId": "0cae0f5b-0f74-48c2-b41e-ca8b22b7a6bb"
      },
      "source": [
        "x = -7\n",
        "if x > 10:\n",
        "    print(x, 'is greater than 10')\n",
        "elif x > 0:\n",
        "    print(x, 'is greater than 0 and less than or equal to 10')\n",
        "else:\n",
        "    print(x, 'is less than or equal to 0')"
      ],
      "execution_count": null,
      "outputs": [
        {
          "output_type": "stream",
          "name": "stdout",
          "text": [
            "-7 is less than or equal to 0\n"
          ]
        }
      ]
    },
    {
      "cell_type": "markdown",
      "metadata": {
        "id": "Tr_wOL1RKUw5"
      },
      "source": [
        "## Loops\n",
        "Some times we want to repeat the same series of steps many times.  Python has two kinds of loops: `for` loops and `while` loops."
      ]
    },
    {
      "cell_type": "markdown",
      "metadata": {
        "id": "EO1VxxwFKUw6"
      },
      "source": [
        "A `while` loop will repeat a block of code as long as some condition is satisfied."
      ]
    },
    {
      "cell_type": "code",
      "metadata": {
        "scrolled": true,
        "id": "NkTR0Bl-KUw6",
        "colab": {
          "base_uri": "https://localhost:8080/"
        },
        "outputId": "6cdc1e2c-804e-40ef-9b1c-c04006c2f21f"
      },
      "source": [
        "countdown = 3\n",
        "while countdown > 0:\n",
        "    print(countdown)\n",
        "    countdown = countdown - 1\n",
        "print('liftoff!')"
      ],
      "execution_count": null,
      "outputs": [
        {
          "output_type": "stream",
          "name": "stdout",
          "text": [
            "3\n",
            "2\n",
            "1\n",
            "liftoff!\n"
          ]
        }
      ]
    },
    {
      "cell_type": "markdown",
      "metadata": {
        "id": "Kt7SobqBKUw9"
      },
      "source": [
        "<img style=\"float: left;\" src=\"https://d30y9cdsu7xlg0.cloudfront.net/png/11431-200.png\">\n",
        "\n",
        "Make sure to have some way of achieving the condition, or else you'll end up in an endless loop!  For instance, the following `while` loop is nearly identical to the previous example, but will never break out of the loop to print 'liftoff'. Do you understand why? Explain in the next text cell.\n",
        "```python\n",
        "countdown = 3\n",
        "while countdown > 0:\n",
        "    print(countdown)\n",
        "    countdown = countdown + 1\n",
        "print('liftoff!')\n",
        "```"
      ]
    },
    {
      "cell_type": "markdown",
      "source": [
        "Why would the sample code above get caught in an endless loop? Double click here or choose the pencil icon to write your answer.\n",
        "\n",
        "**The sample text would get caught in an endless loop because the countdown variable would never not be greater than 0 because it increments by positive one for each iteration of the loop**"
      ],
      "metadata": {
        "id": "mtBhmr1Ob2Ho"
      }
    },
    {
      "cell_type": "markdown",
      "metadata": {
        "id": "ELqJY0HeKUw-"
      },
      "source": [
        "To make a `for` loop, we'll need a list we can iterate over.  The iteration will define an iteration value (`i` in the example below), which will cycle through the values in the list."
      ]
    },
    {
      "cell_type": "code",
      "metadata": {
        "id": "VXIOWR60KUw-",
        "colab": {
          "base_uri": "https://localhost:8080/"
        },
        "outputId": "a29f0543-df69-445e-e05a-60b27735a6e4"
      },
      "source": [
        "mylist = [0, 1, 2, 3]\n",
        "for i in mylist:\n",
        "    print(i)"
      ],
      "execution_count": null,
      "outputs": [
        {
          "output_type": "stream",
          "name": "stdout",
          "text": [
            "0\n",
            "1\n",
            "2\n",
            "3\n"
          ]
        }
      ]
    },
    {
      "cell_type": "markdown",
      "metadata": {
        "id": "VtuD3B-vKUxA"
      },
      "source": [
        "As with conditionals, the indentation block indicates whether or not a line is in the loop or not."
      ]
    },
    {
      "cell_type": "code",
      "metadata": {
        "id": "wZrOQQQQKUxB",
        "colab": {
          "base_uri": "https://localhost:8080/"
        },
        "outputId": "9cf4d119-0937-46a0-ae7a-f8fe522fb7e6"
      },
      "source": [
        "mylist = [0, 1, 2, 3]\n",
        "for i in mylist:\n",
        "    print(i)\n",
        "print('all done')"
      ],
      "execution_count": null,
      "outputs": [
        {
          "output_type": "stream",
          "name": "stdout",
          "text": [
            "0\n",
            "1\n",
            "2\n",
            "3\n",
            "all done\n"
          ]
        }
      ]
    },
    {
      "cell_type": "markdown",
      "metadata": {
        "id": "-H-IxuXNKUxD"
      },
      "source": [
        "<img style=\"float: left;\" src=\"https://d30y9cdsu7xlg0.cloudfront.net/png/11431-200.png\">\n",
        "\n",
        "Be careful about changing a list as you iterate over it.  The following loop will never end, despite starting out with a finite list!\n",
        "```python\n",
        "mylist = [0, 1, 2, 3]\n",
        "for i in mylist:\n",
        "    print(i)\n",
        "    mylist.append(2 * i)\n",
        "```\n",
        "Think about what the append command does to the list each time the for loop runs. It adds a new multiple of i, and the loop will continue infinitely, or until your computer 'chokes'."
      ]
    },
    {
      "cell_type": "markdown",
      "metadata": {
        "id": "1d2exEQ-KUxE"
      },
      "source": [
        "You can have loops in loops!"
      ]
    },
    {
      "cell_type": "code",
      "metadata": {
        "id": "1kixzBJMKUxE",
        "colab": {
          "base_uri": "https://localhost:8080/"
        },
        "outputId": "441e81ba-e227-40e6-82a2-7057b65ddd10"
      },
      "source": [
        "for i in range(2):\n",
        "    for j in range(3):\n",
        "        print('outer index:', i, ' outer index:', j)\n",
        "    print('done with outer iteration', i)"
      ],
      "execution_count": null,
      "outputs": [
        {
          "output_type": "stream",
          "name": "stdout",
          "text": [
            "outer index: 0  outer index: 0\n",
            "outer index: 0  outer index: 1\n",
            "outer index: 0  outer index: 2\n",
            "done with outer iteration 0\n",
            "outer index: 1  outer index: 0\n",
            "outer index: 1  outer index: 1\n",
            "outer index: 1  outer index: 2\n",
            "done with outer iteration 1\n"
          ]
        }
      ]
    },
    {
      "cell_type": "markdown",
      "metadata": {
        "id": "tCwuCq27KUxI"
      },
      "source": [
        "## Functions\n",
        "We've already seen some examples of function, like `print`, `len`, and `range`. We'll now see how to define our own functions."
      ]
    },
    {
      "cell_type": "markdown",
      "metadata": {
        "id": "9VgGQQXmKUxJ"
      },
      "source": [
        "We define a new function with the `def` keyword.  As with loops and conditionals, there's a colon after the initial line and all other lines in the function are indented.  In the example below, the function name is `norm`, and the variables `x` and `y` are called the arguments, or parameters of the function.  The `return` keyword at the end of the function block indicates that the expression to the right will be outputted by the function.\n",
        "\n",
        "Dedent after the return statement (or the end of the function) to return to normal code flow.\n",
        "\n",
        "**Important in Python:** You must define a function in Python before you can use it. We refer to this as caling a function. This is true in a Jupyter notebook as well as in a plain Python script. I like to define functions in code cells placed at the beginning of a notebook, after import statements."
      ]
    },
    {
      "cell_type": "code",
      "metadata": {
        "id": "yU3XVjWgKUxJ",
        "colab": {
          "base_uri": "https://localhost:8080/"
        },
        "outputId": "18f1fcdb-7502-4845-fe49-d8f4bbd8ffa3"
      },
      "source": [
        "def norm(x, y):\n",
        "    n = (x ** 2 + y ** 2) ** (1 / 2)\n",
        "    return n # last function statement\n",
        "\n",
        "# return to code flow, \"calling\" function\n",
        "print(norm(4, 3))\n",
        "print(norm(1, -1))"
      ],
      "execution_count": null,
      "outputs": [
        {
          "output_type": "stream",
          "name": "stdout",
          "text": [
            "5.0\n",
            "1.4142135623730951\n"
          ]
        }
      ]
    },
    {
      "cell_type": "markdown",
      "metadata": {
        "id": "7Dp7Cm4jKUxL"
      },
      "source": [
        "<img style=\"float: left;\" src=\"https://d30y9cdsu7xlg0.cloudfront.net/png/11431-200.png\">\n",
        "\n",
        "Functions define their own variable scope.  This means that any variables assigned in the function are not accessible outside of the function.  The examples below demonstrates the difference between the local variable, `dist`, defined within the function `distance`, and the global variable defined in the block below that.  While functions create their own local scope, conditional blocks share the global variable scope.  For more background, see the section on variables and scope in the [Object-Oriented Programming textbook](http://python-textbok.readthedocs.io/en/1.0/Variables_and_Scope.html)."
      ]
    },
    {
      "cell_type": "code",
      "metadata": {
        "id": "gv4vII8tKUxM",
        "colab": {
          "base_uri": "https://localhost:8080/",
          "height": 131
        },
        "outputId": "a9a8fe37-5a20-4637-8eea-6828feb8f730"
      },
      "source": [
        "def distance(x1, y1, x2, y2):\n",
        "    dist = norm(x2 - x1, y2 - y1)\n",
        "    print(\"dist = \", dist)\n",
        "    return dist\n",
        "\n",
        "result = distance(1, 2, 3, 4)\n",
        "print(result)\n",
        "\n",
        " print(dist) \n",
        " # will get a NameError since dist is not defined.\n",
        "# Uncomment the line above and rerun code cell to test the above claim."
      ],
      "execution_count": null,
      "outputs": [
        {
          "output_type": "error",
          "ename": "IndentationError",
          "evalue": "ignored",
          "traceback": [
            "\u001b[0;36m  File \u001b[0;32m\"<ipython-input-53-200a48e367d4>\"\u001b[0;36m, line \u001b[0;32m9\u001b[0m\n\u001b[0;31m    print(dist)\u001b[0m\n\u001b[0m    ^\u001b[0m\n\u001b[0;31mIndentationError\u001b[0m\u001b[0;31m:\u001b[0m unexpected indent\n"
          ]
        }
      ]
    },
    {
      "cell_type": "code",
      "metadata": {
        "id": "E9LdbkK5KUxP",
        "colab": {
          "base_uri": "https://localhost:8080/"
        },
        "outputId": "b1b1e66f-63ea-4ab9-b821-4cf7bcfb4548"
      },
      "source": [
        "# Now if we assign a value to dist outside of the function, it won't be changed by the function\n",
        "dist = \"outside variable\"\n",
        "result = distance(1, 2, 3, 4)\n",
        "print(\"dist = \", dist)"
      ],
      "execution_count": null,
      "outputs": [
        {
          "output_type": "stream",
          "name": "stdout",
          "text": [
            "dist =  2.8284271247461903\n",
            "dist =  outside variable\n"
          ]
        }
      ]
    },
    {
      "cell_type": "code",
      "metadata": {
        "id": "22rElooxKUxS",
        "colab": {
          "base_uri": "https://localhost:8080/"
        },
        "outputId": "9e720e9b-082c-48b0-a178-de6f7b8065e6"
      },
      "source": [
        "# You can write a function that has no input - empty parentheses are required, though\n",
        "def make_a_list():\n",
        "    x = [1, 2, 3]\n",
        "    return x\n",
        "\n",
        "y = make_a_list()\n",
        "print(y)"
      ],
      "execution_count": null,
      "outputs": [
        {
          "output_type": "stream",
          "name": "stdout",
          "text": [
            "[1, 2, 3]\n"
          ]
        }
      ]
    },
    {
      "cell_type": "code",
      "metadata": {
        "id": "gEufXFwnKUxU",
        "colab": {
          "base_uri": "https://localhost:8080/"
        },
        "outputId": "19f0c60b-7f54-4433-fa2f-58eb6a853c49"
      },
      "source": [
        "# or no output - notice that there is no return statement\n",
        "def double_a_list(x):\n",
        "    # this loops over the indices of the list, x\n",
        "    for i in range(len(x)):\n",
        "        x[i] = 2 * x[i]\n",
        "        \n",
        "x = [1, 2]\n",
        "double_a_list(x)\n",
        "print(x)"
      ],
      "execution_count": null,
      "outputs": [
        {
          "output_type": "stream",
          "name": "stdout",
          "text": [
            "[2, 4]\n"
          ]
        }
      ]
    },
    {
      "cell_type": "markdown",
      "metadata": {
        "id": "HgIpFhBsKUxZ"
      },
      "source": [
        "<img style=\"float: left;\" src=\"https://d30y9cdsu7xlg0.cloudfront.net/png/11431-200.png\">\n",
        "\n",
        "The example above shows a function that interacts with the rest of the global scope by changing the state of one of its inputs.  This is in contrast to the purely functional (i.e., behaves like a mathematical function) approach of the example with the `distance()` function.  There can be a time and place for both styles of functions, but in general, the \"impure\" functions can have unintended consequences, such as changing a variable you meant to save for doing something with later. So, be careful!"
      ]
    },
    {
      "cell_type": "markdown",
      "metadata": {
        "id": "bP4YdrmtKUxZ"
      },
      "source": [
        "It's good practice to include comments that specify what kinds of input the function expects and what it will return.  You can use triple quotes for a multi-line comment.  Remember, code is read much more often than it is written, so well-written comments are incredibly important."
      ]
    },
    {
      "cell_type": "code",
      "metadata": {
        "id": "Fs4c0ySKKUxZ",
        "colab": {
          "base_uri": "https://localhost:8080/"
        },
        "outputId": "0bb25479-9cdc-41bc-ca41-8af485f559ba"
      },
      "source": [
        "def corners_of_rectangle(x_center, y_center, x_size, y_size):\n",
        "    '''\n",
        "    Calculates where the corners of a rectangle will be, given its location and shape.\n",
        "    \n",
        "    Parameters\n",
        "    ----------\n",
        "    x_center : the x-coordinate of the center\n",
        "    y_center : the y-coordinate of the center\n",
        "    x_size : the span of the rectangle in the x direction\n",
        "    y_size : the span of the rectangle in the y direction\n",
        "    \n",
        "    Returns (as a tuple of lists)\n",
        "    -------\n",
        "    tlc : the top left corner, a list of [x coordinate, y coordinate]\n",
        "    trc : the top right corner, a list of [x coordinate, y coordinate]\n",
        "    blc : the bottom left corner, a list of [x coordinate, y coordinate]\n",
        "    brc : the bottom right corner, a list of [x coordinate, y coordinate]\n",
        "    '''\n",
        "    # edges are half the size from the center\n",
        "    x_right = x_center + x_size / 2\n",
        "    x_left = x_center - x_size / 2\n",
        "    y_top = y_center + y_size / 2\n",
        "    y_bottom = y_center - y_size / 2\n",
        "    \n",
        "    # corners are at the intersection of two edges\n",
        "    tlc = [x_left, y_top]\n",
        "    trc = [x_right, y_top]\n",
        "    blc = [x_left, y_bottom]\n",
        "    brc = [x_right, y_bottom]\n",
        "    \n",
        "    return tlc, trc, blc, brc\n",
        "\n",
        "corners = corners_of_rectangle(0, 0, 2, 6)\n",
        "\n",
        "for corner in corners:\n",
        "    print(corner)\n",
        "\n",
        "# we can also \"unpack\" the resulting tuple at assignment, like so:\n",
        "tlc, trc, blc, brc = corners_of_rectangle(0, 0, 2, 6)\n",
        "print('corners:', tlc, trc, blc, brc)"
      ],
      "execution_count": null,
      "outputs": [
        {
          "output_type": "stream",
          "name": "stdout",
          "text": [
            "[-1.0, 3.0]\n",
            "[1.0, 3.0]\n",
            "[-1.0, -3.0]\n",
            "[1.0, -3.0]\n",
            "corners: [-1.0, 3.0] [1.0, 3.0] [-1.0, -3.0] [1.0, -3.0]\n"
          ]
        }
      ]
    },
    {
      "cell_type": "markdown",
      "metadata": {
        "id": "FHMShFnVKUxc"
      },
      "source": [
        "One nice thing about working in the notebook environment: much of the documentation for functions and other objects are built into their definitions.  You can access them interactively with the `help` function."
      ]
    },
    {
      "cell_type": "code",
      "metadata": {
        "id": "VHhaLjFWKUxc",
        "colab": {
          "base_uri": "https://localhost:8080/"
        },
        "outputId": "b495697b-b369-4ee3-f35c-670da26091e9"
      },
      "source": [
        "x = [0, 1, 2]\n",
        "help(x.append) # prints out the documentation string for the append function"
      ],
      "execution_count": null,
      "outputs": [
        {
          "output_type": "stream",
          "name": "stdout",
          "text": [
            "Help on built-in function append:\n",
            "\n",
            "append(object, /) method of builtins.list instance\n",
            "    Append object to the end of the list.\n",
            "\n"
          ]
        }
      ]
    },
    {
      "cell_type": "code",
      "metadata": {
        "id": "7di9pHBsKUxf",
        "colab": {
          "base_uri": "https://localhost:8080/"
        },
        "outputId": "7feaebe1-0c6e-4af6-bf44-6af361c8d24c"
      },
      "source": [
        "# this even works for functions that you define!\n",
        "# BUT you have to write the help documentation within triple quotes, as in the example\n",
        "help(corners_of_rectangle)"
      ],
      "execution_count": null,
      "outputs": [
        {
          "output_type": "stream",
          "name": "stdout",
          "text": [
            "Help on function corners_of_rectangle in module __main__:\n",
            "\n",
            "corners_of_rectangle(x_center, y_center, x_size, y_size)\n",
            "    Calculates where the corners of a rectangle will be, given its location and shape.\n",
            "    \n",
            "    Parameters\n",
            "    ----------\n",
            "    x_center : the x-coordinate of the center\n",
            "    y_center : the y-coordinate of the center\n",
            "    x_size : the span of the rectangle in the x direction\n",
            "    y_size : the span of the rectangle in the y direction\n",
            "    \n",
            "    Returns (as a tuple of lists)\n",
            "    -------\n",
            "    tlc : the top right corner, a list of [x coordinate, y coordinate]\n",
            "    trc : the top left corner, a list of [x coordinate, y coordinate]\n",
            "    blc : the bottom left corner, a list of [x coordinate, y coordinate]\n",
            "    brc : the bottom right corner, a list of [x coordinate, y coordinate]\n",
            "\n"
          ]
        }
      ]
    },
    {
      "cell_type": "markdown",
      "metadata": {
        "id": "uz36zl6nKUxi"
      },
      "source": [
        "## Importing other modules\n",
        "Whenever possible, it's nice to not have to \"reinvent the wheel\".  That is, if someone already figured out a good solution for what you want to do, make use of their hard work (with proper credit of course).  The [Python standard library](https://docs.python.org/3/library/) includes lots of packages, and many people publish third-party Python packages under free and open source software licenses.\n",
        "\n",
        "Let's say we want to do some trigonometry.  We could look up algorithms for approximating a sine function from the basic operations we've already used.  But the standard library module `math` already does this.  We can bring in this module to our global scope using the `import` keyword."
      ]
    },
    {
      "cell_type": "code",
      "metadata": {
        "id": "aEDGzPK7KUxi"
      },
      "source": [
        "import math"
      ],
      "execution_count": null,
      "outputs": []
    },
    {
      "cell_type": "code",
      "metadata": {
        "id": "OelmeBHbKUxl",
        "colab": {
          "base_uri": "https://localhost:8080/"
        },
        "outputId": "f11c3158-e351-428c-cb57-5418b09adc93"
      },
      "source": [
        "# now we have access to the function sin, and the float pi, as attributes of math\n",
        "help(math.sin)\n",
        "print('pi = ', math.pi)\n",
        "angles = [0, math.pi / 4, math.pi / 2, math.pi]\n",
        "for angle in angles:\n",
        "    print('sin(', angle, ') = ', math.sin(angle))"
      ],
      "execution_count": null,
      "outputs": [
        {
          "output_type": "stream",
          "name": "stdout",
          "text": [
            "Help on built-in function sin in module math:\n",
            "\n",
            "sin(x, /)\n",
            "    Return the sine of x (measured in radians).\n",
            "\n",
            "pi =  3.141592653589793\n",
            "sin( 0 ) =  0.0\n",
            "sin( 0.7853981633974483 ) =  0.7071067811865475\n",
            "sin( 1.5707963267948966 ) =  1.0\n",
            "sin( 3.141592653589793 ) =  1.2246467991473532e-16\n"
          ]
        }
      ]
    },
    {
      "cell_type": "markdown",
      "metadata": {
        "id": "iO2CZUBoKUxo"
      },
      "source": [
        "There are variants on this import statement that do somewhat different things.  For instance, if we knew we only wanted to use pi, sin, cos, and tan, we could do the following:"
      ]
    },
    {
      "cell_type": "code",
      "metadata": {
        "id": "UQnj_YYjKUxo"
      },
      "source": [
        "from math import pi, sin, cos, tan"
      ],
      "execution_count": null,
      "outputs": []
    },
    {
      "cell_type": "code",
      "metadata": {
        "id": "G9q-Yu2uKUxq",
        "colab": {
          "base_uri": "https://localhost:8080/"
        },
        "outputId": "049598a6-c883-43cb-99f6-ea54db5ba4ed"
      },
      "source": [
        "# now we have access to these objects without explicitly referring to the math module\n",
        "a = pi / 4\n",
        "print(sin(a))\n",
        "print(cos(a))\n",
        "print(sin(a) / cos(a))\n",
        "print(tan(a))"
      ],
      "execution_count": null,
      "outputs": [
        {
          "output_type": "stream",
          "name": "stdout",
          "text": [
            "0.7071067811865475\n",
            "0.7071067811865476\n",
            "0.9999999999999999\n",
            "0.9999999999999999\n"
          ]
        }
      ]
    },
    {
      "cell_type": "markdown",
      "metadata": {
        "id": "_uVR8NJfKUxs"
      },
      "source": [
        "## Putting it all together\n",
        "Let's look an example that uses everything we've looked at so far.  Suppose we need to get some targets for an upcoming observing run.  We know their spatial coordinates and their brightness, and we've stored these values in lists."
      ]
    },
    {
      "cell_type": "code",
      "metadata": {
        "id": "DmA6hBhRKUxt"
      },
      "source": [
        "# There are twenty potential targets in a particular galaxy cluster.\n",
        "# Each target's position and brightness is given by a particular index into the lists below\n",
        "\n",
        "# right ascension, or longitude on the sky, measured in degrees\n",
        "x_values = [182.47525964,  181.71979313,  182.01188744,  182.38965086,\n",
        "            181.33694731,  181.81918184,  182.12838376,  182.24847701,\n",
        "            181.96221347,  182.1016029 ,  181.81358103,  182.36078662,\n",
        "            182.47452539,  182.20960101,  182.44307302,  181.32153755,\n",
        "            181.95492827,  182.37629458,  181.89390667,  182.04027463]\n",
        "# declination, or latitude on the sky, measured in degrees\n",
        "y_values = [14.57684245,  14.0413467 ,  14.42422892,  13.72048441,\n",
        "            14.32234319,  13.93295502,  14.66749945,  14.04502233,\n",
        "            14.44982115,  14.59439852,  14.84721984,  15.02108029,\n",
        "            14.28635226,  14.36287386,  14.37801609,  14.25512123,\n",
        "            14.29892983,  15.04374266,  14.08003671,  14.48721843]\n",
        "# magnitude, a (literally) backwards system of measuring light flux,\n",
        "# such that larger magnitude is fainter\n",
        "magnitudes = [22.8003388 ,  19.76338384,  19.38678407,  22.77904055,\n",
        "              19.40079346,  16.90532576,  20.5119855 ,  17.20244618,\n",
        "              21.32856068,  23.49640448,  21.59814329,  16.54993158,\n",
        "              20.86924288,  23.69540075,  23.25189441,  20.16867178,\n",
        "              18.06682487,  20.9476858 ,  21.22210576,  16.55301419]"
      ],
      "execution_count": null,
      "outputs": []
    },
    {
      "cell_type": "code",
      "metadata": {
        "scrolled": false,
        "id": "IiznxMpBKUxv",
        "colab": {
          "base_uri": "https://localhost:8080/"
        },
        "outputId": "93388641-0db5-422a-be37-c58a2d8a74d4"
      },
      "source": [
        "# print out the potential targets, their positions and magnitude\n",
        "for i in range(len(x_values)):\n",
        "    x = x_values[i]\n",
        "    y = y_values[i]\n",
        "    magnitude = magnitudes[i]\n",
        "    print('Target', i, ': x =', x, 'deg') \n",
        "    print('           y =', y, 'deg')\n",
        "    print('           mag =', magnitude)"
      ],
      "execution_count": null,
      "outputs": [
        {
          "output_type": "stream",
          "name": "stdout",
          "text": [
            "Target 0 : x = 182.47525964 deg\n",
            "           y = 14.57684245 deg\n",
            "           mag = 22.8003388\n",
            "Target 1 : x = 181.71979313 deg\n",
            "           y = 14.0413467 deg\n",
            "           mag = 19.76338384\n",
            "Target 2 : x = 182.01188744 deg\n",
            "           y = 14.42422892 deg\n",
            "           mag = 19.38678407\n",
            "Target 3 : x = 182.38965086 deg\n",
            "           y = 13.72048441 deg\n",
            "           mag = 22.77904055\n",
            "Target 4 : x = 181.33694731 deg\n",
            "           y = 14.32234319 deg\n",
            "           mag = 19.40079346\n",
            "Target 5 : x = 181.81918184 deg\n",
            "           y = 13.93295502 deg\n",
            "           mag = 16.90532576\n",
            "Target 6 : x = 182.12838376 deg\n",
            "           y = 14.66749945 deg\n",
            "           mag = 20.5119855\n",
            "Target 7 : x = 182.24847701 deg\n",
            "           y = 14.04502233 deg\n",
            "           mag = 17.20244618\n",
            "Target 8 : x = 181.96221347 deg\n",
            "           y = 14.44982115 deg\n",
            "           mag = 21.32856068\n",
            "Target 9 : x = 182.1016029 deg\n",
            "           y = 14.59439852 deg\n",
            "           mag = 23.49640448\n",
            "Target 10 : x = 181.81358103 deg\n",
            "           y = 14.84721984 deg\n",
            "           mag = 21.59814329\n",
            "Target 11 : x = 182.36078662 deg\n",
            "           y = 15.02108029 deg\n",
            "           mag = 16.54993158\n",
            "Target 12 : x = 182.47452539 deg\n",
            "           y = 14.28635226 deg\n",
            "           mag = 20.86924288\n",
            "Target 13 : x = 182.20960101 deg\n",
            "           y = 14.36287386 deg\n",
            "           mag = 23.69540075\n",
            "Target 14 : x = 182.44307302 deg\n",
            "           y = 14.37801609 deg\n",
            "           mag = 23.25189441\n",
            "Target 15 : x = 181.32153755 deg\n",
            "           y = 14.25512123 deg\n",
            "           mag = 20.16867178\n",
            "Target 16 : x = 181.95492827 deg\n",
            "           y = 14.29892983 deg\n",
            "           mag = 18.06682487\n",
            "Target 17 : x = 182.37629458 deg\n",
            "           y = 15.04374266 deg\n",
            "           mag = 20.9476858\n",
            "Target 18 : x = 181.89390667 deg\n",
            "           y = 14.08003671 deg\n",
            "           mag = 21.22210576\n",
            "Target 19 : x = 182.04027463 deg\n",
            "           y = 14.48721843 deg\n",
            "           mag = 16.55301419\n"
          ]
        }
      ]
    },
    {
      "cell_type": "code",
      "metadata": {
        "id": "6u7Id2m1KUxy"
      },
      "source": [
        "# we want targets that are bright enough (magnitude < 23)\n",
        "# and that are close enough in distance to the cluster's center\n",
        "x_center = 182.07387\n",
        "y_center = 14.36368\n",
        "magnitude_limit = 23\n",
        "distance_limit = 0.5 # in degrees"
      ],
      "execution_count": null,
      "outputs": []
    },
    {
      "cell_type": "markdown",
      "metadata": {
        "id": "JGcs0v8pKUx1"
      },
      "source": [
        "In the function below, we'll use the small-angle approximation for the angular separation between points on the sphere:\n",
        "\n",
        "$$ \\Delta \\theta ^ 2 \\approx (\\Delta \\alpha \\cos(\\delta)) ^ 2 + (\\Delta \\delta) ^ 2$$\n",
        "\n",
        "where $(\\alpha, \\delta)$ are the spherical coordinates in radians.  See [here](https://web.williams.edu/Astronomy/Course-Pages/330/images/distances.pdf) for more on angular distances."
      ]
    },
    {
      "cell_type": "code",
      "metadata": {
        "id": "-c6YWs6ZKUx1"
      },
      "source": [
        "# let's define some function that will help us figure out if we have any good targets\n",
        "def angular_distance(x1, y1, x2, y2):\n",
        "    '''\n",
        "    Calculate the distance between two points on the celestial sphere, (x1, y1) and (x2, y2).\n",
        "    \n",
        "    Parameters\n",
        "    ----------\n",
        "    x1 : x coordinate of the first object in degrees\n",
        "    y1 : y coordinate of the first object in degrees\n",
        "    x2 : x coordinate of the second object in degrees\n",
        "    y2 : y coordinate of the second object in degrees\n",
        "    \n",
        "    Returns\n",
        "    -------\n",
        "    separation : the angular separation of the two objects, in degrees\n",
        "    '''\n",
        "    # the difference in each coordinate, still in degrees\n",
        "    dx = x2 - x1\n",
        "    dy = y2 - y1\n",
        "    \n",
        "    # convert to radians for computing a trig function\n",
        "    dy_radians = dy * math.pi / 180 \n",
        "    \n",
        "    separation = math.sqrt((dx * math.cos(dy_radians)) ** 2 + dy ** 2)\n",
        "    return separation"
      ],
      "execution_count": null,
      "outputs": []
    },
    {
      "cell_type": "code",
      "metadata": {
        "scrolled": false,
        "id": "vKbIWUdzKUx4",
        "colab": {
          "base_uri": "https://localhost:8080/"
        },
        "outputId": "d7045b55-9c66-497e-8b86-7366391973a9"
      },
      "source": [
        "# now let's loop through each potential target and evaluate if each is close enough\n",
        "# and also bright enough\n",
        "# we'll store the boolean variables in a list of the same size as the original data\n",
        "\n",
        "# makes empty lists for being close and bright\n",
        "close_enough_list = []\n",
        "bright_enough_list = []\n",
        "\n",
        "# let's keep track of how many are both close and bright\n",
        "count = 0 \n",
        "\n",
        "# iterate across each of the indices of the data lists\n",
        "for i in range(len(x_values)):\n",
        "    x = x_values[i]\n",
        "    y = y_values[i]\n",
        "    magnitude = magnitudes[i]\n",
        "    separation = angular_distance(x, y, x_center, y_center)\n",
        "    print('Target', i, 'has a separation of', separation, 'degrees')\n",
        "    # isclose is a boolean variable that is True if the target is close enough,\n",
        "    # and False otherwise; ditto for isbright\n",
        "    isclose = separation < distance_limit\n",
        "    isbright = magnitude < magnitude_limit\n",
        "    \n",
        "    if isclose and isbright:\n",
        "        # only add to our count if the target is close and bright\n",
        "        count += 1\n",
        "    # but we want to add the state of a target regardless of if it is selected or not\n",
        "    close_enough_list.append(isclose)\n",
        "    bright_enough_list.append(isbright)\n",
        "    \n",
        "print('There are', count, 'targets that are observable.')"
      ],
      "execution_count": null,
      "outputs": [
        {
          "output_type": "stream",
          "name": "stdout",
          "text": [
            "Target 0 has a separation of 0.4544773296668882 degrees\n",
            "Target 1 has a separation of 0.47881647664266175 degrees\n",
            "Target 2 has a separation of 0.086648745904563 degrees\n",
            "Target 3 has a separation of 0.7165232394137605 degrees\n",
            "Target 4 has a separation of 0.7380809577766883 degrees\n",
            "Target 5 has a separation of 0.5003862522880343 degrees\n",
            "Target 6 has a separation of 0.3086712242313404 degrees\n",
            "Target 7 has a separation of 0.36335846703744323 degrees\n",
            "Target 8 has a separation of 0.14102287131798683 degrees\n",
            "Target 9 has a separation of 0.2323792949946497 degrees\n",
            "Target 10 has a separation of 0.5491414203222675 degrees\n",
            "Target 11 has a separation of 0.7172764119774501 degrees\n",
            "Target 12 has a separation of 0.40804905160590726 degrees\n",
            "Target 13 has a separation of 0.13573340389776162 degrees\n",
            "Target 14 has a separation of 0.3694812375747068 degrees\n",
            "Target 15 has a separation of 0.7601230755350352 degrees\n",
            "Target 16 has a separation of 0.13542415435451546 degrees\n",
            "Target 17 has a separation of 0.7442667288344806 degrees\n",
            "Target 18 has a separation of 0.33591594542729797 degrees\n",
            "Target 19 has a separation of 0.12802494805790474 degrees\n",
            "There are 10 targets that are observable.\n"
          ]
        }
      ]
    },
    {
      "cell_type": "markdown",
      "metadata": {
        "id": "ZJykrVVeKUx7"
      },
      "source": [
        "So we found that we have 10 observable targets, but which ones are they?  We could have stored the indices as we went through the loop above.  But we can also just get those now too."
      ]
    },
    {
      "cell_type": "code",
      "metadata": {
        "id": "h7FvKNwOKUx7",
        "colab": {
          "base_uri": "https://localhost:8080/"
        },
        "outputId": "10fcd200-cf98-4319-b207-0963e566c68f"
      },
      "source": [
        "targets = []\n",
        "for i in range(len(close_enough_list)):\n",
        "    isclose = close_enough_list[i]\n",
        "    isbright = bright_enough_list[i]\n",
        "    if isclose and isbright:\n",
        "        targets.append(i)\n",
        "\n",
        "# print out the observable targets, their positions and magnitude\n",
        "for i in targets:\n",
        "    x = x_values[i]\n",
        "    y = y_values[i]\n",
        "    magnitude = magnitudes[i]\n",
        "    print('Target', i, ': x =', x, 'deg') \n",
        "    print('           y =', y, 'deg')\n",
        "    print('           mag =', magnitude)"
      ],
      "execution_count": null,
      "outputs": [
        {
          "output_type": "stream",
          "name": "stdout",
          "text": [
            "Target 0 : x = 182.47525964 deg\n",
            "           y = 14.57684245 deg\n",
            "           mag = 22.8003388\n",
            "Target 1 : x = 181.71979313 deg\n",
            "           y = 14.0413467 deg\n",
            "           mag = 19.76338384\n",
            "Target 2 : x = 182.01188744 deg\n",
            "           y = 14.42422892 deg\n",
            "           mag = 19.38678407\n",
            "Target 6 : x = 182.12838376 deg\n",
            "           y = 14.66749945 deg\n",
            "           mag = 20.5119855\n",
            "Target 7 : x = 182.24847701 deg\n",
            "           y = 14.04502233 deg\n",
            "           mag = 17.20244618\n",
            "Target 8 : x = 181.96221347 deg\n",
            "           y = 14.44982115 deg\n",
            "           mag = 21.32856068\n",
            "Target 12 : x = 182.47452539 deg\n",
            "           y = 14.28635226 deg\n",
            "           mag = 20.86924288\n",
            "Target 16 : x = 181.95492827 deg\n",
            "           y = 14.29892983 deg\n",
            "           mag = 18.06682487\n",
            "Target 18 : x = 181.89390667 deg\n",
            "           y = 14.08003671 deg\n",
            "           mag = 21.22210576\n",
            "Target 19 : x = 182.04027463 deg\n",
            "           y = 14.48721843 deg\n",
            "           mag = 16.55301419\n"
          ]
        }
      ]
    },
    {
      "cell_type": "markdown",
      "metadata": {
        "id": "Pw8TFZRUKUx-"
      },
      "source": [
        "Of course, in this example, looking at twenty objects wouldn't have been too bad to do by eye.  But If you needed to evaluate thousands of objects?  Automate it!"
      ]
    },
    {
      "cell_type": "markdown",
      "metadata": {
        "id": "CFZVnjBzKUx-"
      },
      "source": [
        "## What didn't we cover?\n",
        "A lot!  But that's okay, hopefully this has been enough to get started.  You might see some of the topics listed below during the course of your work.\n",
        "\n",
        "### Plotting\n",
        "There are a few options for plotting in Python, but arguably the most complete plotting library is `matplotlib`.  The official documentation is rather intimidating, but there are some tutorials and helpful examples [here](https://matplotlib.org/stable/tutorials/introductory/pyplot.html#sphx-glr-tutorials-introductory-pyplot-py)\n",
        "\n",
        "### Arrays\n",
        "The unofficial standard for array manipulation in Python is the [`numpy`](http://www.numpy.org/) package.  Arrays are like lists but have a fixed size.  Due to their fixed size in memory, computations with arrays can be much faster than looping over a list of numbers.\n",
        "\n",
        "### Dictionaries\n",
        "Dictionaries are also collections like lists, but they don't have a fixed order to the entries, and are indexed instead by arbitrary key values.\n",
        "\n",
        "### File input/output\n",
        "Python makes it easy to read and write text files. See the official docs [here](https://docs.python.org/3.7/tutorial/inputoutput.html#reading-and-writing-files).\n",
        "\n",
        "### Classes and objects\n",
        "A class is a prototype of an object, and we've been using objects this whole time.  Objects have attributes, which can be the usual types we've talked about like floats and strings.  They can also have methods, like the `sort()` and `append()` functions shared by all lists.  Attributes are accessed using the \"dot\" notation, in that `object.attribute` is a reference to the attribute held by that particular object.  For more on writing your own classes, see [here](http://python-textbok.readthedocs.io/en/1.0/Classes.html)."
      ]
    },
    {
      "cell_type": "code",
      "metadata": {
        "id": "eqMsMntCKUx-",
        "colab": {
          "base_uri": "https://localhost:8080/",
          "height": 312
        },
        "outputId": "667205fe-2fdc-4a7e-d523-3f7bdd371c79"
      },
      "source": [
        "# example plot for our target sample\n",
        "# more to be seen in the plotting tutorial!\n",
        "\n",
        "%matplotlib inline\n",
        "from matplotlib import pyplot as plt\n",
        "\n",
        "plt.scatter(x_values, y_values, c=magnitudes, \n",
        "            cmap='viridis_r', s=200, marker='o', lw=1, alpha=0.8)\n",
        "cb = plt.colorbar()\n",
        "plt.xlim(plt.xlim()[::-1])  # reverses the x-axis, since the sky is backwards\n",
        "plt.xlabel('RA [deg]')\n",
        "plt.ylabel('Dec [deg]')\n",
        "cb.set_label('Magnitude')\n",
        "plt.title('Target candidates')"
      ],
      "execution_count": null,
      "outputs": [
        {
          "output_type": "execute_result",
          "data": {
            "text/plain": [
              "Text(0.5, 1.0, 'Target candidates')"
            ]
          },
          "metadata": {},
          "execution_count": 70
        },
        {
          "output_type": "display_data",
          "data": {
            "text/plain": [
              "<Figure size 432x288 with 2 Axes>"
            ],
            "image/png": "[encoded data removed]"
          },
          "metadata": {
            "needs_background": "light"
          }
        }
      ]
    },
    {
      "cell_type": "markdown",
      "metadata": {
        "id": "hMOCI_95KUyA"
      },
      "source": [
        "# Glossary\n",
        "\n",
        "### Python\n",
        "* Python - a dynamically-typed interpreted programming language\n",
        "* script - a file with lines of Python code\n",
        "* module - a script that can be imported into another script\n",
        "* package - a module or group of modules that are easily installed\n",
        "* Jupyter notebook - a browser-based environment for running programs, AKA an Ipython notebook\n",
        "\n",
        "### Programming terms\n",
        "* syntax - the set of rules that define a legal statement in a language\n",
        "* variable - a label for an object in the computer's memory\n",
        "* assignment - the act of storing a value in a variable\n",
        "* scope - for a particular variable, its scope refers to the parts of the code where its assignment is valid; it can be global to the whole script, or local to a particular function or class\n",
        "* binary operator - a function that takes two values and returns a new value, e.g., +, -, *, /\n",
        "* unary operator - a function that takes one value and returns a new value, e.g., -, not\n",
        "* loop - an evaluation of the same logic multiple times\n",
        "* conditional - a control statement that determines which of some possible statements will be evaluated\n",
        "* function - an object that can be called with some input values and can return some output values\n",
        "* class - a \"prototype\" of an object, e.g., `int` is a class, and 1, 2, and 3 are instances (or objects) of this class\n",
        "* object - an instance of a particular class; in Python, just about everything is some kind of object\n",
        "* method - a function associated with objects of a particular class; e.g., for the `list` class, the `sort()` function is a method of the class\n",
        "* object-oriented programming - a programming style that relies on organizing logic into classes of objects which can have their own attributes and functions\n",
        "* function programming - a programming style that only uses \"pure functions\" (that is, functions which do not have side effects, and only interact with the rest of the scope through their return values)\n",
        "\n",
        "### Basic variable types\n",
        "* string - a sequence of characters, e.g., \"Hello Python!\"\n",
        "* int - a type of numeric value, short for integer\n",
        "* float - a type of numeric value, short for floating point (an approximation of a real number)\n",
        "* bool - short for Boolean, a value that is either True or False\n",
        "\n",
        "### Data structures\n",
        "* list - a sequence of values, indexed by the natural numbers (0, 1, 2, ...)\n",
        "* dictionary - a set of values, indexed by arbitrary objects\n",
        "* array - a sequence of values, indexed as a list, but fixed in size\n"
      ]
    },
    {
      "cell_type": "markdown",
      "metadata": {
        "id": "zCHo_6NY7Lzc"
      },
      "source": [
        "# Congratulations!\n",
        "\n",
        "## Basic Level\n",
        "You have completed your **first** Colab Jupyter notebook. If you are completing the basic level, it's time to watch the first three PyaR videos linked in the assignment. Then take the Notebook 1 quiz. And take heart, the next notebook is much shorter!\n",
        "\n",
        "## Intermediate Level\n",
        "If this is your **second** time around and you are completing the Intermediate Level in the Classroom, modify the first text cell in the notebook (*heading = CREDIT: Prof. Raja GuhaThakurta of UCSC and the Science Internship Program*), replacing the text to state your full name, your Project Team name and code, and the date.You can be creative with text Markup, if you choose. Note that there are two ways to make a line break in a text cell.<br>\n",
        "Type the html symbol for a line break where you want to start a new line immediately<br>\n",
        "\n",
        "```\n",
        "<br>\n",
        "```\n",
        "OR enter *return* twice to have a more obvious break. \n",
        "\n",
        "Follow the instructions in the notebook. Be sure that each code cell that generates output in the notebook displays that output. Make all suggested changes - there aren't many changes to make, but there are some. Read carefully.\n",
        "\n",
        "Save your work and submit the notebook as your Intermediate assignment."
      ]
    }
  ]
}