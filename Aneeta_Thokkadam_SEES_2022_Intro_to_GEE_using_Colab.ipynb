{
  "nbformat": 4,
  "nbformat_minor": 0,
  "metadata": {
    "colab": {
      "name": "Aneeta Thokkadam SEES 2022 Intro to GEE using Colab.ipynb",
      "provenance": [],
      "collapsed_sections": [],
      "include_colab_link": true
    },
    "kernelspec": {
      "name": "python3",
      "display_name": "Python 3"
    }
  },
  "cells": [
    {
      "cell_type": "markdown",
      "metadata": {
        "id": "view-in-github",
        "colab_type": "text"
      },
      "source": [
        "<a href=\"https://colab.research.google.com/github/aneetat1/NASA-SEES-Internship/blob/main/Aneeta_Thokkadam_SEES_2022_Intro_to_GEE_using_Colab.ipynb\" target=\"_parent\"><img src=\"https://colab.research.google.com/assets/colab-badge.svg\" alt=\"Open In Colab\"/></a>"
      ]
    },
    {
      "cell_type": "markdown",
      "metadata": {
        "id": "4UYnuFtvog_d"
      },
      "source": [
        "# Sign up for the Colaboratory & Google Earth Engine\n",
        "\n",
        "Do you have a Google account that includes Google Drive? Perhaps you already use the Google Classroom for school. If yes, then it should be easy to get started with the Colaboratory (Colab). If you do not have such an account or if your school's Google account cannot be used, you can verify an account or create a new gmail account. See the [google account link](https://support.google.com/accounts/answer/27441?hl=en) for directions. \n",
        "\n",
        "**Note:** You already have access to Colab if you have completed the SEES Lesson 2 on Python.\n",
        "\n",
        "Register for a Google Earth Engine (GEE) account here: \n",
        "https://earthengine.google.com/new_signup/ <br>\n",
        "\n",
        "**Note**: If you do not receive a welcome email from GEE within a day of applying, contact your mentor and let her know what email you used to sign up. Your mentor can facilitate an invitation after you make your first attempt. You only need to apply once."
      ]
    },
    {
      "cell_type": "markdown",
      "metadata": {
        "id": "dXEDnUqvtnpn"
      },
      "source": [
        "# Get started with an existing Colab notebook\n",
        "Your mentor has shared this notebook with you, but it is view only. The first time that you open it, you may see a popup like this: <br><br>\n",
        "\n",
        "---\n",
        "<img src = \"https://drive.google.com/uc?id=1ANNi_LpBT7fXwpy3HiQ5t3AlZIs_MF72\" width = \"816px\" height = \"328px\">\n",
        "\n",
        "In this case, you know the notebook author, your mentor, so you can click on the **Run Anyway** button. Your mentor will not be harvesting any personal data from you, she promises!\n",
        "\n",
        "When you are ready to make changes to the notebook, you can save a copy to your own Google Drive. To do so, go to the Colab menu at upper left and choose `File` **-->** `Save a copy in Drive`. You can rename the notebook from *Copy of* ***filename***.ipynb to ***filename*** *your name*.ipynb\n"
      ]
    },
    {
      "cell_type": "markdown",
      "metadata": {
        "id": "sVfIVP5tCGzb"
      },
      "source": [
        "# Get ready, set, go!\n",
        "\n",
        "It's time to get started with Google Earth Engine. If you have used the GEE code editor with Javascript, this experience will be different. We will build our maps from scratch. \n",
        "<br>\n",
        "The first thing that we need to do is import the Google Earth Engine API and to authenticate that we have access to GEE. "
      ]
    },
    {
      "cell_type": "markdown",
      "metadata": {
        "id": "_LlKEmFE5lH6"
      },
      "source": [
        "## Import Earth Engine API and authenticate<a class=\"anchor\" id=\"import-api\"></a>\n",
        "\n",
        "The Earth Engine API is installed by default in Google Colaboratory. The following steps must be completed\n",
        "\n",
        "*   for each new Colab session,\n",
        "*   if you restart your Colab kernel, or \n",
        "*   if your Colab virtual machine is recycled due to inactivity.\n",
        "\n",
        "### Import the API\n",
        "\n",
        "Run the following cell to import the Google Earth Engine API into your session."
      ]
    },
    {
      "cell_type": "code",
      "metadata": {
        "id": "9C3M95OWjNX3"
      },
      "source": [
        "import ee"
      ],
      "execution_count": null,
      "outputs": []
    },
    {
      "cell_type": "markdown",
      "metadata": {
        "id": "YXeeIfHx5lH6"
      },
      "source": [
        "### Authenticate and initialize\n",
        "\n",
        "Run the `ee.Authenticate` function to authenticate your access to Earth Engine servers and `ee.Initialize` to initialize it. Upon running the following cell you'll be asked to grant Earth Engine access to your Google account. Follow the instructions printed to the cell."
      ]
    },
    {
      "cell_type": "code",
      "metadata": {
        "id": "wJXov3EFGt5S",
        "colab": {
          "base_uri": "https://localhost:8080/"
        },
        "outputId": "026da19e-2614-4231-f15c-abc2a5c21ca3"
      },
      "source": [
        "## Trigger the authentication flow. You only need to do this once\n",
        "ee.Authenticate()\n",
        "\n",
        "# Initialize the library.\n",
        "ee.Initialize()"
      ],
      "execution_count": null,
      "outputs": [
        {
          "output_type": "stream",
          "name": "stdout",
          "text": [
            "To authorize access needed by Earth Engine, open the following URL in a web browser and follow the instructions. If the web browser does not start automatically, please manually browse the URL below.\n",
            "\n",
            "    https://code.earthengine.google.com/client-auth?scopes=https%3A//www.googleapis.com/auth/earthengine%20https%3A//www.googleapis.com/auth/devstorage.full_control&request_id=CPPpNecbraIO88mY4yxc7qkSV_iHTLm-pOKgveqosTo&tc=Q5wkydekX6q8P-KWFkUVVj8fHQsZgBY95selJ-utS-s&cc=grFV9esO-KNN8K9GH5W8tUDLIvU861ShquYmc7TOvHM\n",
            "\n",
            "The authorization workflow will generate a code, which you should paste in the box below. \n",
            "Enter verification code: 4/1AdQt8qgtEp28cN98YzFKJV7LOypYzg_yLD6XV7dde7xfSI4X8AgX4qcrsHE\n",
            "\n",
            "Successfully saved authorization token.\n"
          ]
        }
      ]
    },
    {
      "cell_type": "markdown",
      "metadata": {
        "id": "nCuan1UgjNX2"
      },
      "source": [
        "## Install the geemap Python package\n",
        "\n",
        "Install the [Earth Engine Python API](https://developers.google.com/earth-engine/python_install) and [geemap](https://github.com/giswqs/geemap). The **geemap** Python package is built upon the [ipyleaflet](https://github.com/jupyter-widgets/ipyleaflet) and [folium](https://github.com/python-visualization/folium) packages and implements several methods for interacting with Earth Engine data layers, such as `Map.addLayer()`, `Map.setCenter()`, and `Map.centerObject()`.\n",
        "The following script checks if the geemap package has been installed. If not, it will install geemap, which automatically installs its [dependencies](https://github.com/giswqs/geemap#dependencies), including earthengine-api and folium for map display. One dependency not installed here is ipyleaflet, since Colab sadly does not support it.\n",
        "\n",
        "With **geemap** installed, we do not have to write our own **folium** display function."
      ]
    },
    {
      "cell_type": "code",
      "source": [
        ""
      ],
      "metadata": {
        "id": "JXq8Ih16YIeV"
      },
      "execution_count": null,
      "outputs": []
    },
    {
      "cell_type": "code",
      "metadata": {
        "id": "r4Gxi5qjjNX2",
        "colab": {
          "base_uri": "https://localhost:8080/",
          "height": 52
        },
        "outputId": "3e127975-8118-4bc9-df3d-8abd82e64962"
      },
      "source": [
        "# Installs geemap package\n",
        "import subprocess\n",
        "\n",
        "try:\n",
        "    import geemap.eefolium as geemap\n",
        "    print(\"geemap is imported and ready to use in Colab\")\n",
        "except ImportError:\n",
        "    print('geemap package not installed. Installing ...')\n",
        "    subprocess.check_call([\"python\", '-m', 'pip', 'install', 'geemap'])\n",
        "    import geemap.eefolium as geemap\n",
        "    print(\"geemap is now installed, imported and ready to use in Colab\") \n"
      ],
      "execution_count": null,
      "outputs": [
        {
          "output_type": "stream",
          "name": "stdout",
          "text": [
            "geemap package not installed. Installing ...\n",
            "geemap is now installed, imported and ready to use in Colab\n"
          ]
        }
      ]
    },
    {
      "cell_type": "markdown",
      "metadata": {
        "id": "IzWcPFx7RwH9"
      },
      "source": [
        "# Make your first map in Colab\n"
      ]
    },
    {
      "cell_type": "markdown",
      "metadata": {
        "id": "bdWLuuJIwwas"
      },
      "source": [
        "## Create an interactive map\n",
        "Note that `Map` is a variable in the code below. You can use a different variable name. Here we use the capitalized `Map` as variable name to accentuate that this object is like the variable used in Javascript."
      ]
    },
    {
      "cell_type": "code",
      "metadata": {
        "id": "L-CTJwEAvYB0",
        "colab": {
          "base_uri": "https://localhost:8080/"
        },
        "outputId": "30e22b58-81b1-43d5-eeea-a6629d1285fa"
      },
      "source": [
        "# Use geemap to create an empty map instance\n",
        "Map = geemap.Map()"
      ],
      "execution_count": null,
      "outputs": [
        {
          "output_type": "stream",
          "name": "stdout",
          "text": [
            "To authorize access needed by Earth Engine, open the following URL in a web browser and follow the instructions. If the web browser does not start automatically, please manually browse the URL below.\n",
            "\n",
            "    https://code.earthengine.google.com/client-auth?scopes=https%3A//www.googleapis.com/auth/earthengine%20https%3A//www.googleapis.com/auth/devstorage.full_control&request_id=IOY7y54bhZtV8dLcZS8BCTAsqPIx6rGmdv9qMJoqEU8&tc=3-77OH8ajBhVahBOSp_qKKFD8sIeqCOyNNR4Cu0JTUY&cc=C0xpYusf_UekiWokrM-vzYcza8-NspGAll4mXdFXinE\n",
            "\n",
            "The authorization workflow will generate a code, which you should paste in the box below. \n",
            "Enter verification code: 4/1AdQt8qgxcSvkYjFVC8OOAGsJ5dMtmRlarGo3cQmXxsjw8ElERHQQBFi-7iM\n",
            "\n",
            "Successfully saved authorization token.\n"
          ]
        }
      ]
    },
    {
      "cell_type": "markdown",
      "metadata": {
        "id": "WnQb9eCRQ46J"
      },
      "source": [
        "## Add a Landsat image to the map\n",
        "Next we will set up an image for display. You can edit this code to experiment with different:\n",
        "*  locations,\n",
        "*  dates, \n",
        "*  bands, and \n",
        "*  visualization parameters\n",
        "\n",
        "\n"
      ]
    },
    {
      "cell_type": "code",
      "metadata": {
        "id": "49xyvlh8RDHY",
        "colab": {
          "base_uri": "https://localhost:8080/",
          "height": 235
        },
        "outputId": "5fdadccb-b23c-464a-86db-56c370d24174"
      },
      "source": [
        "# Use geemap to create an empty map instance\n",
        "Map = geemap.Map()\n",
        "\n",
        "# South Padre Island on the southern Texas coast\n",
        "# Note that the geometry point is made from longitude (-97.55) and latitude (26.87)\n",
        "centroid = ee.Geometry.Point([-97.55, 26.87])\n",
        "\n",
        "# back slash used to indicate continuation and make code more legible\n",
        "landsat = ee.ImageCollection('LANDSAT/LC08/C01/T1_SR') \\\n",
        "    .filterDate('2016-01-01T08:00', '2017-01-01T08:00') \\\n",
        "    .filterBounds(centroid) \\\n",
        "    .median()\n",
        "# set the image display parameters\n",
        "landsat_vis = {\n",
        "    'min': 0,\n",
        "    'max': 3000,\n",
        "    'gamma': 1.3,\n",
        "    'bands': ['B4', 'B3', 'B2'] # visible part of electromagnetic spectrum\n",
        "}\n",
        "# center the map on the geometry point used to spatially filter the image\n",
        "Map.centerObject(centroid, 11)\n",
        "# add the image (landsat), the display parameters (landsat_vis), and\n",
        "# the layer label to the map\n",
        "Map.addLayer(landsat, landsat_vis, \"Median visible Landsat-8 (2016)\")\n",
        "# Display the map. This is easy thanks to geemap and its built-in functions\n",
        "Map\n",
        "\n"
      ],
      "execution_count": 1,
      "outputs": [
        {
          "output_type": "error",
          "ename": "NameError",
          "evalue": "ignored",
          "traceback": [
            "\u001b[0;31m---------------------------------------------------------------------------\u001b[0m",
            "\u001b[0;31mNameError\u001b[0m                                 Traceback (most recent call last)",
            "\u001b[0;32m<ipython-input-1-4b5766c0cf9f>\u001b[0m in \u001b[0;36m<module>\u001b[0;34m()\u001b[0m\n\u001b[1;32m      1\u001b[0m \u001b[0;31m# Use geemap to create an empty map instance\u001b[0m\u001b[0;34m\u001b[0m\u001b[0;34m\u001b[0m\u001b[0;34m\u001b[0m\u001b[0m\n\u001b[0;32m----> 2\u001b[0;31m \u001b[0mMap\u001b[0m \u001b[0;34m=\u001b[0m \u001b[0mgeemap\u001b[0m\u001b[0;34m.\u001b[0m\u001b[0mMap\u001b[0m\u001b[0;34m(\u001b[0m\u001b[0;34m)\u001b[0m\u001b[0;34m\u001b[0m\u001b[0;34m\u001b[0m\u001b[0m\n\u001b[0m\u001b[1;32m      3\u001b[0m \u001b[0;34m\u001b[0m\u001b[0m\n\u001b[1;32m      4\u001b[0m \u001b[0;31m# South Padre Island on the southern Texas coast\u001b[0m\u001b[0;34m\u001b[0m\u001b[0;34m\u001b[0m\u001b[0;34m\u001b[0m\u001b[0m\n\u001b[1;32m      5\u001b[0m \u001b[0;31m# Note that the geometry point is made from longitude (-97.55) and latitude (26.87)\u001b[0m\u001b[0;34m\u001b[0m\u001b[0;34m\u001b[0m\u001b[0;34m\u001b[0m\u001b[0m\n",
            "\u001b[0;31mNameError\u001b[0m: name 'geemap' is not defined"
          ]
        }
      ]
    },
    {
      "cell_type": "markdown",
      "metadata": {
        "id": "gvvFrxyoEZlR"
      },
      "source": [
        "##Your turn to code a map"
      ]
    },
    {
      "cell_type": "markdown",
      "metadata": {
        "id": "5KUyZj5i98yP"
      },
      "source": [
        "\n",
        "### Figure out where you want to be\n",
        "\n",
        "Determine a location that you want to display in a map. You can collect the geographic coordinates that you need using Google Maps in a web browser. This might not work as well on a phone. \n",
        "1.   Look to the right of the text 1. Clicked location on Google Maps. Noticed the small white location icon in a gray circle. That is the location of UT Center for Space Research where the NASA SEES program is hosted.\n",
        "\n",
        "2.   Next look to the bottom of the image where you see a box titled **West Pickle Research Building**. Below that are the locations latitude (north and a positive number because we are in the northern hemisphere) and longitude (west and a negative number becasue we are in the western hemisphere). A geometry point in Google Earth Engine is written as `ee.Geometry.Point([longitude, latitude])` where longitude and latitude are written in decimal degrees. That is the opposite of what is shown in Google Maps. So be careful to write your point code correctly. Do not simply copy and paste, or you may end up in an unexpected location!\n",
        "\n",
        "---\n",
        "<img src = \"https://drive.google.com/uc?id=1PWmqurX7DJhtr1KCTt7GNYt_qGk0aK4L\" width = \"600px\" height = \"596px\">\n",
        "---\n",
        "\n",
        "\n",
        "\n",
        "\n",
        "\n",
        "\n"
      ]
    },
    {
      "cell_type": "markdown",
      "metadata": {
        "id": "AtS5K1J8ELJX"
      },
      "source": [
        "### Pick your dates\n",
        "\n",
        "For best results for this exercise choose a time span \n",
        "of at least one month minimum, although several months or years may give a better result.\n",
        "\n",
        "Your variables are strings, so single quote them.\n",
        "\n",
        "The variable should be of the format *yyyy*-*mo*-*dd*T*hh*:*mi* where:\n",
        "* *yyyy* = year\n",
        "* *mo* = two digit month\n",
        "* *dd* = two digit day\n",
        "* *hh* = two digit hour (you can use 01 for begin times & 23 for end times)\n",
        "* *mi* = two digit minute (you can simply use 00 for minutes here)\n",
        "\n",
        "In the code below set the variables `begin` and `end` to your begin and end dates. Don't forget to include the **'T'** between date and time."
      ]
    },
    {
      "cell_type": "markdown",
      "metadata": {
        "id": "mzYzX4CZEftg"
      },
      "source": [
        "### Pick your landsat bands\n",
        "\n",
        "Here are some websites that can help you decide what image bands to use in your display.\n",
        "* [Landsat band listing from USGS](https://www.usgs.gov/media/images/landsat-8-band-designations)\n",
        "* [Best Landsat bands for research](https://www.usgs.gov/faqs/what-are-best-landsat-spectral-bands-use-my-research?qt-news_science_products=0#qt-news_science_products)\n",
        "* [Example band composites by Landsat sensor](https://www.usgs.gov/media/images/common-landsat-band-rgb-composites)\n",
        "\n",
        "Note that the Google Earth Engine ImageCollection named 'LANDSAT/LC08/C01/T1_SR' thta we are using in thois notebook includes the following bands:\n",
        "* B1 (coastal aerosol)\n",
        "* B2 (visible blue light)\n",
        "* B3 (visible green light)\n",
        "* B4 (visible red light)\n",
        "* B5 (near infared, or NIR)\n",
        "* B6 (shortwave infrared 1, or SWIR-1)\n",
        "* B7 (shortwave infrared 2, or SWIR-2)\n",
        "* B10 (thermal infreared 1)\n",
        "* B11 (thermal infreared 2)\n",
        "* sr_aerosol (surface reflectance aerosol)\n",
        "* pixel_qa (pixel quality) \n",
        "* radsat_qa (band saturation indicator)\n",
        "\n",
        "Your band choices should be entered as strings like 'B4' or 'B7'.\n"
      ]
    },
    {
      "cell_type": "markdown",
      "metadata": {
        "id": "vFyLEDqxEmaC"
      },
      "source": [
        "### Play around with visualization parameters\n",
        "\n",
        "The GEE map display values determine the dynamic range use to stretch Landsat band pixel values to your computer display. If you are familiar with Photoshop or other digital image or photo processing applications, you will know that our computers have a set range from dark to light in red, green and blue. You can set your minimum and maximum pixel values to enhance image display.\n",
        "\n",
        "0 is a safe bet for a minimum image display value but you can set the value higher. \n",
        "The maximum meaningful pixel value for Landsat is 10000 but results are probably better with a lower value. Try setting the value to 10000. The image display will likely be very dark, becdasue only a few satruated values and clouds are that bright. Try a max setting of 5000, then 3000, and then 1500. What do you notice?\n",
        "\n",
        "You can also set a gamma value, if you wish. Use a floating point number. Reasonable values for Landsat images generally range from 0.6 to 1.5. You can also comment out the gamma if you don't want to tinker with it, or set it to a neutral value of 1.0. It is not a required parameter.\n",
        "\n",
        "For more detailed information about image visualization in GEE Colab, see this [link](https://developers.google.com/earth-engine/guides/image_visualization).\n",
        "\n",
        "With the `map.centerObject(location, zoom) ` statement,  you set the central location of your map display and also the starting zoom level. Here we use a geometry point.  The integet value 1 is used to zoom out to see the whole world. Larger values are used to zoom in. If the zoom number is too large your image display will be pixelated. Read more about [GEE zoom levels](https://developers.google.com/maps/documentation/javascript/overview#zoom-levels)."
      ]
    },
    {
      "cell_type": "code",
      "metadata": {
        "id": "cNcMydZW8fau",
        "colab": {
          "base_uri": "https://localhost:8080/",
          "height": 712
        },
        "outputId": "62c0eff2-d2b0-427e-c2b7-78e774b275ca"
      },
      "source": [
        "# Use geemap to create an empty map instance\n",
        "myMap = geemap.Map()\n",
        "\n",
        "# Note that the geometry point is made from longitude and latitude\n",
        "# Set the two variables. You can use 0  to 6 or more decimal places\n",
        "lon = -74.65910\n",
        "lat = 40.35072\n",
        "centroid = ee.Geometry.Point([lon, lat])\n",
        "\n",
        "# Pick your time period. Look to the previous\n",
        "\n",
        "begin = '2021-11-26T08:00'\n",
        "end = '2022-5-26T08:00'\n",
        "# back slash used to indicate continuation and make code more legible\n",
        "landsat = ee.ImageCollection('LANDSAT/LC08/C01/T1_SR') \\\n",
        "    .filterDate(begin, end) \\\n",
        "    .filterBounds(centroid) \\\n",
        "    .median()\n",
        "# set the image display parameters\n",
        "# use integer values for your min and max variables\n",
        "min_px_display =  0\n",
        "max_px_display =  5000\n",
        "# use a floating point value for the gamma\n",
        "gamma = 5.0\n",
        "# band variables are strings, like 'B3' or 'B7'\n",
        "R = 'B4' # choose band to assign to RED computer display channel \n",
        "G = 'B3' # choose band to assign to GREEN computer display channel\n",
        "B = 'B2' # choose band to assign to BLUE computer display channel\n",
        "\n",
        "landsat_params = {\n",
        "    'min': min_px_display,\n",
        "    'max': max_px_display,\n",
        "    'gamma': gamma,\n",
        "    'bands': [R, G, B] \n",
        "}\n",
        "# Center the map on the geometry point used to spatially filter the image\n",
        "# Play around with the Zoom level. Use an integer number. \n",
        "zoom = 7\n",
        "myMap.centerObject(centroid, zoom)\n",
        "# add the image (landsat), the display parameters (landsat_vis), and\n",
        "# the layer label to the map\n",
        "# compose label text to help you and the notebook user remember what the layer is\n",
        "label = 'This Is a Label'\n",
        "myMap.addLayer(landsat, landsat_vis, label)\n",
        "# Display the map. This is easy thanks to geemap and its built-in functions\n",
        "myMap"
      ],
      "execution_count": null,
      "outputs": [
        {
          "output_type": "execute_result",
          "data": {
            "text/plain": [
              "<geemap.eefolium.Map at 0x7fd8410a6b90>"
            ],
            "text/html": [
              "<div style=\"width:100%;\"><div style=\"position:relative;width:100%;height:0;padding-bottom:60%;\"><span style=\"color:#565656\">Make this Notebook Trusted to load map: File -> Trust Notebook</span><iframe srcdoc=\"&lt;!DOCTYPE html&gt;\n",
              "&lt;head&gt;    \n",
              "    &lt;meta http-equiv=&quot;content-type&quot; content=&quot;text/html; charset=UTF-8&quot; /&gt;\n",
              "    \n",
              "        &lt;script&gt;\n",
              "            L_NO_TOUCH = false;\n",
              "            L_DISABLE_3D = false;\n",
              "        &lt;/script&gt;\n",
              "    \n",
              "    &lt;style&gt;html, body {width: 100%;height: 100%;margin: 0;padding: 0;}&lt;/style&gt;\n",
              "    &lt;style&gt;#map {position:absolute;top:0;bottom:0;right:0;left:0;}&lt;/style&gt;\n",
              "    &lt;script src=&quot;https://cdn.jsdelivr.net/npm/leaflet@1.6.0/dist/leaflet.js&quot;&gt;&lt;/script&gt;\n",
              "    &lt;script src=&quot;https://code.jquery.com/jquery-1.12.4.min.js&quot;&gt;&lt;/script&gt;\n",
              "    &lt;script src=&quot;https://maxcdn.bootstrapcdn.com/bootstrap/3.2.0/js/bootstrap.min.js&quot;&gt;&lt;/script&gt;\n",
              "    &lt;script src=&quot;https://cdnjs.cloudflare.com/ajax/libs/Leaflet.awesome-markers/2.0.2/leaflet.awesome-markers.js&quot;&gt;&lt;/script&gt;\n",
              "    &lt;link rel=&quot;stylesheet&quot; href=&quot;https://cdn.jsdelivr.net/npm/leaflet@1.6.0/dist/leaflet.css&quot;/&gt;\n",
              "    &lt;link rel=&quot;stylesheet&quot; href=&quot;https://maxcdn.bootstrapcdn.com/bootstrap/3.2.0/css/bootstrap.min.css&quot;/&gt;\n",
              "    &lt;link rel=&quot;stylesheet&quot; href=&quot;https://maxcdn.bootstrapcdn.com/bootstrap/3.2.0/css/bootstrap-theme.min.css&quot;/&gt;\n",
              "    &lt;link rel=&quot;stylesheet&quot; href=&quot;https://maxcdn.bootstrapcdn.com/font-awesome/4.6.3/css/font-awesome.min.css&quot;/&gt;\n",
              "    &lt;link rel=&quot;stylesheet&quot; href=&quot;https://cdnjs.cloudflare.com/ajax/libs/Leaflet.awesome-markers/2.0.2/leaflet.awesome-markers.css&quot;/&gt;\n",
              "    &lt;link rel=&quot;stylesheet&quot; href=&quot;https://cdn.jsdelivr.net/gh/python-visualization/folium/folium/templates/leaflet.awesome.rotate.min.css&quot;/&gt;\n",
              "    \n",
              "            &lt;meta name=&quot;viewport&quot; content=&quot;width=device-width,\n",
              "                initial-scale=1.0, maximum-scale=1.0, user-scalable=no&quot; /&gt;\n",
              "            &lt;style&gt;\n",
              "                #map_59caf81f40a99f5a234addc040abd19f {\n",
              "                    position: relative;\n",
              "                    width: 100.0%;\n",
              "                    height: 100.0%;\n",
              "                    left: 0.0%;\n",
              "                    top: 0.0%;\n",
              "                }\n",
              "            &lt;/style&gt;\n",
              "        \n",
              "    &lt;script src=&quot;https://cdnjs.cloudflare.com/ajax/libs/leaflet.fullscreen/1.4.2/Control.FullScreen.min.js&quot;&gt;&lt;/script&gt;\n",
              "    &lt;link rel=&quot;stylesheet&quot; href=&quot;https://cdnjs.cloudflare.com/ajax/libs/leaflet.fullscreen/1.4.2/Control.FullScreen.min.css&quot;/&gt;\n",
              "&lt;/head&gt;\n",
              "&lt;body&gt;    \n",
              "    \n",
              "            &lt;div class=&quot;folium-map&quot; id=&quot;map_59caf81f40a99f5a234addc040abd19f&quot; &gt;&lt;/div&gt;\n",
              "        \n",
              "&lt;/body&gt;\n",
              "&lt;script&gt;    \n",
              "    \n",
              "            var map_59caf81f40a99f5a234addc040abd19f = L.map(\n",
              "                &quot;map_59caf81f40a99f5a234addc040abd19f&quot;,\n",
              "                {\n",
              "                    center: [20.0, 0.0],\n",
              "                    crs: L.CRS.EPSG3857,\n",
              "                    zoom: 2,\n",
              "                    zoomControl: true,\n",
              "                    preferCanvas: false,\n",
              "                    eeInitialize: true,\n",
              "                    addGoogleMap: true,\n",
              "                    pluginLatlngpopup: true,\n",
              "                    pluginFullscreen: true,\n",
              "                    pluginDraw: false,\n",
              "                    DrawExport: true,\n",
              "                    pluginMinimap: false,\n",
              "                    pluginLayercontrol: false,\n",
              "                }\n",
              "            );\n",
              "\n",
              "            \n",
              "\n",
              "        \n",
              "    \n",
              "            var tile_layer_73e6b5da75b461b2f1d3a241021f62a4 = L.tileLayer(\n",
              "                &quot;https://{s}.tile.openstreetmap.org/{z}/{x}/{y}.png&quot;,\n",
              "                {&quot;attribution&quot;: &quot;Data by \\u0026copy; \\u003ca href=\\&quot;http://openstreetmap.org\\&quot;\\u003eOpenStreetMap\\u003c/a\\u003e, under \\u003ca href=\\&quot;http://www.openstreetmap.org/copyright\\&quot;\\u003eODbL\\u003c/a\\u003e.&quot;, &quot;detectRetina&quot;: false, &quot;maxNativeZoom&quot;: 18, &quot;maxZoom&quot;: 18, &quot;minZoom&quot;: 0, &quot;noWrap&quot;: false, &quot;opacity&quot;: 1, &quot;subdomains&quot;: &quot;abc&quot;, &quot;tms&quot;: false}\n",
              "            ).addTo(map_59caf81f40a99f5a234addc040abd19f);\n",
              "        \n",
              "    \n",
              "            var tile_layer_afd73f51ef30a3ccf8d3ed80b3366868 = L.tileLayer(\n",
              "                &quot;https://mt1.google.com/vt/lyrs=m\\u0026x={x}\\u0026y={y}\\u0026z={z}&quot;,\n",
              "                {&quot;attribution&quot;: &quot;Google&quot;, &quot;detectRetina&quot;: false, &quot;maxNativeZoom&quot;: 18, &quot;maxZoom&quot;: 18, &quot;minZoom&quot;: 0, &quot;noWrap&quot;: false, &quot;opacity&quot;: 1, &quot;subdomains&quot;: &quot;abc&quot;, &quot;tms&quot;: false}\n",
              "            ).addTo(map_59caf81f40a99f5a234addc040abd19f);\n",
              "        \n",
              "    \n",
              "                var lat_lng_popup_59638584e37b9d39ace2428c90df725d = L.popup();\n",
              "                function latLngPop(e) {\n",
              "                    lat_lng_popup_59638584e37b9d39ace2428c90df725d\n",
              "                        .setLatLng(e.latlng)\n",
              "                        .setContent(&quot;Latitude: &quot; + e.latlng.lat.toFixed(4) +\n",
              "                                    &quot;&lt;br&gt;Longitude: &quot; + e.latlng.lng.toFixed(4))\n",
              "                        .openOn(map_59caf81f40a99f5a234addc040abd19f);\n",
              "                    }\n",
              "                map_59caf81f40a99f5a234addc040abd19f.on(&#x27;click&#x27;, latLngPop);\n",
              "            \n",
              "    \n",
              "            L.control.fullscreen(\n",
              "                {&quot;forceSeparateButton&quot;: false, &quot;position&quot;: &quot;topleft&quot;, &quot;title&quot;: &quot;Full Screen&quot;, &quot;titleCancel&quot;: &quot;Exit Full Screen&quot;}\n",
              "            ).addTo(map_59caf81f40a99f5a234addc040abd19f);\n",
              "        \n",
              "    \n",
              "            map_59caf81f40a99f5a234addc040abd19f.fitBounds(\n",
              "                [[20, 0], [20, 0]],\n",
              "                {&quot;maxZoom&quot;: 2}\n",
              "            );\n",
              "        \n",
              "    \n",
              "            map_59caf81f40a99f5a234addc040abd19f.fitBounds(\n",
              "                [[40.35072000000001, -74.6591], [40.35072000000001, -74.6591]],\n",
              "                {&quot;maxZoom&quot;: 7}\n",
              "            );\n",
              "        \n",
              "    \n",
              "            var tile_layer_17c6232a521dc06d4b2393f972c2ffc2 = L.tileLayer(\n",
              "                &quot;https://earthengine.googleapis.com/v1alpha/projects/earthengine-legacy/maps/5d5f1bc0708cbcd2666760e8e24b6169-316f5fdafac16ccd09f5b8c77ed96a38/tiles/{z}/{x}/{y}&quot;,\n",
              "                {&quot;attribution&quot;: &quot;Google Earth Engine&quot;, &quot;detectRetina&quot;: false, &quot;maxNativeZoom&quot;: 18, &quot;maxZoom&quot;: 18, &quot;minZoom&quot;: 0, &quot;noWrap&quot;: false, &quot;opacity&quot;: 1.0, &quot;subdomains&quot;: &quot;abc&quot;, &quot;tms&quot;: false}\n",
              "            ).addTo(map_59caf81f40a99f5a234addc040abd19f);\n",
              "        \n",
              "    \n",
              "            var layer_control_47ec22a614d39c09cd482b6207b7d132 = {\n",
              "                base_layers : {\n",
              "                    &quot;openstreetmap&quot; : tile_layer_73e6b5da75b461b2f1d3a241021f62a4,\n",
              "                },\n",
              "                overlays :  {\n",
              "                    &quot;Google Maps&quot; : tile_layer_afd73f51ef30a3ccf8d3ed80b3366868,\n",
              "                    &quot;This Is a Label&quot; : tile_layer_17c6232a521dc06d4b2393f972c2ffc2,\n",
              "                },\n",
              "            };\n",
              "            L.control.layers(\n",
              "                layer_control_47ec22a614d39c09cd482b6207b7d132.base_layers,\n",
              "                layer_control_47ec22a614d39c09cd482b6207b7d132.overlays,\n",
              "                {&quot;autoZIndex&quot;: true, &quot;collapsed&quot;: true, &quot;position&quot;: &quot;topright&quot;}\n",
              "            ).addTo(map_59caf81f40a99f5a234addc040abd19f);\n",
              "        \n",
              "&lt;/script&gt;\" style=\"position:absolute;width:100%;height:100%;left:0;top:0;border:none !important;\" allowfullscreen webkitallowfullscreen mozallowfullscreen></iframe></div></div>"
            ]
          },
          "metadata": {},
          "execution_count": 13
        }
      ]
    },
    {
      "cell_type": "markdown",
      "metadata": {
        "id": "K_q3wiBV4r05"
      },
      "source": [
        "# Credits"
      ]
    },
    {
      "cell_type": "markdown",
      "metadata": {
        "id": "_ZQ0-1ek4xud"
      },
      "source": [
        "**geemap** is developed by Quisheng Wu, an Assistant Professor in the Department of Geography at the University of Tennessee, Knoxville (田纳西大学). \n",
        "\n",
        "[Read more about Dr. Wu](https://wetlands.io) and his fascinating work.\n",
        "\n",
        "Here I cite Dr. Wu's recommended papers to support his work. Our team should include these citations in posters, presentations and any code that we share outside our group.\n",
        "\n",
        "* Wu, Q., (2020). geemap: A Python package for interactive mapping with Google Earth Engine. The Journal of Open Source Software, 5(51), 2305. https://doi.org/10.21105/joss.02305\n",
        "* Wu, Q., Lane, C. R., Li, X., Zhao, K., Zhou, Y., Clinton, N., DeVries, B., Golden, H. E., & Lang, M. W. (2019). Integrating LiDAR data and multi-temporal aerial imagery to map wetland inundation dynamics using Google Earth Engine. Remote Sensing of Environment, 228, 1-13. https://doi.org/10.1016/j.rse.2019.04.015 \n",
        "\n",
        "\n"
      ]
    }
  ]
}