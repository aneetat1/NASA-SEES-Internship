{
  "nbformat": 4,
  "nbformat_minor": 0,
  "metadata": {
    "kernelspec": {
      "display_name": "Python 3",
      "language": "python",
      "name": "python3"
    },
    "language_info": {
      "codemirror_mode": {
        "name": "ipython",
        "version": 3
      },
      "file_extension": ".py",
      "mimetype": "text/x-python",
      "name": "python",
      "nbconvert_exporter": "python",
      "pygments_lexer": "ipython3",
      "version": "3.5.2"
    },
    "colab": {
      "name": "Aneeta Thokkadam - SEES 2-SIP Intro.ipynb",
      "provenance": [],
      "collapsed_sections": [],
      "include_colab_link": true
    }
  },
  "cells": [
    {
      "cell_type": "markdown",
      "metadata": {
        "id": "view-in-github",
        "colab_type": "text"
      },
      "source": [
        "<a href=\"https://colab.research.google.com/github/aneetat1/NASA-SEES-Internship/blob/main/Aneeta_Thokkadam_SEES_2_SIP_Intro.ipynb\" target=\"_parent\"><img src=\"https://colab.research.google.com/assets/colab-badge.svg\" alt=\"Open In Colab\"/></a>"
      ]
    },
    {
      "cell_type": "markdown",
      "source": [
        "**Aneeta Thokkadam, Climate Disaster Preparedness, O-CD, 07/01/2022** 💐"
      ],
      "metadata": {
        "id": "7LC5D9Nz3R8G"
      }
    },
    {
      "cell_type": "markdown",
      "metadata": {
        "id": "rXeQZgXFA3TC"
      },
      "source": [
        "## Welcome SEES Interns!\n",
        "\n",
        "\n",
        "This is a Jupyter notebook. It is an environment for running code in Python--it has many convenient features that make it a very powerful research tool. \n",
        "\n",
        "To run each cell/code block below, \n",
        "*   hover your pointer over the square brackets ([]) to display the Run button **OR**\n",
        "*   click in the cell and press Control+Enter (Windows) or Command + Return (Mac).\n",
        "*   You can also use Shift+Enter/Return to step through text cells and run code cells. \n"
      ]
    },
    {
      "cell_type": "markdown",
      "source": [
        "# Reminder\n",
        "## Basic Level\n",
        "Attempt to complete this notebook. Then watch the videos refernced in this assignment. When you are ready, take the quiz that is linked in the assignment.\n",
        "## Intermediate Level\n",
        "Complete any missing code, run all code cells and submit this notebook in the classroom to receive credit. More details are found at the end of the notebook."
      ],
      "metadata": {
        "id": "iwb9n3wZZeWr"
      }
    },
    {
      "cell_type": "markdown",
      "metadata": {
        "id": "3Jep4X6bA04R"
      },
      "source": [
        "# Importing packages\n",
        "The first step in any notebook is to import any packages you might want to use. (Note from this notebook's original UCSC author: In every notebook I've every written, I always use NumPy and Matplotlib.) NumPy provides very useful mathmatical operations. Matplotlib is the package we use to make pretty plots and graphs! Begin by importing these packages by running the cell below.\n",
        "\n",
        "Question: What is a package? To jog your memory, revisit the glossary at the end of the SEES 1-Python Intro notebook."
      ]
    },
    {
      "cell_type": "code",
      "metadata": {
        "id": "infd6vCKA3TE"
      },
      "source": [
        "import numpy as np\n",
        "import matplotlib.pyplot as plt\n",
        "%matplotlib inline\n",
        "#This allows you to display your plots in the notebook. \n",
        "#Running this code block does not generate output."
      ],
      "execution_count": null,
      "outputs": []
    },
    {
      "cell_type": "markdown",
      "metadata": {
        "id": "fTKSgMUxA3TI"
      },
      "source": [
        "The above code block demonstrates the use of an alias to reference an imported module. Think of the alias as a nickname or shorthand that you can use to type less. In the case of `import numpy as np` you will type two letters instead of five, which is not a big difference. It is not *necessary* to alias numpy as np, but it is common practice that you will see in many coding examples. On the other hand, `import matplotlib.pyplot as plt` is a very useful shortcut that saves a bit of typing.\n",
        "\n",
        "Python, like many programming languages, uses arrays. A one-dimensional array is simply a list of numbers, but this special list is more memory-efficient. This is essential to working with large datasets: it's simply not practical to work with one number at a time, so we work with arrays instead. Below, I'm creating an array that runs from 0 to 100 in steps of 0.5. Note that I'm using a function in NumPy to create the array, and I'm also using functions in NumPy to learn about my array."
      ]
    },
    {
      "cell_type": "code",
      "metadata": {
        "id": "B0iaw77iA3TJ",
        "colab": {
          "base_uri": "https://localhost:8080/"
        },
        "outputId": "53c3751a-6a9c-44c7-e12a-5baf02ed7a0d"
      },
      "source": [
        "x=np.arange(0, 100, 0.5)                # Creates the array: 0 is first value \n",
        "                                        # Cutoff value is 100 - array stops just before 100\n",
        "                                        # 0.5 is the step added to each number added to the array\n",
        "print(x)\n",
        "print('Length of x:', len(x))           # len() function counts how many numbers are in the array\n",
        "print('Mean of x:', np.mean(x))         # np.mean() calculates mean of all numbers in the array\n",
        "print('Maximum value of x:', np.max(x)) # np.max() calculates maximum value in the array\n",
        "print('Minimum value of x:', np.min(x)) # np.min() calculates minimum value in the array"
      ],
      "execution_count": null,
      "outputs": [
        {
          "output_type": "stream",
          "name": "stdout",
          "text": [
            "[ 0.   0.5  1.   1.5  2.   2.5  3.   3.5  4.   4.5  5.   5.5  6.   6.5\n",
            "  7.   7.5  8.   8.5  9.   9.5 10.  10.5 11.  11.5 12.  12.5 13.  13.5\n",
            " 14.  14.5 15.  15.5 16.  16.5 17.  17.5 18.  18.5 19.  19.5 20.  20.5\n",
            " 21.  21.5 22.  22.5 23.  23.5 24.  24.5 25.  25.5 26.  26.5 27.  27.5\n",
            " 28.  28.5 29.  29.5 30.  30.5 31.  31.5 32.  32.5 33.  33.5 34.  34.5\n",
            " 35.  35.5 36.  36.5 37.  37.5 38.  38.5 39.  39.5 40.  40.5 41.  41.5\n",
            " 42.  42.5 43.  43.5 44.  44.5 45.  45.5 46.  46.5 47.  47.5 48.  48.5\n",
            " 49.  49.5 50.  50.5 51.  51.5 52.  52.5 53.  53.5 54.  54.5 55.  55.5\n",
            " 56.  56.5 57.  57.5 58.  58.5 59.  59.5 60.  60.5 61.  61.5 62.  62.5\n",
            " 63.  63.5 64.  64.5 65.  65.5 66.  66.5 67.  67.5 68.  68.5 69.  69.5\n",
            " 70.  70.5 71.  71.5 72.  72.5 73.  73.5 74.  74.5 75.  75.5 76.  76.5\n",
            " 77.  77.5 78.  78.5 79.  79.5 80.  80.5 81.  81.5 82.  82.5 83.  83.5\n",
            " 84.  84.5 85.  85.5 86.  86.5 87.  87.5 88.  88.5 89.  89.5 90.  90.5\n",
            " 91.  91.5 92.  92.5 93.  93.5 94.  94.5 95.  95.5 96.  96.5 97.  97.5\n",
            " 98.  98.5 99.  99.5]\n",
            "Length of x: 200\n",
            "Mean of x: 49.75\n",
            "Maximum value of x: 99.5\n",
            "Minimum value of x: 0.0\n"
          ]
        }
      ]
    },
    {
      "cell_type": "markdown",
      "source": [
        "Experiment with changing the different arguments to np.arange() and see how it changes your output. "
      ],
      "metadata": {
        "id": "F0h2B9Wkkq9m"
      }
    },
    {
      "cell_type": "code",
      "metadata": {
        "id": "Nd-40nSAkvN5",
        "colab": {
          "base_uri": "https://localhost:8080/"
        },
        "outputId": "cd539819-9c69-43fe-a190-c6de7cefcce2"
      },
      "source": [
        "x=np.arange(5, 10, 0.1)                # change the values and notice how the output changes\n",
        "print(x)\n",
        "print('Length of x:', len(x))           \n",
        "print('Mean of x:', np.mean(x))         \n",
        "print('Maximum value of x:', np.max(x)) \n",
        "print('Minimum value of x:', np.min(x)) "
      ],
      "execution_count": null,
      "outputs": [
        {
          "output_type": "stream",
          "name": "stdout",
          "text": [
            "[5.  5.1 5.2 5.3 5.4 5.5 5.6 5.7 5.8 5.9 6.  6.1 6.2 6.3 6.4 6.5 6.6 6.7\n",
            " 6.8 6.9 7.  7.1 7.2 7.3 7.4 7.5 7.6 7.7 7.8 7.9 8.  8.1 8.2 8.3 8.4 8.5\n",
            " 8.6 8.7 8.8 8.9 9.  9.1 9.2 9.3 9.4 9.5 9.6 9.7 9.8 9.9]\n",
            "Length of x: 50\n",
            "Mean of x: 7.449999999999991\n",
            "Maximum value of x: 9.899999999999983\n",
            "Minimum value of x: 5.0\n"
          ]
        }
      ]
    },
    {
      "cell_type": "markdown",
      "metadata": {
        "id": "KLLYhRm1A3TN"
      },
      "source": [
        "Now, let's say we want to compute some functions of x! We can again use some NumPy functions, or we can create our own.\n",
        "\n",
        "**Pay attention!** Notice the dot after the number 10 in the two Python statements in the code cell below. Python 3 uses the dot to let the code know that the number is a *floating point number* (float, for short), not an integer. The difference between integers and floats can be crucial when coding.\n",
        "\n",
        "By the way, do you expect to see output after running the following code block?"
      ]
    },
    {
      "cell_type": "code",
      "metadata": {
        "id": "7n5Cgcs3A3TN"
      },
      "source": [
        "y1 = np.sin(x/10.)\n",
        "y2 = np.cos(x/10.)\n",
        "##No, I would not expect to see output after running the code because it just assigns values to the variables"
      ],
      "execution_count": null,
      "outputs": []
    },
    {
      "cell_type": "markdown",
      "source": [
        "Add a code cell below this text cell to display at least two values of y1 and y2. Use what you about list slices in the first Python notebook to isolate a few values from each array. Slices work for lists and arrays"
      ],
      "metadata": {
        "id": "WDRKjElSlVDu"
      }
    },
    {
      "cell_type": "code",
      "source": [
        "print(y1[0])\n",
        "print(y2[-1])\n",
        "print(y1[:5:2])"
      ],
      "metadata": {
        "colab": {
          "base_uri": "https://localhost:8080/"
        },
        "id": "kyKmMHybzb10",
        "outputId": "9d619a48-ffdb-4a37-a5a8-f865a63c28c9"
      },
      "execution_count": null,
      "outputs": [
        {
          "output_type": "stream",
          "name": "stdout",
          "text": [
            "0.479425538604203\n",
            "0.5486898605815891\n",
            "[0.47942554 0.49688014 0.51413599]\n"
          ]
        }
      ]
    },
    {
      "cell_type": "markdown",
      "metadata": {
        "id": "qC-upTznA3TR"
      },
      "source": [
        "# Figures\n",
        "\n",
        "Now, let's plot our functions to see what we have. Making figures is one of the most important parts of scientific research. We do this using Matplotlib: you can see below that I am playing with different color, width and style options for my lines. Play around with changing the colors, linestyles, and limits of the axes!\n",
        "\n",
        "Also note that I've used quotation marks around certain arguments. Quotation marks go around *strings*, or just a list of characters. When I type 'x', this means a string with character 'x', as opposed to the *array* x.\n",
        "\n",
        "In the cell below, try removing the quotation marks around \"x\" in the line that says plt.xlabel(). See what happens!"
      ]
    },
    {
      "cell_type": "code",
      "metadata": {
        "id": "ilQhS_1dA3TR",
        "colab": {
          "base_uri": "https://localhost:8080/",
          "height": 304
        },
        "outputId": "af6e5b43-64ef-4ff8-ec55-9858194ce92b"
      },
      "source": [
        "plt.plot(x, y1, label=\"y=sin(x)\", color='magenta', linewidth=3, linestyle='--')\n",
        "plt.plot(x, y2, label=\"y=cos(x)\", color='blue', linewidth=3)\n",
        "plt.ylim(-2, 2)\n",
        "plt.legend()\n",
        "plt.xlabel('x', fontsize=14)\n",
        "plt.ylabel('y', fontsize=14)"
      ],
      "execution_count": null,
      "outputs": [
        {
          "output_type": "execute_result",
          "data": {
            "text/plain": [
              "Text(0, 0.5, 'y')"
            ]
          },
          "metadata": {},
          "execution_count": 14
        },
        {
          "output_type": "display_data",
          "data": {
            "text/plain": [
              "<Figure size 432x288 with 1 Axes>"
            ],
            "image/png": "[encoded data removed]"
          },
          "metadata": {
            "needs_background": "light"
          }
        }
      ]
    },
    {
      "cell_type": "code",
      "source": [
        "plt.plot(x, y1, label=\"y=sin(x)\", color='red', linewidth=1, linestyle='--')\n",
        "plt.plot(x, y2, label=\"y=cos(x)\", color='green', linewidth=5)\n",
        "plt.ylim(-5, 5)\n",
        "plt.legend(fontsize = 20)\n",
        "plt.xlabel('x', fontsize=10)\n",
        "plt.ylabel('y', fontsize=10)"
      ],
      "metadata": {
        "colab": {
          "base_uri": "https://localhost:8080/",
          "height": 296
        },
        "id": "krijV3Xw2bko",
        "outputId": "e9fd1fe9-9af6-4b24-86bd-5442ac5a1330"
      },
      "execution_count": null,
      "outputs": [
        {
          "output_type": "execute_result",
          "data": {
            "text/plain": [
              "Text(0, 0.5, 'y')"
            ]
          },
          "metadata": {},
          "execution_count": 19
        },
        {
          "output_type": "display_data",
          "data": {
            "text/plain": [
              "<Figure size 432x288 with 1 Axes>"
            ],
            "image/png": "[encoded data removed]"
          },
          "metadata": {
            "needs_background": "light"
          }
        }
      ]
    },
    {
      "cell_type": "markdown",
      "source": [
        "***Make a copy of the above code cell and modify it*** to change colors, line widths, ylim, the legend and font sizes."
      ],
      "metadata": {
        "id": "YltPEbPUnRHP"
      }
    },
    {
      "cell_type": "markdown",
      "metadata": {
        "id": "dl-oiEjyA3TV"
      },
      "source": [
        "Now let's play with making some new functions of x. I'm defining a new x below that exists only on the range [0,1]. Note how you can get exponents by typing two asterisks. I've also gotten a little fancier with my legend. Play with changing the loc parameter in the legend function (try loc=1, loc=2) to see what happens! The parameter name loc is a nickname for location.\n",
        "\n",
        "Also, notice that I didn't specify any colors here. Matplotlib will automatically plot your different lines as different colors, where blue is always first, green second, red third, etc. So, even if you don't specify your own colors, you can tell the different lines apart. "
      ]
    },
    {
      "cell_type": "code",
      "metadata": {
        "id": "WEhpQ4DyA3TV",
        "colab": {
          "base_uri": "https://localhost:8080/",
          "height": 300
        },
        "outputId": "f19c4e3a-9fa6-4b98-a89f-da7e0855d36b"
      },
      "source": [
        "x=np.arange(0, 1, 0.01)\n",
        "y2 = x**3\n",
        "y3 = x**(1./2.)\n",
        "y4 = 2*x-x**2\n",
        "plt.plot(x, y2, linewidth=3, label=r'$y=x^3$')\n",
        "plt.plot(x, y3, linewidth=3, label=r'$y=x^{1/2}$')\n",
        "plt.plot(x, y4, linewidth=3, label=r'$y=2x-x^2$')\n",
        "plt.legend(loc=0, fontsize=12)\n",
        "plt.xlabel('x', fontsize=14)\n",
        "plt.ylabel('y', fontsize=14)"
      ],
      "execution_count": null,
      "outputs": [
        {
          "output_type": "execute_result",
          "data": {
            "text/plain": [
              "Text(0, 0.5, 'y')"
            ]
          },
          "metadata": {},
          "execution_count": 20
        },
        {
          "output_type": "display_data",
          "data": {
            "text/plain": [
              "<Figure size 432x288 with 1 Axes>"
            ],
            "image/png": "[encoded data removed]"
          },
          "metadata": {
            "needs_background": "light"
          }
        }
      ]
    },
    {
      "cell_type": "code",
      "source": [
        "x=np.arange(0, 3, 0.05)\n",
        "y2 = x**3\n",
        "y3 = x**(1./2.)\n",
        "y4 = 2*x-x**2\n",
        "plt.plot(x, y2, linewidth=3, label=r'$y=x^4$')\n",
        "plt.plot(x, y3, linewidth=3, label=r'$y=x^{1/3}$')\n",
        "plt.plot(x, y4, linewidth=3, label=r'$y=2x-x^2$')\n",
        "plt.legend(loc=1, fontsize=9)\n",
        "plt.xlabel('x', fontsize=14)\n",
        "plt.ylabel('y', fontsize=14)"
      ],
      "metadata": {
        "colab": {
          "base_uri": "https://localhost:8080/",
          "height": 300
        },
        "id": "xC4KDtMu28Dk",
        "outputId": "84ab7354-59c5-4a57-bba1-446e6dc7535b"
      },
      "execution_count": null,
      "outputs": [
        {
          "output_type": "execute_result",
          "data": {
            "text/plain": [
              "Text(0, 0.5, 'y')"
            ]
          },
          "metadata": {},
          "execution_count": 25
        },
        {
          "output_type": "display_data",
          "data": {
            "text/plain": [
              "<Figure size 432x288 with 1 Axes>"
            ],
            "image/png": "[encoded data removed]"
          },
          "metadata": {
            "needs_background": "light"
          }
        }
      ]
    },
    {
      "cell_type": "markdown",
      "source": [
        "***Make a copy of the above code cell and modify it*** to change loc and font sizes. Even better - change the array and the equations."
      ],
      "metadata": {
        "id": "Rrv255Khnz1A"
      }
    },
    {
      "cell_type": "markdown",
      "metadata": {
        "id": "DMjYAiwRA3Tb"
      },
      "source": [
        "# Wrap up\n",
        "That's your introduction to Jupyter, NumPy and Matplotlib! If you ever aren't sure how to do something in Python, or if you are getting an error message, remember that **Google is your friend**! If you ever want to do something math-related, say generate a bunch of random numbers, Google \"numpy random numbers\" and you'll find what you're looking for. Same goes for Matplotlib and anything plotting related!\n",
        "\n",
        "Your SEES Python mentor reminds you to be careful about which sites you gather coding advice from. Look for Google hits that reference reputable sites like the Python open source site, [www.python.org](https://www.python.org/) and [StackOverflow](https://stackoverflow.com/questions/tagged/python). Also, make sure that the advice pertains to the correct version of Python. Remember, we are using Python 3."
      ]
    },
    {
      "cell_type": "markdown",
      "metadata": {
        "id": "RpV_unYjB4wm"
      },
      "source": [
        "# What's next?\n",
        "### Basic Level\n",
        "You have completed your second Colab Jupyter notebook. if you are completing the **basic** level, it's time to watch the next four PyaR videos linked in the assignment. Then take the Notebook 2 quiz.\n",
        "### Intermediate Level\n",
        "If this is your **second** time around and you are completing the **Intermediate** Level, add a text cell at the very beginning of your notebook. This cell should contain your full name, your Project Team name and code, and the date. You can be creative with text Markup, if you choose.<br>\n",
        "Follow the instructions in the notebook. Be sure that each code block that generates output in the notebook displays that output. **Make all suggested changes.** Save your work and submit the notebook as your assignment."
      ]
    },
    {
      "cell_type": "markdown",
      "metadata": {
        "id": "tq8qOajQBbol"
      },
      "source": [
        "# CREDIT: Prof. Raja GuhaThakurta of UCSC and the Science Internship Program\n",
        "This Python tutorial was originally developed by Dr. Raja GuhaThakurta and his astronomy graduate students as part of the [Science Internship Program (SIP)](http://ucsc-sip.org/about/) for Bay Area high school students at the University of California Santa Cruz (UCSC). Dr. GuhaThakurta's tutorial is called Python and Research (PyaR).\n",
        "\n",
        "SEES thanks Dr. GuhaThakurta for his generosity in sharing his Jupyter notebooks, video tutorials, data, and related resources.\n",
        "\n",
        "In 2020, a SEES mentor adapted Dr. GuhaThakurta's tutorials to run in the Google Colaboratory. The notebook has been updated for SEES 2022."
      ]
    }
  ]
}